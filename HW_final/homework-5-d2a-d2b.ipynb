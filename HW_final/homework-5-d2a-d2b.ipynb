{
 "cells": [
  {
   "cell_type": "markdown",
   "metadata": {},
   "source": [
    "### Deliverable 2a: Products Dimension table"
   ]
  },
  {
   "cell_type": "code",
   "execution_count": 1,
   "metadata": {},
   "outputs": [],
   "source": [
    "import pandas as pd\n",
    "import numpy as np\n",
    "import sqlite3 as lite"
   ]
  },
  {
   "cell_type": "code",
   "execution_count": 2,
   "metadata": {},
   "outputs": [],
   "source": [
    "output_file_path = \"./output/\""
   ]
  },
  {
   "cell_type": "code",
   "execution_count": 3,
   "metadata": {},
   "outputs": [],
   "source": [
    "# Load data\n",
    "products = pd.read_csv(\"Products1.txt\", delimiter=\"|\")\n",
    "product_class = pd.read_csv(\"product_class.csv\")\n",
    "\n",
    "conformed_products = pd.read_csv('./ConformedProducts2.txt', delimiter=\"\\t\")"
   ]
  },
  {
   "cell_type": "code",
   "execution_count": 4,
   "metadata": {},
   "outputs": [
    {
     "data": {
      "text/plain": [
       "111"
      ]
     },
     "execution_count": 4,
     "metadata": {},
     "output_type": "execute_result"
    }
   ],
   "source": [
    "# Create mapping dictionaries\n",
    "subcategory_map = dict(\n",
    "    zip(product_class['product_subcategory'], product_class['product_class_id']))\n",
    "\n",
    "len(subcategory_map)"
   ]
  },
  {
   "cell_type": "code",
   "execution_count": 5,
   "metadata": {},
   "outputs": [
    {
     "data": {
      "text/plain": [
       "['Nuts',\n",
       " 'Shellfish',\n",
       " 'Canned Fruit',\n",
       " 'Spices',\n",
       " 'Pasta',\n",
       " 'Yogurt',\n",
       " 'Coffee',\n",
       " 'Deli Meats',\n",
       " 'Ice Cream',\n",
       " 'TV Dinner',\n",
       " 'Cheese',\n",
       " 'Chips',\n",
       " 'Fresh Vegetables',\n",
       " 'Sour Cream',\n",
       " 'Cottage Cheese',\n",
       " 'Deli Salads',\n",
       " 'Dried Meat',\n",
       " 'Paper Wipes',\n",
       " 'Soda',\n",
       " 'Deodorizers']"
      ]
     },
     "execution_count": 5,
     "metadata": {},
     "output_type": "execute_result"
    }
   ],
   "source": [
    "subcategory_list = list(subcategory_map.keys())\n",
    "subcategory_list[:20]"
   ]
  },
  {
   "cell_type": "code",
   "execution_count": 6,
   "metadata": {},
   "outputs": [
    {
     "name": "stdout",
     "output_type": "stream",
     "text": [
      "ItemType matched with subcategory =>  1186\n"
     ]
    }
   ],
   "source": [
    "products['clean_itemType'] = products['itemType'].copy()\n",
    "\n",
    "\n",
    "# ItemType in subcategory\n",
    "valid_mask = products['clean_itemType'].isin(subcategory_map.keys())\n",
    "print(\"ItemType matched with subcategory => \", valid_mask.sum())"
   ]
  },
  {
   "cell_type": "code",
   "execution_count": 7,
   "metadata": {},
   "outputs": [
    {
     "name": "stdout",
     "output_type": "stream",
     "text": [
      "ItemType which are not null and not valid =>  595\n"
     ]
    }
   ],
   "source": [
    "needed_mapping = ~valid_mask & products['clean_itemType'].notna()\n",
    "print(\"ItemType which are not null and not valid => \", needed_mapping.sum())"
   ]
  },
  {
   "cell_type": "code",
   "execution_count": 8,
   "metadata": {},
   "outputs": [],
   "source": [
    "conn = lite.connect(\"store1.db\")\n",
    "curr = conn.cursor()"
   ]
  },
  {
   "cell_type": "code",
   "execution_count": 9,
   "metadata": {},
   "outputs": [
    {
     "data": {
      "text/plain": [
       "<sqlite3.Cursor at 0x1640b046cc0>"
      ]
     },
     "execution_count": 9,
     "metadata": {},
     "output_type": "execute_result"
    }
   ],
   "source": [
    "curr.execute(\"DROP TABLE IF EXISTS ProductDimension\")\n",
    "\n",
    "curr.execute(\"\"\"\n",
    "    CREATE TABLE ProductDimension (\n",
    "    ProductKey INTEGER PRIMARY KEY AUTOINCREMENT,\n",
    "    SKU VARCHAR(50) NOT NULL,\n",
    "    ProductName VARCHAR(255) NOT NULL,\n",
    "    ProductClassID INT NOT NULL,\n",
    "    Subcategory VARCHAR(100) NOT NULL,\n",
    "    Category VARCHAR(100) NOT NULL,\n",
    "    Department VARCHAR(100) NOT NULL,\n",
    "    ProductFamily VARCHAR(100) NOT NULL,\n",
    "    Size VARCHAR(50),\n",
    "    PerCase INT NOT NULL,\n",
    "    BrandName VARCHAR(100),\n",
    "    Supplier VARCHAR(100) NOT NULL\n",
    "    );\n",
    "\n",
    "\"\"\")"
   ]
  },
  {
   "cell_type": "code",
   "execution_count": 10,
   "metadata": {},
   "outputs": [
    {
     "data": {
      "text/plain": [
       "2075"
      ]
     },
     "execution_count": 10,
     "metadata": {},
     "output_type": "execute_result"
    }
   ],
   "source": [
    "conformed_products.to_sql(\"ProductDimension\", conn, if_exists=\"replace\", index=False)"
   ]
  },
  {
   "cell_type": "code",
   "execution_count": 11,
   "metadata": {},
   "outputs": [
    {
     "data": {
      "text/plain": [
       "Index(['ProductKey', 'sku', 'product_name', 'product_class_id', 'subcategory',\n",
       "       'category', 'department', 'product_family', 'size', 'brandName',\n",
       "       'supplier'],\n",
       "      dtype='object')"
      ]
     },
     "execution_count": 11,
     "metadata": {},
     "output_type": "execute_result"
    }
   ],
   "source": [
    "columns = conformed_products.columns\n",
    "columns"
   ]
  },
  {
   "cell_type": "code",
   "execution_count": 12,
   "metadata": {},
   "outputs": [
    {
     "data": {
      "text/html": [
       "<div>\n",
       "<style scoped>\n",
       "    .dataframe tbody tr th:only-of-type {\n",
       "        vertical-align: middle;\n",
       "    }\n",
       "\n",
       "    .dataframe tbody tr th {\n",
       "        vertical-align: top;\n",
       "    }\n",
       "\n",
       "    .dataframe thead th {\n",
       "        text-align: right;\n",
       "    }\n",
       "</style>\n",
       "<table border=\"1\" class=\"dataframe\">\n",
       "  <thead>\n",
       "    <tr style=\"text-align: right;\">\n",
       "      <th></th>\n",
       "      <th>ProductKey</th>\n",
       "      <th>sku</th>\n",
       "      <th>product_name</th>\n",
       "      <th>product_class_id</th>\n",
       "      <th>subcategory</th>\n",
       "      <th>category</th>\n",
       "      <th>department</th>\n",
       "      <th>product_family</th>\n",
       "      <th>size</th>\n",
       "      <th>brandName</th>\n",
       "      <th>supplier</th>\n",
       "    </tr>\n",
       "  </thead>\n",
       "  <tbody>\n",
       "    <tr>\n",
       "      <th>0</th>\n",
       "      <td>1</td>\n",
       "      <td>42081001</td>\n",
       "      <td>Jambalaya Rice Mix</td>\n",
       "      <td>57</td>\n",
       "      <td>Rice</td>\n",
       "      <td>Starchy Foods</td>\n",
       "      <td>Starchy Foods</td>\n",
       "      <td>Food</td>\n",
       "      <td>12 oz</td>\n",
       "      <td>Zatarains</td>\n",
       "      <td>Rowan Warehouse</td>\n",
       "    </tr>\n",
       "    <tr>\n",
       "      <th>1</th>\n",
       "      <td>2</td>\n",
       "      <td>42082001</td>\n",
       "      <td>Jambalaya Rice Mix</td>\n",
       "      <td>57</td>\n",
       "      <td>Rice</td>\n",
       "      <td>Starchy Foods</td>\n",
       "      <td>Starchy Foods</td>\n",
       "      <td>Food</td>\n",
       "      <td>8 oz</td>\n",
       "      <td>Zatarains</td>\n",
       "      <td>Rowan Warehouse</td>\n",
       "    </tr>\n",
       "    <tr>\n",
       "      <th>2</th>\n",
       "      <td>3</td>\n",
       "      <td>42083001</td>\n",
       "      <td>Guacamole Regular</td>\n",
       "      <td>99</td>\n",
       "      <td>Fresh Fruit</td>\n",
       "      <td>Fruit</td>\n",
       "      <td>Produce</td>\n",
       "      <td>Food</td>\n",
       "      <td>8 oz</td>\n",
       "      <td>Yucatan</td>\n",
       "      <td>Rowan Warehouse</td>\n",
       "    </tr>\n",
       "    <tr>\n",
       "      <th>3</th>\n",
       "      <td>4</td>\n",
       "      <td>42084001</td>\n",
       "      <td>Coffee Original Blend</td>\n",
       "      <td>90</td>\n",
       "      <td>Coffee</td>\n",
       "      <td>Hot Beverages</td>\n",
       "      <td>Beverages</td>\n",
       "      <td>Drink</td>\n",
       "      <td>12 oz</td>\n",
       "      <td>Yuban</td>\n",
       "      <td>Rowan Warehouse</td>\n",
       "    </tr>\n",
       "    <tr>\n",
       "      <th>4</th>\n",
       "      <td>5</td>\n",
       "      <td>42085001</td>\n",
       "      <td>GoGurt Variety Pack</td>\n",
       "      <td>6</td>\n",
       "      <td>Yogurt</td>\n",
       "      <td>Dairy</td>\n",
       "      <td>Dairy</td>\n",
       "      <td>Food</td>\n",
       "      <td>8 ct</td>\n",
       "      <td>Yoplait</td>\n",
       "      <td>Rowan Warehouse</td>\n",
       "    </tr>\n",
       "    <tr>\n",
       "      <th>5</th>\n",
       "      <td>6</td>\n",
       "      <td>42086001</td>\n",
       "      <td>Italian Dressing</td>\n",
       "      <td>260</td>\n",
       "      <td>Dressings</td>\n",
       "      <td>Baking Goods</td>\n",
       "      <td>Baking Products</td>\n",
       "      <td>Food</td>\n",
       "      <td>16 oz</td>\n",
       "      <td>Wishbone</td>\n",
       "      <td>Rowan Warehouse</td>\n",
       "    </tr>\n",
       "    <tr>\n",
       "      <th>6</th>\n",
       "      <td>7</td>\n",
       "      <td>42087001</td>\n",
       "      <td>Cheeseburger Heat &amp; Serve Sliders</td>\n",
       "      <td>65</td>\n",
       "      <td>Hamburger</td>\n",
       "      <td>Meat</td>\n",
       "      <td>Meat</td>\n",
       "      <td>Food</td>\n",
       "      <td>29.28 oz</td>\n",
       "      <td>White Castle</td>\n",
       "      <td>Rowan Warehouse</td>\n",
       "    </tr>\n",
       "    <tr>\n",
       "      <th>7</th>\n",
       "      <td>8</td>\n",
       "      <td>42088001</td>\n",
       "      <td>Choice Cuts Poultry</td>\n",
       "      <td>77</td>\n",
       "      <td>Fresh Chicken</td>\n",
       "      <td>Meat</td>\n",
       "      <td>Deli</td>\n",
       "      <td>Food</td>\n",
       "      <td>36 oz</td>\n",
       "      <td>Whiskas</td>\n",
       "      <td>Rowan Warehouse</td>\n",
       "    </tr>\n",
       "    <tr>\n",
       "      <th>8</th>\n",
       "      <td>9</td>\n",
       "      <td>42089001</td>\n",
       "      <td>Farmers Pick Concord Grape</td>\n",
       "      <td>99</td>\n",
       "      <td>Fresh Fruit</td>\n",
       "      <td>Fruit</td>\n",
       "      <td>Produce</td>\n",
       "      <td>Food</td>\n",
       "      <td>46 oz</td>\n",
       "      <td>Welchs</td>\n",
       "      <td>Rowan Warehouse</td>\n",
       "    </tr>\n",
       "    <tr>\n",
       "      <th>9</th>\n",
       "      <td>10</td>\n",
       "      <td>42090001</td>\n",
       "      <td>Juice Red Grape</td>\n",
       "      <td>30</td>\n",
       "      <td>Juice</td>\n",
       "      <td>Pure Juice Beverages</td>\n",
       "      <td>Beverages</td>\n",
       "      <td>Drink</td>\n",
       "      <td>64 oz</td>\n",
       "      <td>Welchs</td>\n",
       "      <td>Rowan Warehouse</td>\n",
       "    </tr>\n",
       "  </tbody>\n",
       "</table>\n",
       "</div>"
      ],
      "text/plain": [
       "   ProductKey       sku                       product_name  product_class_id  \\\n",
       "0           1  42081001                 Jambalaya Rice Mix                57   \n",
       "1           2  42082001                 Jambalaya Rice Mix                57   \n",
       "2           3  42083001                  Guacamole Regular                99   \n",
       "3           4  42084001              Coffee Original Blend                90   \n",
       "4           5  42085001                GoGurt Variety Pack                 6   \n",
       "5           6  42086001                   Italian Dressing               260   \n",
       "6           7  42087001  Cheeseburger Heat & Serve Sliders                65   \n",
       "7           8  42088001                Choice Cuts Poultry                77   \n",
       "8           9  42089001         Farmers Pick Concord Grape                99   \n",
       "9          10  42090001                    Juice Red Grape                30   \n",
       "\n",
       "     subcategory              category       department product_family  \\\n",
       "0           Rice         Starchy Foods    Starchy Foods           Food   \n",
       "1           Rice         Starchy Foods    Starchy Foods           Food   \n",
       "2    Fresh Fruit                 Fruit          Produce           Food   \n",
       "3         Coffee         Hot Beverages        Beverages          Drink   \n",
       "4         Yogurt                 Dairy            Dairy           Food   \n",
       "5      Dressings          Baking Goods  Baking Products           Food   \n",
       "6      Hamburger                  Meat             Meat           Food   \n",
       "7  Fresh Chicken                  Meat             Deli           Food   \n",
       "8    Fresh Fruit                 Fruit          Produce           Food   \n",
       "9          Juice  Pure Juice Beverages        Beverages          Drink   \n",
       "\n",
       "       size     brandName         supplier  \n",
       "0     12 oz     Zatarains  Rowan Warehouse  \n",
       "1      8 oz     Zatarains  Rowan Warehouse  \n",
       "2      8 oz       Yucatan  Rowan Warehouse  \n",
       "3     12 oz         Yuban  Rowan Warehouse  \n",
       "4      8 ct       Yoplait  Rowan Warehouse  \n",
       "5     16 oz      Wishbone  Rowan Warehouse  \n",
       "6  29.28 oz  White Castle  Rowan Warehouse  \n",
       "7     36 oz       Whiskas  Rowan Warehouse  \n",
       "8     46 oz        Welchs  Rowan Warehouse  \n",
       "9     64 oz        Welchs  Rowan Warehouse  "
      ]
     },
     "execution_count": 12,
     "metadata": {},
     "output_type": "execute_result"
    }
   ],
   "source": [
    "curr.execute(\"Select * from ProductDimension\")\n",
    "\n",
    "rows = curr.fetchall()\n",
    "\n",
    "product_dim = pd.DataFrame(rows, columns=columns)\n",
    "product_dim.head(10)"
   ]
  },
  {
   "cell_type": "code",
   "execution_count": 13,
   "metadata": {},
   "outputs": [],
   "source": [
    "product_dim.to_csv(f\"{output_file_path}ProductDimension-final.csv\", index=False)"
   ]
  },
  {
   "cell_type": "markdown",
   "metadata": {},
   "source": [
    "##### Deliverable 2b Implementation: Metadata Tracking and Date Standardization"
   ]
  },
  {
   "cell_type": "markdown",
   "metadata": {},
   "source": [
    "##### Metadata Tracking System"
   ]
  },
  {
   "cell_type": "code",
   "execution_count": 14,
   "metadata": {},
   "outputs": [],
   "source": [
    "source_definition = pd.DataFrame({\n",
    "    'source_id': [1, 2, 3, 4, 5],\n",
    "    'source_description': [\n",
    "        'Original product table',\n",
    "        'Manually mapped by Pavan Kumar Mistry',\n",
    "        'String match (e.g., Product Name contains \"Frito Lay\" → \"Chips\")',\n",
    "        'Fuzzy matched from itemType',\n",
    "        'Keyword analysis from Product Name'\n",
    "    ],\n",
    "    'responsible_party': [\n",
    "        'ETL System',\n",
    "        'Pavan Kumar Mistry',\n",
    "        'Automated Matcher',\n",
    "        'Fuzzy Matching Algorithm',\n",
    "        'Keyword Analyzer'\n",
    "    ]\n",
    "\n",
    "})"
   ]
  },
  {
   "cell_type": "code",
   "execution_count": 15,
   "metadata": {},
   "outputs": [],
   "source": [
    "valid_mask = products['clean_itemType'].isin(subcategory_map.keys())\n",
    "needed_mapping = ~valid_mask & products['clean_itemType'].notna()\n",
    "still_null = products['clean_itemType'].isna()"
   ]
  },
  {
   "cell_type": "code",
   "execution_count": 16,
   "metadata": {},
   "outputs": [
    {
     "data": {
      "text/plain": [
       "np.False_"
      ]
     },
     "execution_count": 16,
     "metadata": {},
     "output_type": "execute_result"
    }
   ],
   "source": [
    "all_in_map = products['clean_itemType'].apply(\n",
    "    lambda x: x in subcategory_map.keys()).all()\n",
    "\n",
    "all_in_map"
   ]
  },
  {
   "cell_type": "code",
   "execution_count": 17,
   "metadata": {},
   "outputs": [],
   "source": [
    "if all_in_map:\n",
    "    # tracking based on whether itemType was modified\n",
    "    product_sources = pd.DataFrame({\n",
    "        'SKU': products['SKU'],\n",
    "        'source_id': np.where(\n",
    "            products['itemType'] == products['clean_itemType'],\n",
    "            1,  # original matched exactly\n",
    "            np.where(\n",
    "                products['itemType'].isna(),\n",
    "                4,  # came from keyword analysis\n",
    "                3   # was modified through fuzzy/string matching\n",
    "            )\n",
    "        ),\n",
    "        'mapping_date': pd.Timestamp.now().strftime('%Y%m%d')\n",
    "    })\n",
    "else:\n",
    "    # Original logic if not all values are in the map\n",
    "    valid_mask = products['clean_itemType'].isin(subcategory_map.keys())\n",
    "    needed_mapping = ~valid_mask & products['clean_itemType'].notna()\n",
    "    still_null = products['clean_itemType'].isna()\n",
    "\n",
    "    product_sources = pd.DataFrame({\n",
    "        'SKU': products['SKU'],\n",
    "        'source_id': np.where(\n",
    "            valid_mask, 1,\n",
    "            np.where(\n",
    "                needed_mapping, 3,  # modified though fuzzy/string matching\n",
    "                np.where(\n",
    "                    still_null, 4,  # using keyword analysis\n",
    "                    2  # Manually\n",
    "                )\n",
    "            )\n",
    "        ),\n",
    "        'mapping_date': pd.Timestamp.now().strftime('%Y%m%d')\n",
    "    })"
   ]
  },
  {
   "cell_type": "code",
   "execution_count": 18,
   "metadata": {},
   "outputs": [],
   "source": [
    "# Test\n",
    "assert len(product_sources) == len(products), \"Lengths still don't match!\""
   ]
  },
  {
   "cell_type": "code",
   "execution_count": 19,
   "metadata": {},
   "outputs": [
    {
     "data": {
      "text/plain": [
       "<sqlite3.Cursor at 0x1640b046cc0>"
      ]
     },
     "execution_count": 19,
     "metadata": {},
     "output_type": "execute_result"
    }
   ],
   "source": [
    "# Create tables\n",
    "curr.execute(\"DROP TABLE IF EXISTS SourceDefinitions\")\n",
    "curr.execute(\"\"\"\n",
    "    CREATE TABLE SourceDefinitions (\n",
    "        source_id INT PRIMARY KEY,\n",
    "        source_description TEXT NOT NULL,\n",
    "        responsible_party TEXT NOT NULL\n",
    "    );\n",
    "\"\"\")"
   ]
  },
  {
   "cell_type": "code",
   "execution_count": 20,
   "metadata": {},
   "outputs": [
    {
     "data": {
      "text/plain": [
       "5"
      ]
     },
     "execution_count": 20,
     "metadata": {},
     "output_type": "execute_result"
    }
   ],
   "source": [
    "source_definition.to_sql(\"SourceDefinitions\", conn, if_exists=\"replace\", index=False)"
   ]
  },
  {
   "cell_type": "code",
   "execution_count": 21,
   "metadata": {},
   "outputs": [
    {
     "name": "stdout",
     "output_type": "stream",
     "text": [
      "(1, 'Original product table', 'ETL System')\n",
      "(2, 'Manually mapped by Pavan Kumar Mistry', 'Pavan Kumar Mistry')\n",
      "(3, 'String match (e.g., Product Name contains \"Frito Lay\" → \"Chips\")', 'Automated Matcher')\n",
      "(4, 'Fuzzy matched from itemType', 'Fuzzy Matching Algorithm')\n",
      "(5, 'Keyword analysis from Product Name', 'Keyword Analyzer')\n"
     ]
    }
   ],
   "source": [
    "res = curr.execute(\"select * from SourceDefinitions\")\n",
    "rows = curr.fetchall()\n",
    "for row in rows:\n",
    "    print(row)"
   ]
  },
  {
   "cell_type": "code",
   "execution_count": 22,
   "metadata": {},
   "outputs": [],
   "source": [
    "source_definition.to_csv(f\"{output_file_path}SourceDefinitions.csv\", index=False)"
   ]
  },
  {
   "cell_type": "code",
   "execution_count": 23,
   "metadata": {},
   "outputs": [
    {
     "data": {
      "text/plain": [
       "<sqlite3.Cursor at 0x1640b046cc0>"
      ]
     },
     "execution_count": 23,
     "metadata": {},
     "output_type": "execute_result"
    }
   ],
   "source": [
    "curr.execute(\"DROP TABLE IF EXISTS ProductMetaData\")\n",
    "curr.execute(\"\"\"\n",
    "    CREATE TABLE ProductMetaData (\n",
    "        SKU VARCHAR(50) NOT NULL,\n",
    "        source_id INT NOT NULL,\n",
    "        mapping_date CHAR(8) NOT NULL,\n",
    "        PRIMARY KEY (SKU, source_id),\n",
    "        FOREIGN KEY (source_id) REFERENCES SourceDefinitions(source_id),\n",
    "        FOREIGN KEY (SKU) REFERENCES ProductDimension(SKU)\n",
    "    );\n",
    "\"\"\")"
   ]
  },
  {
   "cell_type": "code",
   "execution_count": 24,
   "metadata": {},
   "outputs": [
    {
     "data": {
      "text/plain": [
       "2075"
      ]
     },
     "execution_count": 24,
     "metadata": {},
     "output_type": "execute_result"
    }
   ],
   "source": [
    "product_sources.to_sql(\"ProductMetaData\", conn, if_exists='replace', index=False)"
   ]
  },
  {
   "cell_type": "code",
   "execution_count": 25,
   "metadata": {},
   "outputs": [],
   "source": [
    "product_sources.to_csv(f\"{output_file_path}ProductMetaData-final.csv\", index=False)"
   ]
  },
  {
   "cell_type": "code",
   "execution_count": 26,
   "metadata": {},
   "outputs": [
    {
     "data": {
      "text/html": [
       "<div>\n",
       "<style scoped>\n",
       "    .dataframe tbody tr th:only-of-type {\n",
       "        vertical-align: middle;\n",
       "    }\n",
       "\n",
       "    .dataframe tbody tr th {\n",
       "        vertical-align: top;\n",
       "    }\n",
       "\n",
       "    .dataframe thead th {\n",
       "        text-align: right;\n",
       "    }\n",
       "</style>\n",
       "<table border=\"1\" class=\"dataframe\">\n",
       "  <thead>\n",
       "    <tr style=\"text-align: right;\">\n",
       "      <th></th>\n",
       "      <th>SKU</th>\n",
       "      <th>source_id</th>\n",
       "      <th>mapping_date</th>\n",
       "    </tr>\n",
       "  </thead>\n",
       "  <tbody>\n",
       "    <tr>\n",
       "      <th>1156</th>\n",
       "      <td>43242001</td>\n",
       "      <td>1</td>\n",
       "      <td>20250503</td>\n",
       "    </tr>\n",
       "    <tr>\n",
       "      <th>421</th>\n",
       "      <td>42502001</td>\n",
       "      <td>1</td>\n",
       "      <td>20250503</td>\n",
       "    </tr>\n",
       "    <tr>\n",
       "      <th>1743</th>\n",
       "      <td>43829001</td>\n",
       "      <td>1</td>\n",
       "      <td>20250503</td>\n",
       "    </tr>\n",
       "    <tr>\n",
       "      <th>751</th>\n",
       "      <td>42834001</td>\n",
       "      <td>1</td>\n",
       "      <td>20250503</td>\n",
       "    </tr>\n",
       "    <tr>\n",
       "      <th>378</th>\n",
       "      <td>42459001</td>\n",
       "      <td>1</td>\n",
       "      <td>20250503</td>\n",
       "    </tr>\n",
       "    <tr>\n",
       "      <th>935</th>\n",
       "      <td>43019001</td>\n",
       "      <td>1</td>\n",
       "      <td>20250503</td>\n",
       "    </tr>\n",
       "    <tr>\n",
       "      <th>558</th>\n",
       "      <td>42639001</td>\n",
       "      <td>4</td>\n",
       "      <td>20250503</td>\n",
       "    </tr>\n",
       "    <tr>\n",
       "      <th>519</th>\n",
       "      <td>42600001</td>\n",
       "      <td>1</td>\n",
       "      <td>20250503</td>\n",
       "    </tr>\n",
       "    <tr>\n",
       "      <th>1027</th>\n",
       "      <td>43113001</td>\n",
       "      <td>1</td>\n",
       "      <td>20250503</td>\n",
       "    </tr>\n",
       "    <tr>\n",
       "      <th>303</th>\n",
       "      <td>42384001</td>\n",
       "      <td>4</td>\n",
       "      <td>20250503</td>\n",
       "    </tr>\n",
       "  </tbody>\n",
       "</table>\n",
       "</div>"
      ],
      "text/plain": [
       "           SKU  source_id mapping_date\n",
       "1156  43242001          1     20250503\n",
       "421   42502001          1     20250503\n",
       "1743  43829001          1     20250503\n",
       "751   42834001          1     20250503\n",
       "378   42459001          1     20250503\n",
       "935   43019001          1     20250503\n",
       "558   42639001          4     20250503\n",
       "519   42600001          1     20250503\n",
       "1027  43113001          1     20250503\n",
       "303   42384001          4     20250503"
      ]
     },
     "execution_count": 26,
     "metadata": {},
     "output_type": "execute_result"
    }
   ],
   "source": [
    "res = curr.execute(\"select * from ProductMetaData\")\n",
    "\n",
    "product_meta_data = pd.DataFrame(res, columns=[\"SKU\", \"source_id\", \"mapping_date\"])\n",
    "product_meta_data.sample(10)"
   ]
  },
  {
   "cell_type": "code",
   "execution_count": 27,
   "metadata": {},
   "outputs": [
    {
     "data": {
      "text/plain": [
       "source_id\n",
       "1    1186\n",
       "3     595\n",
       "4     294\n",
       "Name: count, dtype: int64"
      ]
     },
     "execution_count": 27,
     "metadata": {},
     "output_type": "execute_result"
    }
   ],
   "source": [
    "product_sources['source_id'].value_counts()"
   ]
  },
  {
   "cell_type": "code",
   "execution_count": 28,
   "metadata": {},
   "outputs": [],
   "source": [
    "curr.close()\n",
    "conn.close()"
   ]
  },
  {
   "cell_type": "code",
   "execution_count": null,
   "metadata": {},
   "outputs": [],
   "source": []
  },
  {
   "cell_type": "code",
   "execution_count": null,
   "metadata": {},
   "outputs": [],
   "source": []
  }
 ],
 "metadata": {
  "kernelspec": {
   "display_name": "Python 3",
   "language": "python",
   "name": "python3"
  },
  "language_info": {
   "codemirror_mode": {
    "name": "ipython",
    "version": 3
   },
   "file_extension": ".py",
   "mimetype": "text/x-python",
   "name": "python",
   "nbconvert_exporter": "python",
   "pygments_lexer": "ipython3",
   "version": "3.13.3"
  }
 },
 "nbformat": 4,
 "nbformat_minor": 2
}
