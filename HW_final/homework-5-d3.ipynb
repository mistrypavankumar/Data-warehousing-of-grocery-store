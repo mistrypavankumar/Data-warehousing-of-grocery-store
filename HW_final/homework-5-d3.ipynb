{
 "cells": [
  {
   "cell_type": "markdown",
   "metadata": {},
   "source": [
    "### Deliverable-3"
   ]
  },
  {
   "cell_type": "code",
   "execution_count": 1,
   "metadata": {},
   "outputs": [],
   "source": [
    "import sqlite3 as lite\n",
    "import pandas as pd"
   ]
  },
  {
   "cell_type": "code",
   "execution_count": 2,
   "metadata": {},
   "outputs": [],
   "source": [
    "conn = lite.connect(\"store1.db\")\n",
    "cur = conn.cursor()\n",
    "\n",
    "output_file_path = \"./output/\""
   ]
  },
  {
   "cell_type": "code",
   "execution_count": 3,
   "metadata": {},
   "outputs": [
    {
     "data": {
      "text/plain": [
       "<sqlite3.Cursor at 0x150e4ab4c40>"
      ]
     },
     "execution_count": 3,
     "metadata": {},
     "output_type": "execute_result"
    }
   ],
   "source": [
    "cur.execute(\"DROP TABLE IF EXISTS StoreDimension\")\n",
    "\n",
    "cur.execute(\"\"\"\n",
    "    CREATE TABLE StoreDimension(\n",
    "            StoreKey int primary key,\n",
    "            StoreManager varchar(20),\n",
    "            StoreStreetAddr varchar(50),\n",
    "            StoreTown varchar(20),\n",
    "            StoreZipCode varchar(7),\n",
    "            \"StorePhone#\" varchar(10),\n",
    "            StoreState varchar(15)\n",
    "            )\n",
    "\"\"\")"
   ]
  },
  {
   "cell_type": "code",
   "execution_count": 4,
   "metadata": {},
   "outputs": [],
   "source": [
    "store_df = pd.DataFrame({\n",
    "    'StoreKey': [1, 2, 3, 4],\n",
    "    'StoreManager': ['Pavan Kumar Mistry', \"Anthony C\", \"Momin\", \"Johan-Bryan\"],\n",
    "    'StoreStreetAddr': ['123 Main St', '456 Broadway', '789 Market St', '321 Liberty Ave'],\n",
    "    'StoreTown': ['Glassboro', 'New York', 'Philadelphia', 'Jersey City'],\n",
    "    'StoreZipCode': ['08028', '10001', '19103', '07302'],\n",
    "    'StorePhone#': ['(856) 123-4567', '(212) 234-5678', '(215) 345-6789', '(201) 456-7890'],\n",
    "    'StoreState': ['NJ', 'NY', 'PA', 'NJ'],\n",
    "})"
   ]
  },
  {
   "cell_type": "code",
   "execution_count": 5,
   "metadata": {},
   "outputs": [
    {
     "data": {
      "text/html": [
       "<div>\n",
       "<style scoped>\n",
       "    .dataframe tbody tr th:only-of-type {\n",
       "        vertical-align: middle;\n",
       "    }\n",
       "\n",
       "    .dataframe tbody tr th {\n",
       "        vertical-align: top;\n",
       "    }\n",
       "\n",
       "    .dataframe thead th {\n",
       "        text-align: right;\n",
       "    }\n",
       "</style>\n",
       "<table border=\"1\" class=\"dataframe\">\n",
       "  <thead>\n",
       "    <tr style=\"text-align: right;\">\n",
       "      <th></th>\n",
       "      <th>StoreKey</th>\n",
       "      <th>StoreManager</th>\n",
       "      <th>StoreStreetAddr</th>\n",
       "      <th>StoreTown</th>\n",
       "      <th>StoreZipCode</th>\n",
       "      <th>StorePhone#</th>\n",
       "      <th>StoreState</th>\n",
       "    </tr>\n",
       "  </thead>\n",
       "  <tbody>\n",
       "    <tr>\n",
       "      <th>0</th>\n",
       "      <td>1</td>\n",
       "      <td>Pavan Kumar Mistry</td>\n",
       "      <td>123 Main St</td>\n",
       "      <td>Glassboro</td>\n",
       "      <td>08028</td>\n",
       "      <td>(856) 123-4567</td>\n",
       "      <td>NJ</td>\n",
       "    </tr>\n",
       "    <tr>\n",
       "      <th>1</th>\n",
       "      <td>2</td>\n",
       "      <td>Anthony C</td>\n",
       "      <td>456 Broadway</td>\n",
       "      <td>New York</td>\n",
       "      <td>10001</td>\n",
       "      <td>(212) 234-5678</td>\n",
       "      <td>NY</td>\n",
       "    </tr>\n",
       "    <tr>\n",
       "      <th>2</th>\n",
       "      <td>3</td>\n",
       "      <td>Momin</td>\n",
       "      <td>789 Market St</td>\n",
       "      <td>Philadelphia</td>\n",
       "      <td>19103</td>\n",
       "      <td>(215) 345-6789</td>\n",
       "      <td>PA</td>\n",
       "    </tr>\n",
       "    <tr>\n",
       "      <th>3</th>\n",
       "      <td>4</td>\n",
       "      <td>Johan-Bryan</td>\n",
       "      <td>321 Liberty Ave</td>\n",
       "      <td>Jersey City</td>\n",
       "      <td>07302</td>\n",
       "      <td>(201) 456-7890</td>\n",
       "      <td>NJ</td>\n",
       "    </tr>\n",
       "  </tbody>\n",
       "</table>\n",
       "</div>"
      ],
      "text/plain": [
       "   StoreKey        StoreManager  StoreStreetAddr     StoreTown StoreZipCode  \\\n",
       "0         1  Pavan Kumar Mistry      123 Main St     Glassboro        08028   \n",
       "1         2           Anthony C     456 Broadway      New York        10001   \n",
       "2         3               Momin    789 Market St  Philadelphia        19103   \n",
       "3         4         Johan-Bryan  321 Liberty Ave   Jersey City        07302   \n",
       "\n",
       "      StorePhone# StoreState  \n",
       "0  (856) 123-4567         NJ  \n",
       "1  (212) 234-5678         NY  \n",
       "2  (215) 345-6789         PA  \n",
       "3  (201) 456-7890         NJ  "
      ]
     },
     "execution_count": 5,
     "metadata": {},
     "output_type": "execute_result"
    }
   ],
   "source": [
    "store_df"
   ]
  },
  {
   "cell_type": "code",
   "execution_count": 6,
   "metadata": {},
   "outputs": [
    {
     "data": {
      "text/plain": [
       "4"
      ]
     },
     "execution_count": 6,
     "metadata": {},
     "output_type": "execute_result"
    }
   ],
   "source": [
    "store_df.to_sql('StoreDimension', conn, if_exists='replace', index=False)"
   ]
  },
  {
   "cell_type": "code",
   "execution_count": 7,
   "metadata": {},
   "outputs": [],
   "source": [
    "cur.close()\n",
    "conn.close()"
   ]
  },
  {
   "cell_type": "code",
   "execution_count": 8,
   "metadata": {},
   "outputs": [],
   "source": [
    "store_df.to_csv(f\"{output_file_path}StoreDimension-d3.csv\", index=False)"
   ]
  },
  {
   "cell_type": "code",
   "execution_count": null,
   "metadata": {},
   "outputs": [],
   "source": []
  },
  {
   "cell_type": "code",
   "execution_count": null,
   "metadata": {},
   "outputs": [],
   "source": []
  },
  {
   "cell_type": "code",
   "execution_count": null,
   "metadata": {},
   "outputs": [],
   "source": []
  }
 ],
 "metadata": {
  "kernelspec": {
   "display_name": "Python 3",
   "language": "python",
   "name": "python3"
  },
  "language_info": {
   "codemirror_mode": {
    "name": "ipython",
    "version": 3
   },
   "file_extension": ".py",
   "mimetype": "text/x-python",
   "name": "python",
   "nbconvert_exporter": "python",
   "pygments_lexer": "ipython3",
   "version": "3.13.3"
  }
 },
 "nbformat": 4,
 "nbformat_minor": 2
}
