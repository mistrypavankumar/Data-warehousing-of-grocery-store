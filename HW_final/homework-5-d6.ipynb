{
 "cells": [
  {
   "cell_type": "markdown",
   "metadata": {},
   "source": [
    "#### Deliverable 6: Sales Fact Table (Daily Level) Implementation"
   ]
  },
  {
   "cell_type": "code",
   "execution_count": 1,
   "metadata": {},
   "outputs": [],
   "source": [
    "import pandas as pd\n",
    "import sqlite3 as lite"
   ]
  },
  {
   "cell_type": "code",
   "execution_count": 2,
   "metadata": {},
   "outputs": [],
   "source": [
    "conn = lite.connect(\"store1.db\")\n",
    "output_file_path = \"./output/\""
   ]
  },
  {
   "cell_type": "code",
   "execution_count": 3,
   "metadata": {},
   "outputs": [],
   "source": [
    "# load dimension tables\n",
    "date_dim = pd.read_sql(\"select DateKey, Date from DateDimension\", conn)\n",
    "products = pd.read_sql(\"select ProductKey, SKU from ProductDimension\", conn)\n",
    "stores = pd.read_sql(\"select StoreKey from StoreDimension\", conn)"
   ]
  },
  {
   "cell_type": "code",
   "execution_count": 4,
   "metadata": {},
   "outputs": [],
   "source": [
    "store_databases = {\n",
    "    \"Store 1\": {\n",
    "        \"database_name\": \"store1.db\",\n",
    "        \"transactions_table_name\": \"sales_transactions\",\n",
    "    },\n",
    "    \"Store 2\": {\n",
    "        \"database_name\": \"store2.db\",\n",
    "        \"transactions_table_name\": \"sales_transactions\",\n",
    "    },\n",
    "    \"Store 3\": {\n",
    "        \"database_name\": \"store3.db\",\n",
    "        \"transactions_table_name\": \"sales_transactions\",\n",
    "    },\n",
    "    \"Store 4\": {\n",
    "        \"database_name\": \"store4.db\",\n",
    "        \"transactions_table_name\": \"sales_transactions\"\n",
    "    }\n",
    "}"
   ]
  },
  {
   "cell_type": "code",
   "execution_count": 5,
   "metadata": {},
   "outputs": [],
   "source": [
    "def load_all_transactions(store):\n",
    "    conn = lite.connect(store['database_name'])\n",
    "    table_name = store['transactions_table_name']\n",
    "\n",
    "    transactions_query = f\"select * from {table_name}\"\n",
    "    transaction_df = pd.read_sql(transactions_query, conn)\n",
    "\n",
    "    conn.close()\n",
    "    return transaction_df"
   ]
  },
  {
   "cell_type": "code",
   "execution_count": 7,
   "metadata": {},
   "outputs": [
    {
     "name": "stdout",
     "output_type": "stream",
     "text": [
      "Processing Store 1...\n",
      "Processing Store 2...\n",
      "Processing Store 3...\n",
      "Processing Store 4...\n"
     ]
    }
   ],
   "source": [
    "all_daily_transactions = []\n",
    "\n",
    "def new_func(transactions):\n",
    "    daily_agg = transactions.groupby(['DateKey', \"ProductKey\", \"StoreKey\"]).agg({\n",
    "        'QuantitySold': 'sum',\n",
    "        'TotalDollarSales': 'sum',\n",
    "        'TotalCostToStore': 'sum',\n",
    "        'GrossProfit': 'sum',\n",
    "        'customer_number': 'nunique'   # Count unique customers per day\n",
    "    }).reset_index()\n",
    "    \n",
    "    # Format TotalDollarSales to 2 decimal points\n",
    "    daily_agg['TotalDollarSales'] = daily_agg['TotalDollarSales'].round(2)\n",
    "    daily_agg['TotalCostToStore'] = daily_agg['TotalCostToStore'].round(2)\n",
    "    daily_agg['GrossProfit'] = daily_agg['GrossProfit'].round(2)\n",
    "    \n",
    "    return daily_agg\n",
    "\n",
    "for store_name, config in store_databases.items():\n",
    "    print(f\"Processing {store_name}...\")\n",
    "\n",
    "    # Load transactions\n",
    "    transactions = load_all_transactions(config)\n",
    "    transactions['StoreKey'] = store_name.split(\" \")[1]\n",
    "\n",
    "    # Convert date to datetime and merge with date dimension\n",
    "    transactions['temp_date'] = pd.to_datetime(transactions['date'])\n",
    "    transactions = transactions.merge(\n",
    "        date_dim,\n",
    "        left_on=\"temp_date\",\n",
    "        right_on=pd.to_datetime(date_dim['Date']),\n",
    "        how='left'\n",
    "    ).drop(columns=['temp_date', 'Date'])\n",
    "\n",
    "    # Ensure 'sku' is the same type as 'SKU'\n",
    "    transactions['sku'] = pd.to_numeric(\n",
    "        # Handles NaN if needed\n",
    "        transactions['sku'], errors='coerce').astype('Int64')\n",
    "\n",
    "    # Merge with product dimension\n",
    "    transactions = transactions.merge(\n",
    "        products,\n",
    "        left_on='sku',\n",
    "        right_on='sku',\n",
    "        how=\"left\"\n",
    "    )\n",
    "\n",
    "    # Calculate metrics\n",
    "    transactions['QuantitySold'] = transactions['cases_ordered'] * 12\n",
    "    transactions['TotalDollarSales'] = transactions['salesPrice'] * \\\n",
    "        transactions['QuantitySold']\n",
    "\n",
    "    # Assume the store buys the product at 70% of the retail price\n",
    "    transactions['TotalCostToStore'] = transactions['salesPrice'] * \\\n",
    "        0.7 * transactions['QuantitySold']\n",
    "\n",
    "    transactions['GrossProfit'] = transactions['TotalDollarSales'] - \\\n",
    "        transactions['TotalCostToStore']\n",
    "\n",
    "    # Group by DateKey, ProductKey, StoreKey to get daily aggregates\n",
    "    daily_agg = new_func(transactions)\n",
    "\n",
    "    # Rename columns to match the required schema\n",
    "    daily_agg = daily_agg.rename(columns={\n",
    "        'QuantitySold': '#SoldToday',\n",
    "        'TotalDollarSales': 'SalesTotal',\n",
    "        'TotalCostToStore': 'CostOfItemsSold',\n",
    "        'customer_number': 'DailyCustomerCount'\n",
    "    })\n",
    "\n",
    "    all_daily_transactions.append(daily_agg)"
   ]
  },
  {
   "cell_type": "code",
   "execution_count": 8,
   "metadata": {},
   "outputs": [],
   "source": [
    "# combine all stores data\n",
    "daily_sales_fact = pd.concat(all_daily_transactions)"
   ]
  },
  {
   "cell_type": "code",
   "execution_count": 9,
   "metadata": {},
   "outputs": [
    {
     "data": {
      "text/html": [
       "<div>\n",
       "<style scoped>\n",
       "    .dataframe tbody tr th:only-of-type {\n",
       "        vertical-align: middle;\n",
       "    }\n",
       "\n",
       "    .dataframe tbody tr th {\n",
       "        vertical-align: top;\n",
       "    }\n",
       "\n",
       "    .dataframe thead th {\n",
       "        text-align: right;\n",
       "    }\n",
       "</style>\n",
       "<table border=\"1\" class=\"dataframe\">\n",
       "  <thead>\n",
       "    <tr style=\"text-align: right;\">\n",
       "      <th></th>\n",
       "      <th>DateKey</th>\n",
       "      <th>ProductKey</th>\n",
       "      <th>StoreKey</th>\n",
       "      <th>#SoldToday</th>\n",
       "      <th>SalesTotal</th>\n",
       "      <th>CostOfItemsSold</th>\n",
       "      <th>GrossProfit</th>\n",
       "      <th>DailyCustomerCount</th>\n",
       "    </tr>\n",
       "  </thead>\n",
       "  <tbody>\n",
       "    <tr>\n",
       "      <th>321101</th>\n",
       "      <td>160</td>\n",
       "      <td>714</td>\n",
       "      <td>1</td>\n",
       "      <td>71700</td>\n",
       "      <td>157023.00</td>\n",
       "      <td>109916.10</td>\n",
       "      <td>47106.90</td>\n",
       "      <td>24</td>\n",
       "    </tr>\n",
       "    <tr>\n",
       "      <th>130483</th>\n",
       "      <td>65</td>\n",
       "      <td>1300</td>\n",
       "      <td>4</td>\n",
       "      <td>576</td>\n",
       "      <td>2338.56</td>\n",
       "      <td>1636.99</td>\n",
       "      <td>701.57</td>\n",
       "      <td>2</td>\n",
       "    </tr>\n",
       "    <tr>\n",
       "      <th>177883</th>\n",
       "      <td>89</td>\n",
       "      <td>166</td>\n",
       "      <td>4</td>\n",
       "      <td>44988</td>\n",
       "      <td>78279.12</td>\n",
       "      <td>54795.38</td>\n",
       "      <td>23483.74</td>\n",
       "      <td>23</td>\n",
       "    </tr>\n",
       "    <tr>\n",
       "      <th>26917</th>\n",
       "      <td>14</td>\n",
       "      <td>740</td>\n",
       "      <td>1</td>\n",
       "      <td>4800</td>\n",
       "      <td>14784.00</td>\n",
       "      <td>10348.80</td>\n",
       "      <td>4435.20</td>\n",
       "      <td>16</td>\n",
       "    </tr>\n",
       "    <tr>\n",
       "      <th>61458</th>\n",
       "      <td>31</td>\n",
       "      <td>925</td>\n",
       "      <td>3</td>\n",
       "      <td>25536</td>\n",
       "      <td>51838.08</td>\n",
       "      <td>36286.66</td>\n",
       "      <td>15551.42</td>\n",
       "      <td>28</td>\n",
       "    </tr>\n",
       "  </tbody>\n",
       "</table>\n",
       "</div>"
      ],
      "text/plain": [
       "        DateKey  ProductKey StoreKey  #SoldToday  SalesTotal  CostOfItemsSold  \\\n",
       "321101      160         714        1       71700   157023.00        109916.10   \n",
       "130483       65        1300        4         576     2338.56          1636.99   \n",
       "177883       89         166        4       44988    78279.12         54795.38   \n",
       "26917        14         740        1        4800    14784.00         10348.80   \n",
       "61458        31         925        3       25536    51838.08         36286.66   \n",
       "\n",
       "        GrossProfit  DailyCustomerCount  \n",
       "321101     47106.90                  24  \n",
       "130483       701.57                   2  \n",
       "177883     23483.74                  23  \n",
       "26917       4435.20                  16  \n",
       "61458      15551.42                  28  "
      ]
     },
     "execution_count": 9,
     "metadata": {},
     "output_type": "execute_result"
    }
   ],
   "source": [
    "daily_sales_fact.sample(5)"
   ]
  },
  {
   "cell_type": "code",
   "execution_count": 10,
   "metadata": {},
   "outputs": [
    {
     "data": {
      "text/plain": [
       "(1469153, 8)"
      ]
     },
     "execution_count": 10,
     "metadata": {},
     "output_type": "execute_result"
    }
   ],
   "source": [
    "daily_sales_fact.shape"
   ]
  },
  {
   "cell_type": "code",
   "execution_count": 11,
   "metadata": {},
   "outputs": [
    {
     "data": {
      "text/plain": [
       "StoreKey\n",
       "4    367590\n",
       "3    367468\n",
       "2    367330\n",
       "1    366765\n",
       "Name: count, dtype: int64"
      ]
     },
     "execution_count": 11,
     "metadata": {},
     "output_type": "execute_result"
    }
   ],
   "source": [
    "daily_sales_fact['StoreKey'].value_counts()"
   ]
  },
  {
   "cell_type": "markdown",
   "metadata": {},
   "source": [
    "##### Filter out any rows with missing keys"
   ]
  },
  {
   "cell_type": "code",
   "execution_count": 12,
   "metadata": {},
   "outputs": [
    {
     "data": {
      "text/html": [
       "<div>\n",
       "<style scoped>\n",
       "    .dataframe tbody tr th:only-of-type {\n",
       "        vertical-align: middle;\n",
       "    }\n",
       "\n",
       "    .dataframe tbody tr th {\n",
       "        vertical-align: top;\n",
       "    }\n",
       "\n",
       "    .dataframe thead th {\n",
       "        text-align: right;\n",
       "    }\n",
       "</style>\n",
       "<table border=\"1\" class=\"dataframe\">\n",
       "  <thead>\n",
       "    <tr style=\"text-align: right;\">\n",
       "      <th></th>\n",
       "      <th>DateKey</th>\n",
       "      <th>ProductKey</th>\n",
       "      <th>StoreKey</th>\n",
       "      <th>#SoldToday</th>\n",
       "      <th>SalesTotal</th>\n",
       "      <th>CostOfItemsSold</th>\n",
       "      <th>GrossProfit</th>\n",
       "      <th>DailyCustomerCount</th>\n",
       "    </tr>\n",
       "  </thead>\n",
       "  <tbody>\n",
       "    <tr>\n",
       "      <th>230000</th>\n",
       "      <td>114</td>\n",
       "      <td>1918</td>\n",
       "      <td>3</td>\n",
       "      <td>87480</td>\n",
       "      <td>181958.40</td>\n",
       "      <td>127370.88</td>\n",
       "      <td>54587.52</td>\n",
       "      <td>27</td>\n",
       "    </tr>\n",
       "    <tr>\n",
       "      <th>136127</th>\n",
       "      <td>68</td>\n",
       "      <td>848</td>\n",
       "      <td>4</td>\n",
       "      <td>32004</td>\n",
       "      <td>122895.36</td>\n",
       "      <td>86026.75</td>\n",
       "      <td>36868.61</td>\n",
       "      <td>21</td>\n",
       "    </tr>\n",
       "    <tr>\n",
       "      <th>180731</th>\n",
       "      <td>90</td>\n",
       "      <td>1093</td>\n",
       "      <td>3</td>\n",
       "      <td>62700</td>\n",
       "      <td>187473.00</td>\n",
       "      <td>131231.10</td>\n",
       "      <td>56241.90</td>\n",
       "      <td>25</td>\n",
       "    </tr>\n",
       "    <tr>\n",
       "      <th>347515</th>\n",
       "      <td>173</td>\n",
       "      <td>911</td>\n",
       "      <td>1</td>\n",
       "      <td>48960</td>\n",
       "      <td>30844.80</td>\n",
       "      <td>21591.36</td>\n",
       "      <td>9253.44</td>\n",
       "      <td>16</td>\n",
       "    </tr>\n",
       "    <tr>\n",
       "      <th>59832</th>\n",
       "      <td>30</td>\n",
       "      <td>1236</td>\n",
       "      <td>4</td>\n",
       "      <td>120</td>\n",
       "      <td>165.60</td>\n",
       "      <td>115.92</td>\n",
       "      <td>49.68</td>\n",
       "      <td>2</td>\n",
       "    </tr>\n",
       "  </tbody>\n",
       "</table>\n",
       "</div>"
      ],
      "text/plain": [
       "        DateKey  ProductKey StoreKey  #SoldToday  SalesTotal  CostOfItemsSold  \\\n",
       "230000      114        1918        3       87480   181958.40        127370.88   \n",
       "136127       68         848        4       32004   122895.36         86026.75   \n",
       "180731       90        1093        3       62700   187473.00        131231.10   \n",
       "347515      173         911        1       48960    30844.80         21591.36   \n",
       "59832        30        1236        4         120      165.60           115.92   \n",
       "\n",
       "        GrossProfit  DailyCustomerCount  \n",
       "230000     54587.52                  27  \n",
       "136127     36868.61                  21  \n",
       "180731     56241.90                  25  \n",
       "347515      9253.44                  16  \n",
       "59832         49.68                   2  "
      ]
     },
     "execution_count": 12,
     "metadata": {},
     "output_type": "execute_result"
    }
   ],
   "source": [
    "daily_sales_fact = daily_sales_fact.dropna(subset=['DateKey', \"ProductKey\", \"StoreKey\"])\n",
    "daily_sales_fact.sample(5)"
   ]
  },
  {
   "cell_type": "code",
   "execution_count": 13,
   "metadata": {},
   "outputs": [
    {
     "data": {
      "text/plain": [
       "(1469153, 8)"
      ]
     },
     "execution_count": 13,
     "metadata": {},
     "output_type": "execute_result"
    }
   ],
   "source": [
    "daily_sales_fact.shape"
   ]
  },
  {
   "cell_type": "markdown",
   "metadata": {},
   "source": [
    "##### convert keys to integers"
   ]
  },
  {
   "cell_type": "code",
   "execution_count": 14,
   "metadata": {},
   "outputs": [
    {
     "name": "stdout",
     "output_type": "stream",
     "text": [
      "<class 'pandas.core.frame.DataFrame'>\n",
      "Index: 1469153 entries, 0 to 367589\n",
      "Data columns (total 8 columns):\n",
      " #   Column              Non-Null Count    Dtype  \n",
      "---  ------              --------------    -----  \n",
      " 0   DateKey             1469153 non-null  int64  \n",
      " 1   ProductKey          1469153 non-null  int64  \n",
      " 2   StoreKey            1469153 non-null  object \n",
      " 3   #SoldToday          1469153 non-null  int64  \n",
      " 4   SalesTotal          1469153 non-null  float64\n",
      " 5   CostOfItemsSold     1469153 non-null  float64\n",
      " 6   GrossProfit         1469153 non-null  float64\n",
      " 7   DailyCustomerCount  1469153 non-null  int64  \n",
      "dtypes: float64(3), int64(4), object(1)\n",
      "memory usage: 100.9+ MB\n"
     ]
    }
   ],
   "source": [
    "daily_sales_fact.info()"
   ]
  },
  {
   "cell_type": "code",
   "execution_count": 15,
   "metadata": {},
   "outputs": [],
   "source": [
    "daily_sales_fact['DateKey'] = daily_sales_fact['DateKey'].astype(int)\n",
    "daily_sales_fact['ProductKey'] = daily_sales_fact['ProductKey'].astype(int)\n",
    "daily_sales_fact['StoreKey'] = daily_sales_fact['StoreKey'].astype(int)"
   ]
  },
  {
   "cell_type": "code",
   "execution_count": 16,
   "metadata": {},
   "outputs": [
    {
     "data": {
      "text/plain": [
       "<sqlite3.Cursor at 0x16c2f96a4c0>"
      ]
     },
     "execution_count": 16,
     "metadata": {},
     "output_type": "execute_result"
    }
   ],
   "source": [
    "curr = conn.cursor()\n",
    "\n",
    "curr.execute(\"Drop table if exists SalesFact_DailyLevel\")\n",
    "curr.execute(\"\"\"\n",
    "    CREATE TABLE SalesFact_DailyLevel (\n",
    "        DateKey INT NOT NULL,\n",
    "        ProductKey INT NOT NULL,\n",
    "        StoreKey INT NOT NULL,\n",
    "        \"#SoldToday\" INT NOT NULL,\n",
    "        CostOfItemsSold REAL NOT NULL,\n",
    "        SalesTotal REAL NOT NULL,\n",
    "        GrossProfit REAL NOT NULL,\n",
    "        DailyCustomerCount INT NOT NULL,\n",
    "        PRIMARY KEY (DateKey, ProductKey, StoreKey),\n",
    "        FOREIGN KEY (DateKey) REFERENCES DateDimension(DateKey),\n",
    "        FOREIGN KEY (ProductKey) REFERENCES ProductDimension(ProductKey),\n",
    "        FOREIGN KEY (StoreKey) REFERENCES StoreDimension(StoreKey)\n",
    "    );\n",
    "\"\"\")"
   ]
  },
  {
   "cell_type": "code",
   "execution_count": 17,
   "metadata": {},
   "outputs": [
    {
     "data": {
      "text/plain": [
       "1469153"
      ]
     },
     "execution_count": 17,
     "metadata": {},
     "output_type": "execute_result"
    }
   ],
   "source": [
    "daily_sales_fact.to_sql(\"SalesFact_DailyLevel\", conn, if_exists='replace', index=False)"
   ]
  },
  {
   "cell_type": "markdown",
   "metadata": {},
   "source": [
    "##### Test"
   ]
  },
  {
   "cell_type": "code",
   "execution_count": 18,
   "metadata": {},
   "outputs": [
    {
     "data": {
      "text/html": [
       "<div>\n",
       "<style scoped>\n",
       "    .dataframe tbody tr th:only-of-type {\n",
       "        vertical-align: middle;\n",
       "    }\n",
       "\n",
       "    .dataframe tbody tr th {\n",
       "        vertical-align: top;\n",
       "    }\n",
       "\n",
       "    .dataframe thead th {\n",
       "        text-align: right;\n",
       "    }\n",
       "</style>\n",
       "<table border=\"1\" class=\"dataframe\">\n",
       "  <thead>\n",
       "    <tr style=\"text-align: right;\">\n",
       "      <th></th>\n",
       "      <th>DateKey</th>\n",
       "      <th>ProductKey</th>\n",
       "      <th>StoreKey</th>\n",
       "      <th>#SoldToday</th>\n",
       "      <th>SalesTotal</th>\n",
       "      <th>CostOfItemsSold</th>\n",
       "      <th>GrossProfit</th>\n",
       "      <th>DailyCustomerCount</th>\n",
       "    </tr>\n",
       "  </thead>\n",
       "  <tbody>\n",
       "    <tr>\n",
       "      <th>0</th>\n",
       "      <td>1</td>\n",
       "      <td>1</td>\n",
       "      <td>1</td>\n",
       "      <td>1008</td>\n",
       "      <td>2761.92</td>\n",
       "      <td>1933.34</td>\n",
       "      <td>828.58</td>\n",
       "      <td>12</td>\n",
       "    </tr>\n",
       "    <tr>\n",
       "      <th>1</th>\n",
       "      <td>1</td>\n",
       "      <td>2</td>\n",
       "      <td>1</td>\n",
       "      <td>1512</td>\n",
       "      <td>2978.64</td>\n",
       "      <td>2085.05</td>\n",
       "      <td>893.59</td>\n",
       "      <td>18</td>\n",
       "    </tr>\n",
       "    <tr>\n",
       "      <th>2</th>\n",
       "      <td>1</td>\n",
       "      <td>3</td>\n",
       "      <td>1</td>\n",
       "      <td>924</td>\n",
       "      <td>4056.36</td>\n",
       "      <td>2839.45</td>\n",
       "      <td>1216.91</td>\n",
       "      <td>11</td>\n",
       "    </tr>\n",
       "    <tr>\n",
       "      <th>3</th>\n",
       "      <td>1</td>\n",
       "      <td>4</td>\n",
       "      <td>1</td>\n",
       "      <td>924</td>\n",
       "      <td>4056.36</td>\n",
       "      <td>2839.45</td>\n",
       "      <td>1216.91</td>\n",
       "      <td>11</td>\n",
       "    </tr>\n",
       "    <tr>\n",
       "      <th>4</th>\n",
       "      <td>1</td>\n",
       "      <td>5</td>\n",
       "      <td>1</td>\n",
       "      <td>1092</td>\n",
       "      <td>3592.68</td>\n",
       "      <td>2514.88</td>\n",
       "      <td>1077.80</td>\n",
       "      <td>13</td>\n",
       "    </tr>\n",
       "    <tr>\n",
       "      <th>5</th>\n",
       "      <td>1</td>\n",
       "      <td>6</td>\n",
       "      <td>1</td>\n",
       "      <td>1428</td>\n",
       "      <td>3141.60</td>\n",
       "      <td>2199.12</td>\n",
       "      <td>942.48</td>\n",
       "      <td>17</td>\n",
       "    </tr>\n",
       "    <tr>\n",
       "      <th>6</th>\n",
       "      <td>1</td>\n",
       "      <td>7</td>\n",
       "      <td>1</td>\n",
       "      <td>1512</td>\n",
       "      <td>19278.00</td>\n",
       "      <td>13494.60</td>\n",
       "      <td>5783.40</td>\n",
       "      <td>18</td>\n",
       "    </tr>\n",
       "    <tr>\n",
       "      <th>7</th>\n",
       "      <td>1</td>\n",
       "      <td>8</td>\n",
       "      <td>1</td>\n",
       "      <td>1512</td>\n",
       "      <td>8300.88</td>\n",
       "      <td>5810.62</td>\n",
       "      <td>2490.26</td>\n",
       "      <td>18</td>\n",
       "    </tr>\n",
       "    <tr>\n",
       "      <th>8</th>\n",
       "      <td>1</td>\n",
       "      <td>9</td>\n",
       "      <td>1</td>\n",
       "      <td>1176</td>\n",
       "      <td>4645.20</td>\n",
       "      <td>3251.64</td>\n",
       "      <td>1393.56</td>\n",
       "      <td>14</td>\n",
       "    </tr>\n",
       "    <tr>\n",
       "      <th>9</th>\n",
       "      <td>1</td>\n",
       "      <td>10</td>\n",
       "      <td>1</td>\n",
       "      <td>1260</td>\n",
       "      <td>6640.20</td>\n",
       "      <td>4648.14</td>\n",
       "      <td>1992.06</td>\n",
       "      <td>15</td>\n",
       "    </tr>\n",
       "  </tbody>\n",
       "</table>\n",
       "</div>"
      ],
      "text/plain": [
       "   DateKey  ProductKey  StoreKey  #SoldToday  SalesTotal  CostOfItemsSold  \\\n",
       "0        1           1         1        1008     2761.92          1933.34   \n",
       "1        1           2         1        1512     2978.64          2085.05   \n",
       "2        1           3         1         924     4056.36          2839.45   \n",
       "3        1           4         1         924     4056.36          2839.45   \n",
       "4        1           5         1        1092     3592.68          2514.88   \n",
       "5        1           6         1        1428     3141.60          2199.12   \n",
       "6        1           7         1        1512    19278.00         13494.60   \n",
       "7        1           8         1        1512     8300.88          5810.62   \n",
       "8        1           9         1        1176     4645.20          3251.64   \n",
       "9        1          10         1        1260     6640.20          4648.14   \n",
       "\n",
       "   GrossProfit  DailyCustomerCount  \n",
       "0       828.58                  12  \n",
       "1       893.59                  18  \n",
       "2      1216.91                  11  \n",
       "3      1216.91                  11  \n",
       "4      1077.80                  13  \n",
       "5       942.48                  17  \n",
       "6      5783.40                  18  \n",
       "7      2490.26                  18  \n",
       "8      1393.56                  14  \n",
       "9      1992.06                  15  "
      ]
     },
     "execution_count": 18,
     "metadata": {},
     "output_type": "execute_result"
    }
   ],
   "source": [
    "sales_fact = pd.read_sql(\"select * from SalesFact_DailyLevel limit 10\", conn)\n",
    "sales_fact"
   ]
  },
  {
   "cell_type": "code",
   "execution_count": 19,
   "metadata": {},
   "outputs": [],
   "source": [
    "curr.close()\n",
    "conn.close()"
   ]
  },
  {
   "cell_type": "code",
   "execution_count": null,
   "metadata": {},
   "outputs": [],
   "source": []
  },
  {
   "cell_type": "code",
   "execution_count": null,
   "metadata": {},
   "outputs": [],
   "source": [
    "daily_sales_fact.to_csv(f\"{output_file_path}SalesFact_DailyLevel.csv\", index=False)"
   ]
  },
  {
   "cell_type": "code",
   "execution_count": null,
   "metadata": {},
   "outputs": [],
   "source": []
  }
 ],
 "metadata": {
  "kernelspec": {
   "display_name": "Python 3",
   "language": "python",
   "name": "python3"
  },
  "language_info": {
   "codemirror_mode": {
    "name": "ipython",
    "version": 3
   },
   "file_extension": ".py",
   "mimetype": "text/x-python",
   "name": "python",
   "nbconvert_exporter": "python",
   "pygments_lexer": "ipython3",
   "version": "3.13.3"
  }
 },
 "nbformat": 4,
 "nbformat_minor": 2
}
