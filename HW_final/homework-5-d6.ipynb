{
 "cells": [
  {
   "cell_type": "markdown",
   "metadata": {},
   "source": [
    "#### Deliverable 6: Sales Fact Table (Daily Level) Implementation"
   ]
  },
  {
   "cell_type": "code",
   "execution_count": 1,
   "metadata": {},
   "outputs": [],
   "source": [
    "import pandas as pd\n",
    "import sqlite3 as lite"
   ]
  },
  {
   "cell_type": "code",
   "execution_count": 2,
   "metadata": {},
   "outputs": [],
   "source": [
    "conn = lite.connect(\"store1.db\")\n",
    "output_file_path = \"./output/\""
   ]
  },
  {
   "cell_type": "code",
   "execution_count": 3,
   "metadata": {},
   "outputs": [],
   "source": [
    "# load dimension tables\n",
    "date_dim = pd.read_sql(\"select DateKey, Date from DateDimension\", conn)\n",
    "products = pd.read_sql(\"select ProductKey, SKU from ProductDimension\", conn)\n",
    "stores = pd.read_sql(\"select StoreKey from StoreDimension\", conn)"
   ]
  },
  {
   "cell_type": "code",
   "execution_count": 4,
   "metadata": {},
   "outputs": [],
   "source": [
    "store_databases = {\n",
    "    \"Store 1\": {\n",
    "        \"database_name\": \"store1.db\",\n",
    "        \"transactions_table_name\": \"user_transactions\",\n",
    "    },\n",
    "    \"Store 2\": {\n",
    "        \"database_name\": \"store2.db\",\n",
    "        \"transactions_table_name\": \"user_transactions\",\n",
    "    },\n",
    "    \"Store 3\": {\n",
    "        \"database_name\": \"store3.db\",\n",
    "        \"transactions_table_name\": \"user_transactions\",\n",
    "    },\n",
    "    \"Store 4\": {\n",
    "        \"database_name\": \"store4.db\",\n",
    "        \"transactions_table_name\": \"sales_transactions\"\n",
    "    }\n",
    "}"
   ]
  },
  {
   "cell_type": "code",
   "execution_count": 5,
   "metadata": {},
   "outputs": [],
   "source": [
    "def load_all_transactions(store):\n",
    "    conn = lite.connect(store['database_name'])\n",
    "    table_name = store['transactions_table_name']\n",
    "\n",
    "    transactions_query = f\"select * from {table_name}\"\n",
    "    transaction_df = pd.read_sql(transactions_query, conn)\n",
    "\n",
    "    conn.close()\n",
    "    return transaction_df"
   ]
  },
  {
   "cell_type": "code",
   "execution_count": 6,
   "metadata": {},
   "outputs": [
    {
     "name": "stdout",
     "output_type": "stream",
     "text": [
      "Processing Store 1...\n",
      "Processing Store 2...\n",
      "Processing Store 3...\n",
      "Processing Store 4...\n"
     ]
    }
   ],
   "source": [
    "all_daily_transactions = []\n",
    "\n",
    "def new_func(transactions):\n",
    "    daily_agg = transactions.groupby(['DateKey', \"ProductKey\", \"StoreKey\"]).agg({\n",
    "        'QuantitySold': 'sum',\n",
    "        'TotalDollarSales': 'sum',\n",
    "        'TotalCostToStore': 'sum',\n",
    "        'GrossProfit': 'sum',\n",
    "        'customer_number': 'nunique'   # Count unique customers per day\n",
    "    }).reset_index()\n",
    "    \n",
    "    # Format TotalDollarSales to 2 decimal points\n",
    "    daily_agg['TotalDollarSales'] = daily_agg['TotalDollarSales'].round(2)\n",
    "    daily_agg['TotalCostToStore'] = daily_agg['TotalCostToStore'].round(2)\n",
    "    daily_agg['GrossProfit'] = daily_agg['GrossProfit'].round(2)\n",
    "    \n",
    "    return daily_agg\n",
    "\n",
    "for store_name, config in store_databases.items():\n",
    "    print(f\"Processing {store_name}...\")\n",
    "\n",
    "    # Load transactions\n",
    "    transactions = load_all_transactions(config)\n",
    "    transactions['StoreKey'] = store_name.split(\" \")[1]\n",
    "\n",
    "    # Convert date to datetime and merge with date dimension\n",
    "    transactions['temp_date'] = pd.to_datetime(transactions['date'])\n",
    "    transactions = transactions.merge(\n",
    "        date_dim,\n",
    "        left_on=\"temp_date\",\n",
    "        right_on=pd.to_datetime(date_dim['Date']),\n",
    "        how='left'\n",
    "    ).drop(columns=['temp_date', 'Date'])\n",
    "\n",
    "    # Ensure 'sku' is the same type as 'SKU'\n",
    "    transactions['sku'] = pd.to_numeric(\n",
    "        # Handles NaN if needed\n",
    "        transactions['sku'], errors='coerce').astype('Int64')\n",
    "\n",
    "    # Merge with product dimension\n",
    "    transactions = transactions.merge(\n",
    "        products,\n",
    "        left_on='sku',\n",
    "        right_on='sku',\n",
    "        how=\"left\"\n",
    "    )\n",
    "\n",
    "    # Calculate metrics\n",
    "    transactions['QuantitySold'] = transactions['cases_ordered'] * 12\n",
    "    transactions['TotalDollarSales'] = transactions['sales_price'] * \\\n",
    "        transactions['QuantitySold']\n",
    "\n",
    "    # Assume the store buys the product at 70% of the retail price\n",
    "    transactions['TotalCostToStore'] = transactions['sales_price'] * \\\n",
    "        0.7 * transactions['QuantitySold']\n",
    "\n",
    "    transactions['GrossProfit'] = transactions['TotalDollarSales'] - \\\n",
    "        transactions['TotalCostToStore']\n",
    "\n",
    "    # Group by DateKey, ProductKey, StoreKey to get daily aggregates\n",
    "    daily_agg = new_func(transactions)\n",
    "\n",
    "    # Rename columns to match the required schema\n",
    "    daily_agg = daily_agg.rename(columns={\n",
    "        'QuantitySold': '#SoldToday',\n",
    "        'TotalDollarSales': 'SalesTotal',\n",
    "        'TotalCostToStore': 'CostOfItemsSold',\n",
    "        'customer_number': 'DailyCustomerCount'\n",
    "    })\n",
    "\n",
    "    all_daily_transactions.append(daily_agg)"
   ]
  },
  {
   "cell_type": "code",
   "execution_count": 7,
   "metadata": {},
   "outputs": [],
   "source": [
    "# combine all stores data\n",
    "daily_sales_fact = pd.concat(all_daily_transactions)"
   ]
  },
  {
   "cell_type": "code",
   "execution_count": 8,
   "metadata": {},
   "outputs": [
    {
     "data": {
      "text/html": [
       "<div>\n",
       "<style scoped>\n",
       "    .dataframe tbody tr th:only-of-type {\n",
       "        vertical-align: middle;\n",
       "    }\n",
       "\n",
       "    .dataframe tbody tr th {\n",
       "        vertical-align: top;\n",
       "    }\n",
       "\n",
       "    .dataframe thead th {\n",
       "        text-align: right;\n",
       "    }\n",
       "</style>\n",
       "<table border=\"1\" class=\"dataframe\">\n",
       "  <thead>\n",
       "    <tr style=\"text-align: right;\">\n",
       "      <th></th>\n",
       "      <th>DateKey</th>\n",
       "      <th>ProductKey</th>\n",
       "      <th>StoreKey</th>\n",
       "      <th>#SoldToday</th>\n",
       "      <th>SalesTotal</th>\n",
       "      <th>CostOfItemsSold</th>\n",
       "      <th>GrossProfit</th>\n",
       "      <th>DailyCustomerCount</th>\n",
       "    </tr>\n",
       "  </thead>\n",
       "  <tbody>\n",
       "    <tr>\n",
       "      <th>188689</th>\n",
       "      <td>94.0</td>\n",
       "      <td>1109</td>\n",
       "      <td>2</td>\n",
       "      <td>71640</td>\n",
       "      <td>50864.40</td>\n",
       "      <td>35605.08</td>\n",
       "      <td>15259.32</td>\n",
       "      <td>30</td>\n",
       "    </tr>\n",
       "    <tr>\n",
       "      <th>24789</th>\n",
       "      <td>13.0</td>\n",
       "      <td>580</td>\n",
       "      <td>3</td>\n",
       "      <td>12672</td>\n",
       "      <td>30286.08</td>\n",
       "      <td>21200.26</td>\n",
       "      <td>9085.82</td>\n",
       "      <td>31</td>\n",
       "    </tr>\n",
       "    <tr>\n",
       "      <th>250506</th>\n",
       "      <td>125.0</td>\n",
       "      <td>587</td>\n",
       "      <td>1</td>\n",
       "      <td>40176</td>\n",
       "      <td>309355.20</td>\n",
       "      <td>216548.64</td>\n",
       "      <td>92806.56</td>\n",
       "      <td>18</td>\n",
       "    </tr>\n",
       "    <tr>\n",
       "      <th>389207</th>\n",
       "      <td>195.0</td>\n",
       "      <td>25</td>\n",
       "      <td>3</td>\n",
       "      <td>171864</td>\n",
       "      <td>539652.96</td>\n",
       "      <td>377757.07</td>\n",
       "      <td>161895.89</td>\n",
       "      <td>33</td>\n",
       "    </tr>\n",
       "    <tr>\n",
       "      <th>9332</th>\n",
       "      <td>5.0</td>\n",
       "      <td>1302</td>\n",
       "      <td>4</td>\n",
       "      <td>240</td>\n",
       "      <td>1128.00</td>\n",
       "      <td>789.60</td>\n",
       "      <td>338.40</td>\n",
       "      <td>5</td>\n",
       "    </tr>\n",
       "  </tbody>\n",
       "</table>\n",
       "</div>"
      ],
      "text/plain": [
       "        DateKey  ProductKey StoreKey  #SoldToday  SalesTotal  CostOfItemsSold  \\\n",
       "188689     94.0        1109        2       71640    50864.40         35605.08   \n",
       "24789      13.0         580        3       12672    30286.08         21200.26   \n",
       "250506    125.0         587        1       40176   309355.20        216548.64   \n",
       "389207    195.0          25        3      171864   539652.96        377757.07   \n",
       "9332        5.0        1302        4         240     1128.00           789.60   \n",
       "\n",
       "        GrossProfit  DailyCustomerCount  \n",
       "188689     15259.32                  30  \n",
       "24789       9085.82                  31  \n",
       "250506     92806.56                  18  \n",
       "389207    161895.89                  33  \n",
       "9332         338.40                   5  "
      ]
     },
     "execution_count": 8,
     "metadata": {},
     "output_type": "execute_result"
    }
   ],
   "source": [
    "daily_sales_fact.sample(5)"
   ]
  },
  {
   "cell_type": "code",
   "execution_count": 9,
   "metadata": {},
   "outputs": [
    {
     "data": {
      "text/plain": [
       "(2950945, 8)"
      ]
     },
     "execution_count": 9,
     "metadata": {},
     "output_type": "execute_result"
    }
   ],
   "source": [
    "daily_sales_fact.shape"
   ]
  },
  {
   "cell_type": "code",
   "execution_count": 10,
   "metadata": {},
   "outputs": [
    {
     "data": {
      "text/plain": [
       "StoreKey\n",
       "4    739451\n",
       "2    738235\n",
       "1    737655\n",
       "3    735604\n",
       "Name: count, dtype: int64"
      ]
     },
     "execution_count": 10,
     "metadata": {},
     "output_type": "execute_result"
    }
   ],
   "source": [
    "daily_sales_fact['StoreKey'].value_counts()"
   ]
  },
  {
   "cell_type": "markdown",
   "metadata": {},
   "source": [
    "##### Filter out any rows with missing keys"
   ]
  },
  {
   "cell_type": "code",
   "execution_count": 11,
   "metadata": {},
   "outputs": [
    {
     "data": {
      "text/html": [
       "<div>\n",
       "<style scoped>\n",
       "    .dataframe tbody tr th:only-of-type {\n",
       "        vertical-align: middle;\n",
       "    }\n",
       "\n",
       "    .dataframe tbody tr th {\n",
       "        vertical-align: top;\n",
       "    }\n",
       "\n",
       "    .dataframe thead th {\n",
       "        text-align: right;\n",
       "    }\n",
       "</style>\n",
       "<table border=\"1\" class=\"dataframe\">\n",
       "  <thead>\n",
       "    <tr style=\"text-align: right;\">\n",
       "      <th></th>\n",
       "      <th>DateKey</th>\n",
       "      <th>ProductKey</th>\n",
       "      <th>StoreKey</th>\n",
       "      <th>#SoldToday</th>\n",
       "      <th>SalesTotal</th>\n",
       "      <th>CostOfItemsSold</th>\n",
       "      <th>GrossProfit</th>\n",
       "      <th>DailyCustomerCount</th>\n",
       "    </tr>\n",
       "  </thead>\n",
       "  <tbody>\n",
       "    <tr>\n",
       "      <th>465701</th>\n",
       "      <td>231.0</td>\n",
       "      <td>1750</td>\n",
       "      <td>2</td>\n",
       "      <td>161124</td>\n",
       "      <td>380252.64</td>\n",
       "      <td>266176.85</td>\n",
       "      <td>114075.79</td>\n",
       "      <td>28</td>\n",
       "    </tr>\n",
       "    <tr>\n",
       "      <th>54216</th>\n",
       "      <td>27.0</td>\n",
       "      <td>1823</td>\n",
       "      <td>3</td>\n",
       "      <td>16896</td>\n",
       "      <td>80762.88</td>\n",
       "      <td>56534.02</td>\n",
       "      <td>24228.86</td>\n",
       "      <td>21</td>\n",
       "    </tr>\n",
       "    <tr>\n",
       "      <th>257291</th>\n",
       "      <td>128.0</td>\n",
       "      <td>1359</td>\n",
       "      <td>1</td>\n",
       "      <td>31752</td>\n",
       "      <td>93985.92</td>\n",
       "      <td>65790.14</td>\n",
       "      <td>28195.78</td>\n",
       "      <td>14</td>\n",
       "    </tr>\n",
       "    <tr>\n",
       "      <th>300237</th>\n",
       "      <td>149.0</td>\n",
       "      <td>1342</td>\n",
       "      <td>4</td>\n",
       "      <td>84900</td>\n",
       "      <td>316677.00</td>\n",
       "      <td>221673.90</td>\n",
       "      <td>95003.10</td>\n",
       "      <td>24</td>\n",
       "    </tr>\n",
       "    <tr>\n",
       "      <th>502634</th>\n",
       "      <td>249.0</td>\n",
       "      <td>1677</td>\n",
       "      <td>4</td>\n",
       "      <td>74760</td>\n",
       "      <td>275116.80</td>\n",
       "      <td>192581.76</td>\n",
       "      <td>82535.04</td>\n",
       "      <td>14</td>\n",
       "    </tr>\n",
       "  </tbody>\n",
       "</table>\n",
       "</div>"
      ],
      "text/plain": [
       "        DateKey  ProductKey StoreKey  #SoldToday  SalesTotal  CostOfItemsSold  \\\n",
       "465701    231.0        1750        2      161124   380252.64        266176.85   \n",
       "54216      27.0        1823        3       16896    80762.88         56534.02   \n",
       "257291    128.0        1359        1       31752    93985.92         65790.14   \n",
       "300237    149.0        1342        4       84900   316677.00        221673.90   \n",
       "502634    249.0        1677        4       74760   275116.80        192581.76   \n",
       "\n",
       "        GrossProfit  DailyCustomerCount  \n",
       "465701    114075.79                  28  \n",
       "54216      24228.86                  21  \n",
       "257291     28195.78                  14  \n",
       "300237     95003.10                  24  \n",
       "502634     82535.04                  14  "
      ]
     },
     "execution_count": 11,
     "metadata": {},
     "output_type": "execute_result"
    }
   ],
   "source": [
    "daily_sales_fact = daily_sales_fact.dropna(subset=['DateKey', \"ProductKey\", \"StoreKey\"])\n",
    "daily_sales_fact.sample(5)"
   ]
  },
  {
   "cell_type": "code",
   "execution_count": 12,
   "metadata": {},
   "outputs": [
    {
     "data": {
      "text/plain": [
       "(2950945, 8)"
      ]
     },
     "execution_count": 12,
     "metadata": {},
     "output_type": "execute_result"
    }
   ],
   "source": [
    "daily_sales_fact.shape"
   ]
  },
  {
   "cell_type": "markdown",
   "metadata": {},
   "source": [
    "##### convert keys to integers"
   ]
  },
  {
   "cell_type": "code",
   "execution_count": 13,
   "metadata": {},
   "outputs": [
    {
     "name": "stdout",
     "output_type": "stream",
     "text": [
      "<class 'pandas.core.frame.DataFrame'>\n",
      "Index: 2950945 entries, 0 to 739450\n",
      "Data columns (total 8 columns):\n",
      " #   Column              Dtype  \n",
      "---  ------              -----  \n",
      " 0   DateKey             float64\n",
      " 1   ProductKey          int64  \n",
      " 2   StoreKey            object \n",
      " 3   #SoldToday          int64  \n",
      " 4   SalesTotal          float64\n",
      " 5   CostOfItemsSold     float64\n",
      " 6   GrossProfit         float64\n",
      " 7   DailyCustomerCount  int64  \n",
      "dtypes: float64(4), int64(3), object(1)\n",
      "memory usage: 202.6+ MB\n"
     ]
    }
   ],
   "source": [
    "daily_sales_fact.info()"
   ]
  },
  {
   "cell_type": "code",
   "execution_count": 14,
   "metadata": {},
   "outputs": [],
   "source": [
    "daily_sales_fact['DateKey'] = daily_sales_fact['DateKey'].astype(int)\n",
    "daily_sales_fact['ProductKey'] = daily_sales_fact['ProductKey'].astype(int)\n",
    "daily_sales_fact['StoreKey'] = daily_sales_fact['StoreKey'].astype(int)"
   ]
  },
  {
   "cell_type": "code",
   "execution_count": 15,
   "metadata": {},
   "outputs": [
    {
     "data": {
      "text/plain": [
       "<sqlite3.Cursor at 0x1caac2295c0>"
      ]
     },
     "execution_count": 15,
     "metadata": {},
     "output_type": "execute_result"
    }
   ],
   "source": [
    "curr = conn.cursor()\n",
    "\n",
    "curr.execute(\"Drop table if exists SalesFact_DailyLevel\")\n",
    "curr.execute(\"\"\"\n",
    "    CREATE TABLE SalesFact_DailyLevel (\n",
    "        DateKey INT NOT NULL,\n",
    "        ProductKey INT NOT NULL,\n",
    "        StoreKey INT NOT NULL,\n",
    "        \"#SoldToday\" INT NOT NULL,\n",
    "        CostOfItemsSold REAL NOT NULL,\n",
    "        SalesTotal REAL NOT NULL,\n",
    "        GrossProfit REAL NOT NULL,\n",
    "        DailyCustomerCount INT NOT NULL,\n",
    "        PRIMARY KEY (DateKey, ProductKey, StoreKey),\n",
    "        FOREIGN KEY (DateKey) REFERENCES DateDimension(DateKey),\n",
    "        FOREIGN KEY (ProductKey) REFERENCES ProductDimension(ProductKey),\n",
    "        FOREIGN KEY (StoreKey) REFERENCES StoreDimension(StoreKey)\n",
    "    );\n",
    "\"\"\")"
   ]
  },
  {
   "cell_type": "code",
   "execution_count": 16,
   "metadata": {},
   "outputs": [
    {
     "data": {
      "text/plain": [
       "2950945"
      ]
     },
     "execution_count": 16,
     "metadata": {},
     "output_type": "execute_result"
    }
   ],
   "source": [
    "daily_sales_fact.to_sql(\"SalesFact_DailyLevel\", conn, if_exists='replace', index=False)"
   ]
  },
  {
   "cell_type": "markdown",
   "metadata": {},
   "source": [
    "##### Test"
   ]
  },
  {
   "cell_type": "code",
   "execution_count": 17,
   "metadata": {},
   "outputs": [
    {
     "data": {
      "text/html": [
       "<div>\n",
       "<style scoped>\n",
       "    .dataframe tbody tr th:only-of-type {\n",
       "        vertical-align: middle;\n",
       "    }\n",
       "\n",
       "    .dataframe tbody tr th {\n",
       "        vertical-align: top;\n",
       "    }\n",
       "\n",
       "    .dataframe thead th {\n",
       "        text-align: right;\n",
       "    }\n",
       "</style>\n",
       "<table border=\"1\" class=\"dataframe\">\n",
       "  <thead>\n",
       "    <tr style=\"text-align: right;\">\n",
       "      <th></th>\n",
       "      <th>DateKey</th>\n",
       "      <th>ProductKey</th>\n",
       "      <th>StoreKey</th>\n",
       "      <th>#SoldToday</th>\n",
       "      <th>SalesTotal</th>\n",
       "      <th>CostOfItemsSold</th>\n",
       "      <th>GrossProfit</th>\n",
       "      <th>DailyCustomerCount</th>\n",
       "    </tr>\n",
       "  </thead>\n",
       "  <tbody>\n",
       "    <tr>\n",
       "      <th>0</th>\n",
       "      <td>1</td>\n",
       "      <td>1</td>\n",
       "      <td>1</td>\n",
       "      <td>1440</td>\n",
       "      <td>3945.60</td>\n",
       "      <td>2761.92</td>\n",
       "      <td>1183.68</td>\n",
       "      <td>20</td>\n",
       "    </tr>\n",
       "    <tr>\n",
       "      <th>1</th>\n",
       "      <td>1</td>\n",
       "      <td>2</td>\n",
       "      <td>1</td>\n",
       "      <td>1008</td>\n",
       "      <td>1985.76</td>\n",
       "      <td>1390.03</td>\n",
       "      <td>595.73</td>\n",
       "      <td>14</td>\n",
       "    </tr>\n",
       "    <tr>\n",
       "      <th>2</th>\n",
       "      <td>1</td>\n",
       "      <td>3</td>\n",
       "      <td>1</td>\n",
       "      <td>1296</td>\n",
       "      <td>5689.44</td>\n",
       "      <td>3982.61</td>\n",
       "      <td>1706.83</td>\n",
       "      <td>18</td>\n",
       "    </tr>\n",
       "    <tr>\n",
       "      <th>3</th>\n",
       "      <td>1</td>\n",
       "      <td>4</td>\n",
       "      <td>1</td>\n",
       "      <td>1296</td>\n",
       "      <td>5689.44</td>\n",
       "      <td>3982.61</td>\n",
       "      <td>1706.83</td>\n",
       "      <td>18</td>\n",
       "    </tr>\n",
       "    <tr>\n",
       "      <th>4</th>\n",
       "      <td>1</td>\n",
       "      <td>5</td>\n",
       "      <td>1</td>\n",
       "      <td>1800</td>\n",
       "      <td>5922.00</td>\n",
       "      <td>4145.40</td>\n",
       "      <td>1776.60</td>\n",
       "      <td>25</td>\n",
       "    </tr>\n",
       "    <tr>\n",
       "      <th>5</th>\n",
       "      <td>1</td>\n",
       "      <td>6</td>\n",
       "      <td>1</td>\n",
       "      <td>936</td>\n",
       "      <td>2059.20</td>\n",
       "      <td>1441.44</td>\n",
       "      <td>617.76</td>\n",
       "      <td>13</td>\n",
       "    </tr>\n",
       "    <tr>\n",
       "      <th>6</th>\n",
       "      <td>1</td>\n",
       "      <td>7</td>\n",
       "      <td>1</td>\n",
       "      <td>936</td>\n",
       "      <td>11934.00</td>\n",
       "      <td>8353.80</td>\n",
       "      <td>3580.20</td>\n",
       "      <td>13</td>\n",
       "    </tr>\n",
       "    <tr>\n",
       "      <th>7</th>\n",
       "      <td>1</td>\n",
       "      <td>8</td>\n",
       "      <td>1</td>\n",
       "      <td>1080</td>\n",
       "      <td>5929.20</td>\n",
       "      <td>4150.44</td>\n",
       "      <td>1778.76</td>\n",
       "      <td>15</td>\n",
       "    </tr>\n",
       "    <tr>\n",
       "      <th>8</th>\n",
       "      <td>1</td>\n",
       "      <td>9</td>\n",
       "      <td>1</td>\n",
       "      <td>1296</td>\n",
       "      <td>5119.20</td>\n",
       "      <td>3583.44</td>\n",
       "      <td>1535.76</td>\n",
       "      <td>18</td>\n",
       "    </tr>\n",
       "    <tr>\n",
       "      <th>9</th>\n",
       "      <td>1</td>\n",
       "      <td>10</td>\n",
       "      <td>1</td>\n",
       "      <td>1296</td>\n",
       "      <td>6829.92</td>\n",
       "      <td>4780.94</td>\n",
       "      <td>2048.98</td>\n",
       "      <td>17</td>\n",
       "    </tr>\n",
       "  </tbody>\n",
       "</table>\n",
       "</div>"
      ],
      "text/plain": [
       "   DateKey  ProductKey  StoreKey  #SoldToday  SalesTotal  CostOfItemsSold  \\\n",
       "0        1           1         1        1440     3945.60          2761.92   \n",
       "1        1           2         1        1008     1985.76          1390.03   \n",
       "2        1           3         1        1296     5689.44          3982.61   \n",
       "3        1           4         1        1296     5689.44          3982.61   \n",
       "4        1           5         1        1800     5922.00          4145.40   \n",
       "5        1           6         1         936     2059.20          1441.44   \n",
       "6        1           7         1         936    11934.00          8353.80   \n",
       "7        1           8         1        1080     5929.20          4150.44   \n",
       "8        1           9         1        1296     5119.20          3583.44   \n",
       "9        1          10         1        1296     6829.92          4780.94   \n",
       "\n",
       "   GrossProfit  DailyCustomerCount  \n",
       "0      1183.68                  20  \n",
       "1       595.73                  14  \n",
       "2      1706.83                  18  \n",
       "3      1706.83                  18  \n",
       "4      1776.60                  25  \n",
       "5       617.76                  13  \n",
       "6      3580.20                  13  \n",
       "7      1778.76                  15  \n",
       "8      1535.76                  18  \n",
       "9      2048.98                  17  "
      ]
     },
     "execution_count": 17,
     "metadata": {},
     "output_type": "execute_result"
    }
   ],
   "source": [
    "sales_fact = pd.read_sql(\"select * from SalesFact_DailyLevel limit 10\", conn)\n",
    "sales_fact"
   ]
  },
  {
   "cell_type": "code",
   "execution_count": 18,
   "metadata": {},
   "outputs": [],
   "source": [
    "curr.close()\n",
    "conn.close()"
   ]
  },
  {
   "cell_type": "code",
   "execution_count": null,
   "metadata": {},
   "outputs": [],
   "source": []
  },
  {
   "cell_type": "code",
   "execution_count": null,
   "metadata": {},
   "outputs": [],
   "source": [
    "daily_sales_fact.to_csv(f\"{output_file_path}SalesFact_DailyLevel.csv\", index=False)"
   ]
  },
  {
   "cell_type": "code",
   "execution_count": null,
   "metadata": {},
   "outputs": [],
   "source": []
  }
 ],
 "metadata": {
  "kernelspec": {
   "display_name": "Python 3",
   "language": "python",
   "name": "python3"
  },
  "language_info": {
   "codemirror_mode": {
    "name": "ipython",
    "version": 3
   },
   "file_extension": ".py",
   "mimetype": "text/x-python",
   "name": "python",
   "nbconvert_exporter": "python",
   "pygments_lexer": "ipython3",
   "version": "3.13.3"
  }
 },
 "nbformat": 4,
 "nbformat_minor": 2
}
