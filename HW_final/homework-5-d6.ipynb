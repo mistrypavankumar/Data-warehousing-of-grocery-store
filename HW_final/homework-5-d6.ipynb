{
 "cells": [
  {
   "cell_type": "markdown",
   "metadata": {},
   "source": [
    "#### Deliverable 6: Sales Fact Table (Daily Level) Implementation"
   ]
  },
  {
   "cell_type": "code",
   "execution_count": 21,
   "metadata": {},
   "outputs": [],
   "source": [
    "import pandas as pd\n",
    "import sqlite3 as lite"
   ]
  },
  {
   "cell_type": "code",
   "execution_count": 22,
   "metadata": {},
   "outputs": [],
   "source": [
    "conn = lite.connect(\"store1.db\")\n",
    "output_file_path = \"./output/\""
   ]
  },
  {
   "cell_type": "code",
   "execution_count": 23,
   "metadata": {},
   "outputs": [],
   "source": [
    "# load dimension tables\n",
    "date_dim = pd.read_sql(\"select DateKey, Date from DateDimension\", conn)\n",
    "products = pd.read_sql(\"select ProductKey, SKU from ProductDimension\", conn)\n",
    "stores = pd.read_sql(\"select StoreKey from StoreDimension\", conn)"
   ]
  },
  {
   "cell_type": "code",
   "execution_count": 24,
   "metadata": {},
   "outputs": [],
   "source": [
    "store_databases = {\n",
    "    \"Store 1\": {\n",
    "        \"database_name\": \"store1.db\",\n",
    "        \"transactions_table_name\": \"sales_transactions\",\n",
    "    },\n",
    "    \"Store 2\": {\n",
    "        \"database_name\": \"store2.db\",\n",
    "        \"transactions_table_name\": \"sales_transactions\",\n",
    "    },\n",
    "    \"Store 3\": {\n",
    "        \"database_name\": \"store3.db\",\n",
    "        \"transactions_table_name\": \"sales_transactions\",\n",
    "    },\n",
    "    \"Store 4\": {\n",
    "        \"database_name\": \"store4.db\",\n",
    "        \"transactions_table_name\": \"sales_transactions\"\n",
    "    }\n",
    "}"
   ]
  },
  {
   "cell_type": "code",
   "execution_count": 25,
   "metadata": {},
   "outputs": [],
   "source": [
    "def load_all_transactions(store):\n",
    "    conn = lite.connect(store['database_name'])\n",
    "    table_name = store['transactions_table_name']\n",
    "\n",
    "    transactions_query = f\"select * from {table_name}\"\n",
    "    transaction_df = pd.read_sql(transactions_query, conn)\n",
    "\n",
    "    conn.close()\n",
    "    return transaction_df"
   ]
  },
  {
   "cell_type": "code",
   "execution_count": 26,
   "metadata": {},
   "outputs": [
    {
     "data": {
      "text/html": [
       "<div>\n",
       "<style scoped>\n",
       "    .dataframe tbody tr th:only-of-type {\n",
       "        vertical-align: middle;\n",
       "    }\n",
       "\n",
       "    .dataframe tbody tr th {\n",
       "        vertical-align: top;\n",
       "    }\n",
       "\n",
       "    .dataframe thead th {\n",
       "        text-align: right;\n",
       "    }\n",
       "</style>\n",
       "<table border=\"1\" class=\"dataframe\">\n",
       "  <thead>\n",
       "    <tr style=\"text-align: right;\">\n",
       "      <th></th>\n",
       "      <th>date</th>\n",
       "      <th>customer_number</th>\n",
       "      <th>sku</th>\n",
       "      <th>salesPrice</th>\n",
       "      <th>items_left</th>\n",
       "      <th>cases_ordered</th>\n",
       "    </tr>\n",
       "  </thead>\n",
       "  <tbody>\n",
       "    <tr>\n",
       "      <th>0</th>\n",
       "      <td>2024-01-01</td>\n",
       "      <td>1</td>\n",
       "      <td>42356001</td>\n",
       "      <td>2.08</td>\n",
       "      <td>191</td>\n",
       "      <td>16</td>\n",
       "    </tr>\n",
       "    <tr>\n",
       "      <th>1</th>\n",
       "      <td>2024-01-01</td>\n",
       "      <td>1</td>\n",
       "      <td>44037001</td>\n",
       "      <td>0.87</td>\n",
       "      <td>23</td>\n",
       "      <td>2</td>\n",
       "    </tr>\n",
       "    <tr>\n",
       "      <th>2</th>\n",
       "      <td>2024-01-01</td>\n",
       "      <td>1</td>\n",
       "      <td>43029001</td>\n",
       "      <td>12.09</td>\n",
       "      <td>23</td>\n",
       "      <td>2</td>\n",
       "    </tr>\n",
       "    <tr>\n",
       "      <th>3</th>\n",
       "      <td>2024-01-01</td>\n",
       "      <td>1</td>\n",
       "      <td>43247001</td>\n",
       "      <td>7.69</td>\n",
       "      <td>83</td>\n",
       "      <td>7</td>\n",
       "    </tr>\n",
       "    <tr>\n",
       "      <th>4</th>\n",
       "      <td>2024-01-01</td>\n",
       "      <td>1</td>\n",
       "      <td>43766001</td>\n",
       "      <td>3.72</td>\n",
       "      <td>83</td>\n",
       "      <td>7</td>\n",
       "    </tr>\n",
       "  </tbody>\n",
       "</table>\n",
       "</div>"
      ],
      "text/plain": [
       "         date  customer_number       sku  salesPrice  items_left  \\\n",
       "0  2024-01-01                1  42356001        2.08         191   \n",
       "1  2024-01-01                1  44037001        0.87          23   \n",
       "2  2024-01-01                1  43029001       12.09          23   \n",
       "3  2024-01-01                1  43247001        7.69          83   \n",
       "4  2024-01-01                1  43766001        3.72          83   \n",
       "\n",
       "   cases_ordered  \n",
       "0             16  \n",
       "1              2  \n",
       "2              2  \n",
       "3              7  \n",
       "4              7  "
      ]
     },
     "execution_count": 26,
     "metadata": {},
     "output_type": "execute_result"
    }
   ],
   "source": [
    "load_all_transactions(store_databases[\"Store 1\"]).head()"
   ]
  },
  {
   "cell_type": "code",
   "execution_count": 27,
   "metadata": {},
   "outputs": [
    {
     "name": "stdout",
     "output_type": "stream",
     "text": [
      "Processing Store 1...\n",
      "Processing Store 2...\n",
      "Processing Store 3...\n",
      "Processing Store 4...\n"
     ]
    }
   ],
   "source": [
    "all_daily_transactions = []\n",
    "\n",
    "def new_func(transactions):\n",
    "    daily_agg = transactions.groupby(['DateKey', \"ProductKey\", \"StoreKey\"]).agg({\n",
    "        'QuantitySold': 'sum',\n",
    "        'TotalDollarSales': 'sum',\n",
    "        'TotalCostToStore': 'sum',\n",
    "        'GrossProfit': 'sum',\n",
    "        'customer_number': 'nunique'   # Count unique customers per day\n",
    "    }).reset_index()\n",
    "    \n",
    "    # Format TotalDollarSales to 2 decimal points\n",
    "    daily_agg['TotalDollarSales'] = daily_agg['TotalDollarSales'].round(2)\n",
    "    daily_agg['TotalCostToStore'] = daily_agg['TotalCostToStore'].round(2)\n",
    "    daily_agg['GrossProfit'] = daily_agg['GrossProfit'].round(2)\n",
    "    \n",
    "    return daily_agg\n",
    "\n",
    "for store_name, config in store_databases.items():\n",
    "    print(f\"Processing {store_name}...\")\n",
    "\n",
    "    # Load transactions\n",
    "    transactions = load_all_transactions(config)\n",
    "    transactions['StoreKey'] = store_name.split(\" \")[1]\n",
    "\n",
    "    # Convert date to datetime and merge with date dimension\n",
    "    transactions['temp_date'] = pd.to_datetime(transactions['date'])\n",
    "    transactions = transactions.merge(\n",
    "        date_dim,\n",
    "        left_on=\"temp_date\",\n",
    "        right_on=pd.to_datetime(date_dim['Date']),\n",
    "        how='left'\n",
    "    ).drop(columns=['temp_date', 'Date'])\n",
    "\n",
    "    # Ensure 'sku' is the same type as 'SKU'\n",
    "    transactions['SKU'] = pd.to_numeric(\n",
    "        # Handles NaN if needed\n",
    "        transactions['sku'], errors='coerce').astype('Int64')\n",
    "\n",
    "    # Merge with product dimension\n",
    "    transactions = transactions.merge(\n",
    "        products,\n",
    "        left_on='sku',\n",
    "        right_on='SKU',\n",
    "        how=\"left\"\n",
    "    )\n",
    "\n",
    "    # Calculate metrics\n",
    "    transactions['QuantitySold'] = transactions['cases_ordered'] * 12\n",
    "    transactions['TotalDollarSales'] = transactions['salesPrice'] * \\\n",
    "        transactions['QuantitySold']\n",
    "\n",
    "    # Assume the store buys the product at 70% of the retail price\n",
    "    transactions['TotalCostToStore'] = transactions['salesPrice'] * \\\n",
    "        0.7 * transactions['QuantitySold']\n",
    "\n",
    "    transactions['GrossProfit'] = transactions['TotalDollarSales'] - \\\n",
    "        transactions['TotalCostToStore']\n",
    "\n",
    "    # Group by DateKey, ProductKey, StoreKey to get daily aggregates\n",
    "    daily_agg = new_func(transactions)\n",
    "\n",
    "    # Rename columns to match the required schema\n",
    "    daily_agg = daily_agg.rename(columns={\n",
    "        'QuantitySold': '#SoldToday',\n",
    "        'TotalDollarSales': 'SalesTotal',\n",
    "        'TotalCostToStore': 'CostOfItemsSold',\n",
    "        'customer_number': 'DailyCustomerCount'\n",
    "    })\n",
    "\n",
    "    all_daily_transactions.append(daily_agg)"
   ]
  },
  {
   "cell_type": "code",
   "execution_count": 28,
   "metadata": {},
   "outputs": [],
   "source": [
    "# combine all stores data\n",
    "daily_sales_fact = pd.concat(all_daily_transactions)"
   ]
  },
  {
   "cell_type": "code",
   "execution_count": 29,
   "metadata": {},
   "outputs": [
    {
     "data": {
      "text/html": [
       "<div>\n",
       "<style scoped>\n",
       "    .dataframe tbody tr th:only-of-type {\n",
       "        vertical-align: middle;\n",
       "    }\n",
       "\n",
       "    .dataframe tbody tr th {\n",
       "        vertical-align: top;\n",
       "    }\n",
       "\n",
       "    .dataframe thead th {\n",
       "        text-align: right;\n",
       "    }\n",
       "</style>\n",
       "<table border=\"1\" class=\"dataframe\">\n",
       "  <thead>\n",
       "    <tr style=\"text-align: right;\">\n",
       "      <th></th>\n",
       "      <th>DateKey</th>\n",
       "      <th>ProductKey</th>\n",
       "      <th>StoreKey</th>\n",
       "      <th>#SoldToday</th>\n",
       "      <th>SalesTotal</th>\n",
       "      <th>CostOfItemsSold</th>\n",
       "      <th>GrossProfit</th>\n",
       "      <th>DailyCustomerCount</th>\n",
       "    </tr>\n",
       "  </thead>\n",
       "  <tbody>\n",
       "    <tr>\n",
       "      <th>977217</th>\n",
       "      <td>485</td>\n",
       "      <td>741</td>\n",
       "      <td>2</td>\n",
       "      <td>222072</td>\n",
       "      <td>550738.56</td>\n",
       "      <td>385516.99</td>\n",
       "      <td>165221.57</td>\n",
       "      <td>19</td>\n",
       "    </tr>\n",
       "    <tr>\n",
       "      <th>1015291</th>\n",
       "      <td>504</td>\n",
       "      <td>547</td>\n",
       "      <td>2</td>\n",
       "      <td>357048</td>\n",
       "      <td>931895.28</td>\n",
       "      <td>652326.70</td>\n",
       "      <td>279568.58</td>\n",
       "      <td>28</td>\n",
       "    </tr>\n",
       "    <tr>\n",
       "      <th>513802</th>\n",
       "      <td>256</td>\n",
       "      <td>12</td>\n",
       "      <td>1</td>\n",
       "      <td>63168</td>\n",
       "      <td>69484.80</td>\n",
       "      <td>48639.36</td>\n",
       "      <td>20845.44</td>\n",
       "      <td>14</td>\n",
       "    </tr>\n",
       "    <tr>\n",
       "      <th>384009</th>\n",
       "      <td>191</td>\n",
       "      <td>1164</td>\n",
       "      <td>1</td>\n",
       "      <td>62856</td>\n",
       "      <td>483362.64</td>\n",
       "      <td>338353.85</td>\n",
       "      <td>145008.79</td>\n",
       "      <td>18</td>\n",
       "    </tr>\n",
       "    <tr>\n",
       "      <th>232303</th>\n",
       "      <td>116</td>\n",
       "      <td>85</td>\n",
       "      <td>3</td>\n",
       "      <td>98952</td>\n",
       "      <td>296856.00</td>\n",
       "      <td>207799.20</td>\n",
       "      <td>89056.80</td>\n",
       "      <td>31</td>\n",
       "    </tr>\n",
       "  </tbody>\n",
       "</table>\n",
       "</div>"
      ],
      "text/plain": [
       "         DateKey  ProductKey StoreKey  #SoldToday  SalesTotal  \\\n",
       "977217       485         741        2      222072   550738.56   \n",
       "1015291      504         547        2      357048   931895.28   \n",
       "513802       256          12        1       63168    69484.80   \n",
       "384009       191        1164        1       62856   483362.64   \n",
       "232303       116          85        3       98952   296856.00   \n",
       "\n",
       "         CostOfItemsSold  GrossProfit  DailyCustomerCount  \n",
       "977217         385516.99    165221.57                  19  \n",
       "1015291        652326.70    279568.58                  28  \n",
       "513802          48639.36     20845.44                  14  \n",
       "384009         338353.85    145008.79                  18  \n",
       "232303         207799.20     89056.80                  31  "
      ]
     },
     "execution_count": 29,
     "metadata": {},
     "output_type": "execute_result"
    }
   ],
   "source": [
    "daily_sales_fact.sample(5)"
   ]
  },
  {
   "cell_type": "code",
   "execution_count": 30,
   "metadata": {},
   "outputs": [
    {
     "data": {
      "text/plain": [
       "(4415200, 8)"
      ]
     },
     "execution_count": 30,
     "metadata": {},
     "output_type": "execute_result"
    }
   ],
   "source": [
    "daily_sales_fact.shape"
   ]
  },
  {
   "cell_type": "code",
   "execution_count": 31,
   "metadata": {},
   "outputs": [
    {
     "data": {
      "text/plain": [
       "StoreKey\n",
       "4    1105095\n",
       "3    1104495\n",
       "2    1103498\n",
       "1    1102112\n",
       "Name: count, dtype: int64"
      ]
     },
     "execution_count": 31,
     "metadata": {},
     "output_type": "execute_result"
    }
   ],
   "source": [
    "daily_sales_fact['StoreKey'].value_counts()"
   ]
  },
  {
   "cell_type": "markdown",
   "metadata": {},
   "source": [
    "##### Filter out any rows with missing keys"
   ]
  },
  {
   "cell_type": "code",
   "execution_count": 32,
   "metadata": {},
   "outputs": [
    {
     "data": {
      "text/html": [
       "<div>\n",
       "<style scoped>\n",
       "    .dataframe tbody tr th:only-of-type {\n",
       "        vertical-align: middle;\n",
       "    }\n",
       "\n",
       "    .dataframe tbody tr th {\n",
       "        vertical-align: top;\n",
       "    }\n",
       "\n",
       "    .dataframe thead th {\n",
       "        text-align: right;\n",
       "    }\n",
       "</style>\n",
       "<table border=\"1\" class=\"dataframe\">\n",
       "  <thead>\n",
       "    <tr style=\"text-align: right;\">\n",
       "      <th></th>\n",
       "      <th>DateKey</th>\n",
       "      <th>ProductKey</th>\n",
       "      <th>StoreKey</th>\n",
       "      <th>#SoldToday</th>\n",
       "      <th>SalesTotal</th>\n",
       "      <th>CostOfItemsSold</th>\n",
       "      <th>GrossProfit</th>\n",
       "      <th>DailyCustomerCount</th>\n",
       "    </tr>\n",
       "  </thead>\n",
       "  <tbody>\n",
       "    <tr>\n",
       "      <th>130710</th>\n",
       "      <td>65</td>\n",
       "      <td>1525</td>\n",
       "      <td>4</td>\n",
       "      <td>29988</td>\n",
       "      <td>35085.96</td>\n",
       "      <td>24560.17</td>\n",
       "      <td>10525.79</td>\n",
       "      <td>21</td>\n",
       "    </tr>\n",
       "    <tr>\n",
       "      <th>192873</th>\n",
       "      <td>96</td>\n",
       "      <td>1439</td>\n",
       "      <td>1</td>\n",
       "      <td>21312</td>\n",
       "      <td>22803.84</td>\n",
       "      <td>15962.69</td>\n",
       "      <td>6841.15</td>\n",
       "      <td>12</td>\n",
       "    </tr>\n",
       "    <tr>\n",
       "      <th>186173</th>\n",
       "      <td>93</td>\n",
       "      <td>413</td>\n",
       "      <td>3</td>\n",
       "      <td>86400</td>\n",
       "      <td>228960.00</td>\n",
       "      <td>160272.00</td>\n",
       "      <td>68688.00</td>\n",
       "      <td>31</td>\n",
       "    </tr>\n",
       "    <tr>\n",
       "      <th>262108</th>\n",
       "      <td>130</td>\n",
       "      <td>1965</td>\n",
       "      <td>2</td>\n",
       "      <td>59964</td>\n",
       "      <td>97141.68</td>\n",
       "      <td>67999.18</td>\n",
       "      <td>29142.50</td>\n",
       "      <td>19</td>\n",
       "    </tr>\n",
       "    <tr>\n",
       "      <th>376744</th>\n",
       "      <td>187</td>\n",
       "      <td>1029</td>\n",
       "      <td>4</td>\n",
       "      <td>70788</td>\n",
       "      <td>223690.08</td>\n",
       "      <td>156583.06</td>\n",
       "      <td>67107.02</td>\n",
       "      <td>17</td>\n",
       "    </tr>\n",
       "  </tbody>\n",
       "</table>\n",
       "</div>"
      ],
      "text/plain": [
       "        DateKey  ProductKey StoreKey  #SoldToday  SalesTotal  CostOfItemsSold  \\\n",
       "130710       65        1525        4       29988    35085.96         24560.17   \n",
       "192873       96        1439        1       21312    22803.84         15962.69   \n",
       "186173       93         413        3       86400   228960.00        160272.00   \n",
       "262108      130        1965        2       59964    97141.68         67999.18   \n",
       "376744      187        1029        4       70788   223690.08        156583.06   \n",
       "\n",
       "        GrossProfit  DailyCustomerCount  \n",
       "130710     10525.79                  21  \n",
       "192873      6841.15                  12  \n",
       "186173     68688.00                  31  \n",
       "262108     29142.50                  19  \n",
       "376744     67107.02                  17  "
      ]
     },
     "execution_count": 32,
     "metadata": {},
     "output_type": "execute_result"
    }
   ],
   "source": [
    "daily_sales_fact = daily_sales_fact.dropna(subset=['DateKey', \"ProductKey\", \"StoreKey\"])\n",
    "daily_sales_fact.sample(5)"
   ]
  },
  {
   "cell_type": "code",
   "execution_count": 33,
   "metadata": {},
   "outputs": [
    {
     "data": {
      "text/plain": [
       "(4415200, 8)"
      ]
     },
     "execution_count": 33,
     "metadata": {},
     "output_type": "execute_result"
    }
   ],
   "source": [
    "daily_sales_fact.shape"
   ]
  },
  {
   "cell_type": "markdown",
   "metadata": {},
   "source": [
    "##### convert keys to integers"
   ]
  },
  {
   "cell_type": "code",
   "execution_count": 34,
   "metadata": {},
   "outputs": [
    {
     "name": "stdout",
     "output_type": "stream",
     "text": [
      "<class 'pandas.core.frame.DataFrame'>\n",
      "Index: 4415200 entries, 0 to 1105094\n",
      "Data columns (total 8 columns):\n",
      " #   Column              Dtype  \n",
      "---  ------              -----  \n",
      " 0   DateKey             int64  \n",
      " 1   ProductKey          int64  \n",
      " 2   StoreKey            object \n",
      " 3   #SoldToday          int64  \n",
      " 4   SalesTotal          float64\n",
      " 5   CostOfItemsSold     float64\n",
      " 6   GrossProfit         float64\n",
      " 7   DailyCustomerCount  int64  \n",
      "dtypes: float64(3), int64(4), object(1)\n",
      "memory usage: 303.2+ MB\n"
     ]
    }
   ],
   "source": [
    "daily_sales_fact.info()"
   ]
  },
  {
   "cell_type": "code",
   "execution_count": 35,
   "metadata": {},
   "outputs": [],
   "source": [
    "daily_sales_fact['DateKey'] = daily_sales_fact['DateKey'].astype(int)\n",
    "daily_sales_fact['ProductKey'] = daily_sales_fact['ProductKey'].astype(int)\n",
    "daily_sales_fact['StoreKey'] = daily_sales_fact['StoreKey'].astype(int)"
   ]
  },
  {
   "cell_type": "code",
   "execution_count": 36,
   "metadata": {},
   "outputs": [
    {
     "data": {
      "text/plain": [
       "<sqlite3.Cursor at 0x1afbe89fb40>"
      ]
     },
     "execution_count": 36,
     "metadata": {},
     "output_type": "execute_result"
    }
   ],
   "source": [
    "curr = conn.cursor()\n",
    "\n",
    "curr.execute(\"Drop table if exists SalesFact_DailyLevel\")\n",
    "curr.execute(\"\"\"\n",
    "    CREATE TABLE SalesFact_DailyLevel (\n",
    "        DateKey INT NOT NULL,\n",
    "        ProductKey INT NOT NULL,\n",
    "        StoreKey INT NOT NULL,\n",
    "        \"#SoldToday\" INT NOT NULL,\n",
    "        CostOfItemsSold REAL NOT NULL,\n",
    "        SalesTotal REAL NOT NULL,\n",
    "        GrossProfit REAL NOT NULL,\n",
    "        DailyCustomerCount INT NOT NULL,\n",
    "        PRIMARY KEY (DateKey, ProductKey, StoreKey),\n",
    "        FOREIGN KEY (DateKey) REFERENCES DateDimension(DateKey),\n",
    "        FOREIGN KEY (ProductKey) REFERENCES ProductDimension(ProductKey),\n",
    "        FOREIGN KEY (StoreKey) REFERENCES StoreDimension(StoreKey)\n",
    "    );\n",
    "\"\"\")"
   ]
  },
  {
   "cell_type": "code",
   "execution_count": 37,
   "metadata": {},
   "outputs": [
    {
     "data": {
      "text/plain": [
       "4415200"
      ]
     },
     "execution_count": 37,
     "metadata": {},
     "output_type": "execute_result"
    }
   ],
   "source": [
    "daily_sales_fact.to_sql(\"SalesFact_DailyLevel\", conn, if_exists='replace', index=False)"
   ]
  },
  {
   "cell_type": "markdown",
   "metadata": {},
   "source": [
    "##### Test"
   ]
  },
  {
   "cell_type": "code",
   "execution_count": 38,
   "metadata": {},
   "outputs": [
    {
     "data": {
      "text/html": [
       "<div>\n",
       "<style scoped>\n",
       "    .dataframe tbody tr th:only-of-type {\n",
       "        vertical-align: middle;\n",
       "    }\n",
       "\n",
       "    .dataframe tbody tr th {\n",
       "        vertical-align: top;\n",
       "    }\n",
       "\n",
       "    .dataframe thead th {\n",
       "        text-align: right;\n",
       "    }\n",
       "</style>\n",
       "<table border=\"1\" class=\"dataframe\">\n",
       "  <thead>\n",
       "    <tr style=\"text-align: right;\">\n",
       "      <th></th>\n",
       "      <th>DateKey</th>\n",
       "      <th>ProductKey</th>\n",
       "      <th>StoreKey</th>\n",
       "      <th>#SoldToday</th>\n",
       "      <th>SalesTotal</th>\n",
       "      <th>CostOfItemsSold</th>\n",
       "      <th>GrossProfit</th>\n",
       "      <th>DailyCustomerCount</th>\n",
       "    </tr>\n",
       "  </thead>\n",
       "  <tbody>\n",
       "    <tr>\n",
       "      <th>0</th>\n",
       "      <td>1</td>\n",
       "      <td>1</td>\n",
       "      <td>1</td>\n",
       "      <td>1596</td>\n",
       "      <td>4373.04</td>\n",
       "      <td>3061.13</td>\n",
       "      <td>1311.91</td>\n",
       "      <td>19</td>\n",
       "    </tr>\n",
       "    <tr>\n",
       "      <th>1</th>\n",
       "      <td>1</td>\n",
       "      <td>2</td>\n",
       "      <td>1</td>\n",
       "      <td>924</td>\n",
       "      <td>1820.28</td>\n",
       "      <td>1274.20</td>\n",
       "      <td>546.08</td>\n",
       "      <td>11</td>\n",
       "    </tr>\n",
       "    <tr>\n",
       "      <th>2</th>\n",
       "      <td>1</td>\n",
       "      <td>3</td>\n",
       "      <td>1</td>\n",
       "      <td>1092</td>\n",
       "      <td>4793.88</td>\n",
       "      <td>3355.72</td>\n",
       "      <td>1438.16</td>\n",
       "      <td>12</td>\n",
       "    </tr>\n",
       "    <tr>\n",
       "      <th>3</th>\n",
       "      <td>1</td>\n",
       "      <td>4</td>\n",
       "      <td>1</td>\n",
       "      <td>1680</td>\n",
       "      <td>7375.20</td>\n",
       "      <td>5162.64</td>\n",
       "      <td>2212.56</td>\n",
       "      <td>20</td>\n",
       "    </tr>\n",
       "    <tr>\n",
       "      <th>4</th>\n",
       "      <td>1</td>\n",
       "      <td>5</td>\n",
       "      <td>1</td>\n",
       "      <td>672</td>\n",
       "      <td>2210.88</td>\n",
       "      <td>1547.62</td>\n",
       "      <td>663.26</td>\n",
       "      <td>8</td>\n",
       "    </tr>\n",
       "    <tr>\n",
       "      <th>5</th>\n",
       "      <td>1</td>\n",
       "      <td>6</td>\n",
       "      <td>1</td>\n",
       "      <td>1764</td>\n",
       "      <td>3880.80</td>\n",
       "      <td>2716.56</td>\n",
       "      <td>1164.24</td>\n",
       "      <td>19</td>\n",
       "    </tr>\n",
       "    <tr>\n",
       "      <th>6</th>\n",
       "      <td>1</td>\n",
       "      <td>7</td>\n",
       "      <td>1</td>\n",
       "      <td>1680</td>\n",
       "      <td>21420.00</td>\n",
       "      <td>14994.00</td>\n",
       "      <td>6426.00</td>\n",
       "      <td>20</td>\n",
       "    </tr>\n",
       "    <tr>\n",
       "      <th>7</th>\n",
       "      <td>1</td>\n",
       "      <td>8</td>\n",
       "      <td>1</td>\n",
       "      <td>2268</td>\n",
       "      <td>12451.32</td>\n",
       "      <td>8715.92</td>\n",
       "      <td>3735.40</td>\n",
       "      <td>27</td>\n",
       "    </tr>\n",
       "    <tr>\n",
       "      <th>8</th>\n",
       "      <td>1</td>\n",
       "      <td>9</td>\n",
       "      <td>1</td>\n",
       "      <td>1512</td>\n",
       "      <td>5972.40</td>\n",
       "      <td>4180.68</td>\n",
       "      <td>1791.72</td>\n",
       "      <td>18</td>\n",
       "    </tr>\n",
       "    <tr>\n",
       "      <th>9</th>\n",
       "      <td>1</td>\n",
       "      <td>10</td>\n",
       "      <td>1</td>\n",
       "      <td>2352</td>\n",
       "      <td>12395.04</td>\n",
       "      <td>8676.53</td>\n",
       "      <td>3718.51</td>\n",
       "      <td>28</td>\n",
       "    </tr>\n",
       "  </tbody>\n",
       "</table>\n",
       "</div>"
      ],
      "text/plain": [
       "   DateKey  ProductKey  StoreKey  #SoldToday  SalesTotal  CostOfItemsSold  \\\n",
       "0        1           1         1        1596     4373.04          3061.13   \n",
       "1        1           2         1         924     1820.28          1274.20   \n",
       "2        1           3         1        1092     4793.88          3355.72   \n",
       "3        1           4         1        1680     7375.20          5162.64   \n",
       "4        1           5         1         672     2210.88          1547.62   \n",
       "5        1           6         1        1764     3880.80          2716.56   \n",
       "6        1           7         1        1680    21420.00         14994.00   \n",
       "7        1           8         1        2268    12451.32          8715.92   \n",
       "8        1           9         1        1512     5972.40          4180.68   \n",
       "9        1          10         1        2352    12395.04          8676.53   \n",
       "\n",
       "   GrossProfit  DailyCustomerCount  \n",
       "0      1311.91                  19  \n",
       "1       546.08                  11  \n",
       "2      1438.16                  12  \n",
       "3      2212.56                  20  \n",
       "4       663.26                   8  \n",
       "5      1164.24                  19  \n",
       "6      6426.00                  20  \n",
       "7      3735.40                  27  \n",
       "8      1791.72                  18  \n",
       "9      3718.51                  28  "
      ]
     },
     "execution_count": 38,
     "metadata": {},
     "output_type": "execute_result"
    }
   ],
   "source": [
    "sales_fact = pd.read_sql(\"select * from SalesFact_DailyLevel limit 10\", conn)\n",
    "sales_fact"
   ]
  },
  {
   "cell_type": "code",
   "execution_count": 39,
   "metadata": {},
   "outputs": [],
   "source": [
    "curr.close()\n",
    "conn.close()"
   ]
  },
  {
   "cell_type": "code",
   "execution_count": null,
   "metadata": {},
   "outputs": [],
   "source": []
  },
  {
   "cell_type": "code",
   "execution_count": 40,
   "metadata": {},
   "outputs": [],
   "source": [
    "daily_sales_fact.to_csv(f\"{output_file_path}SalesFact_DailyLevel.csv\", index=False)"
   ]
  },
  {
   "cell_type": "code",
   "execution_count": null,
   "metadata": {},
   "outputs": [],
   "source": []
  },
  {
   "cell_type": "code",
   "execution_count": null,
   "metadata": {},
   "outputs": [],
   "source": []
  },
  {
   "cell_type": "code",
   "execution_count": null,
   "metadata": {},
   "outputs": [],
   "source": []
  }
 ],
 "metadata": {
  "kernelspec": {
   "display_name": "Python 3",
   "language": "python",
   "name": "python3"
  },
  "language_info": {
   "codemirror_mode": {
    "name": "ipython",
    "version": 3
   },
   "file_extension": ".py",
   "mimetype": "text/x-python",
   "name": "python",
   "nbconvert_exporter": "python",
   "pygments_lexer": "ipython3",
   "version": "3.13.3"
  }
 },
 "nbformat": 4,
 "nbformat_minor": 2
}
