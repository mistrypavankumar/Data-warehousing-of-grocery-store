{
 "cells": [
  {
   "cell_type": "markdown",
   "metadata": {},
   "source": [
    "### Deliverable 2a: Products Dimension table"
   ]
  },
  {
   "cell_type": "code",
   "execution_count": 2,
   "metadata": {},
   "outputs": [],
   "source": [
    "import pandas as pd\n",
    "import numpy as np\n",
    "from fuzzywuzzy import fuzz, process\n",
    "import re\n",
    "from collections import defaultdict"
   ]
  },
  {
   "cell_type": "code",
   "execution_count": 3,
   "metadata": {},
   "outputs": [],
   "source": [
    "# Load data\n",
    "products = pd.read_csv(\"Products1.txt\", delimiter=\"|\")\n",
    "product_class = pd.read_csv(\"product_class.csv\")"
   ]
  },
  {
   "cell_type": "code",
   "execution_count": 4,
   "metadata": {},
   "outputs": [
    {
     "data": {
      "text/plain": [
       "111"
      ]
     },
     "execution_count": 4,
     "metadata": {},
     "output_type": "execute_result"
    }
   ],
   "source": [
    "# Create mapping dictionaries\n",
    "subcategory_map = dict(\n",
    "    zip(product_class['product_subcategory'], product_class['product_class_id']))\n",
    "\n",
    "len(subcategory_map)"
   ]
  },
  {
   "cell_type": "code",
   "execution_count": 5,
   "metadata": {},
   "outputs": [
    {
     "data": {
      "text/plain": [
       "['Nuts',\n",
       " 'Shellfish',\n",
       " 'Canned Fruit',\n",
       " 'Spices',\n",
       " 'Pasta',\n",
       " 'Yogurt',\n",
       " 'Coffee',\n",
       " 'Deli Meats',\n",
       " 'Ice Cream',\n",
       " 'TV Dinner',\n",
       " 'Cheese',\n",
       " 'Chips',\n",
       " 'Fresh Vegetables',\n",
       " 'Sour Cream',\n",
       " 'Cottage Cheese',\n",
       " 'Deli Salads',\n",
       " 'Dried Meat',\n",
       " 'Paper Wipes',\n",
       " 'Soda',\n",
       " 'Deodorizers']"
      ]
     },
     "execution_count": 5,
     "metadata": {},
     "output_type": "execute_result"
    }
   ],
   "source": [
    "subcategory_list = list(subcategory_map.keys())\n",
    "subcategory_list[:20]"
   ]
  },
  {
   "cell_type": "code",
   "execution_count": 6,
   "metadata": {},
   "outputs": [
    {
     "data": {
      "text/plain": [
       "111"
      ]
     },
     "execution_count": 6,
     "metadata": {},
     "output_type": "execute_result"
    }
   ],
   "source": [
    "len(subcategory_list)"
   ]
  },
  {
   "cell_type": "markdown",
   "metadata": {},
   "source": [
    "##### Cleaning ItemType from products"
   ]
  },
  {
   "cell_type": "code",
   "execution_count": 7,
   "metadata": {},
   "outputs": [
    {
     "name": "stdout",
     "output_type": "stream",
     "text": [
      "1186\n"
     ]
    }
   ],
   "source": [
    "products['clean_itemType'] = products['itemType'].copy()\n",
    "\n",
    "\n",
    "# ItemType in subcategory\n",
    "valid_mask = products['clean_itemType'].isin(subcategory_map.keys())\n",
    "print(valid_mask.sum())"
   ]
  },
  {
   "cell_type": "markdown",
   "metadata": {},
   "source": [
    "##### Fuzzy matching for similar but not identical types"
   ]
  },
  {
   "cell_type": "code",
   "execution_count": 8,
   "metadata": {},
   "outputs": [],
   "source": [
    "def find_best_match(item_type):\n",
    "    if pd.isna(item_type):\n",
    "        return None\n",
    "    \n",
    "    if item_type in subcategory_map:\n",
    "        return item_type\n",
    "    \n",
    "\n",
    "    # common subsitutions\n",
    "    common_subs = {\n",
    "        'snacks': \"Chips\",\n",
    "        \"bread\": \"Sliced Bread\",\n",
    "        \"drink\": \"Beverages\",\n",
    "        \"frozen\": \"Frozen Foods\",\n",
    "        \"meats\": \"Deli Meats\"\n",
    "    }\n",
    "\n",
    "    for old, new in common_subs.items():\n",
    "        if old is str(item_type).lower():\n",
    "            return new\n",
    "        \n",
    "\n",
    "    # Fuzzing matching\n",
    "    match, score = process.extractOne(\n",
    "        str(item_type), subcategory_list, scorer=fuzz.token_set_ratio)\n",
    "\n",
    "    return match if score > 65 else None"
   ]
  },
  {
   "cell_type": "code",
   "execution_count": 9,
   "metadata": {},
   "outputs": [
    {
     "name": "stdout",
     "output_type": "stream",
     "text": [
      "595\n"
     ]
    }
   ],
   "source": [
    "needed_mapping = ~valid_mask & products['clean_itemType'].notna()\n",
    "print(needed_mapping.sum())"
   ]
  },
  {
   "cell_type": "markdown",
   "metadata": {},
   "source": [
    "##### Matching only to non-valid types"
   ]
  },
  {
   "cell_type": "code",
   "execution_count": 10,
   "metadata": {},
   "outputs": [],
   "source": [
    "products.loc[needed_mapping, 'clean_itemType'] = (\n",
    "    products.loc[needed_mapping, 'clean_itemType'].apply(find_best_match).values\n",
    ")"
   ]
  },
  {
   "cell_type": "code",
   "execution_count": 11,
   "metadata": {},
   "outputs": [
    {
     "data": {
      "text/html": [
       "<div>\n",
       "<style scoped>\n",
       "    .dataframe tbody tr th:only-of-type {\n",
       "        vertical-align: middle;\n",
       "    }\n",
       "\n",
       "    .dataframe tbody tr th {\n",
       "        vertical-align: top;\n",
       "    }\n",
       "\n",
       "    .dataframe thead th {\n",
       "        text-align: right;\n",
       "    }\n",
       "</style>\n",
       "<table border=\"1\" class=\"dataframe\">\n",
       "  <thead>\n",
       "    <tr style=\"text-align: right;\">\n",
       "      <th></th>\n",
       "      <th>Manufacturer</th>\n",
       "      <th>Product Name</th>\n",
       "      <th>Size</th>\n",
       "      <th>itemType</th>\n",
       "      <th>SKU</th>\n",
       "      <th>BasePrice</th>\n",
       "      <th>clean_itemType</th>\n",
       "    </tr>\n",
       "  </thead>\n",
       "  <tbody>\n",
       "    <tr>\n",
       "      <th>989</th>\n",
       "      <td>Hilltop</td>\n",
       "      <td>Hilltop Mint Mouthwash</td>\n",
       "      <td>16.2</td>\n",
       "      <td>Mouthwash</td>\n",
       "      <td>43075001</td>\n",
       "      <td>$3.62</td>\n",
       "      <td>Mouthwash</td>\n",
       "    </tr>\n",
       "    <tr>\n",
       "      <th>1955</th>\n",
       "      <td>Beech-Nut</td>\n",
       "      <td>Stage 2 Yellow Cling Peaches</td>\n",
       "      <td>4 oz</td>\n",
       "      <td>Baby Food</td>\n",
       "      <td>44041001</td>\n",
       "      <td>$0.79</td>\n",
       "      <td>Baby Food</td>\n",
       "    </tr>\n",
       "    <tr>\n",
       "      <th>997</th>\n",
       "      <td>High Top</td>\n",
       "      <td>High Top Cauliflower</td>\n",
       "      <td>17.7</td>\n",
       "      <td>Fresh Vegetables</td>\n",
       "      <td>43083001</td>\n",
       "      <td>$2.23</td>\n",
       "      <td>Fresh Vegetables</td>\n",
       "    </tr>\n",
       "    <tr>\n",
       "      <th>960</th>\n",
       "      <td>Hostess</td>\n",
       "      <td>Cake Ding Dongs</td>\n",
       "      <td>15.3 oz</td>\n",
       "      <td>NaN</td>\n",
       "      <td>43044001</td>\n",
       "      <td>$3.89</td>\n",
       "      <td>NaN</td>\n",
       "    </tr>\n",
       "    <tr>\n",
       "      <th>1207</th>\n",
       "      <td>Gerber</td>\n",
       "      <td>1st Foods Prunes</td>\n",
       "      <td>5 oz</td>\n",
       "      <td>Baby Food</td>\n",
       "      <td>43293001</td>\n",
       "      <td>$1.09</td>\n",
       "      <td>Baby Food</td>\n",
       "    </tr>\n",
       "  </tbody>\n",
       "</table>\n",
       "</div>"
      ],
      "text/plain": [
       "     Manufacturer                  Product Name     Size          itemType  \\\n",
       "989       Hilltop       Hilltop Mint Mouthwash      16.2         Mouthwash   \n",
       "1955    Beech-Nut  Stage 2 Yellow Cling Peaches     4 oz         Baby Food   \n",
       "997      High Top         High Top Cauliflower      17.7  Fresh Vegetables   \n",
       "960       Hostess               Cake Ding Dongs  15.3 oz               NaN   \n",
       "1207       Gerber              1st Foods Prunes     5 oz         Baby Food   \n",
       "\n",
       "           SKU BasePrice    clean_itemType  \n",
       "989   43075001     $3.62         Mouthwash  \n",
       "1955  44041001     $0.79         Baby Food  \n",
       "997   43083001     $2.23  Fresh Vegetables  \n",
       "960   43044001     $3.89               NaN  \n",
       "1207  43293001     $1.09         Baby Food  "
      ]
     },
     "execution_count": 11,
     "metadata": {},
     "output_type": "execute_result"
    }
   ],
   "source": [
    "products.sample(5)"
   ]
  },
  {
   "cell_type": "markdown",
   "metadata": {},
   "source": [
    "##### Product name keyword analysis for nulls"
   ]
  },
  {
   "cell_type": "code",
   "execution_count": 12,
   "metadata": {},
   "outputs": [
    {
     "data": {
      "text/plain": [
       "defaultdict(list,\n",
       "            {'Nuts': ['Nuts'],\n",
       "             'nuts': ['Nuts'],\n",
       "             'shellfish': ['Shellfish'],\n",
       "             'Shellfish': ['Shellfish'],\n",
       "             'canned fruit': ['Canned Fruit'],\n",
       "             'canned': ['Canned Fruit', 'Canned Vegetables'],\n",
       "             'Fruit': ['Canned Fruit', 'Fresh Fruit', 'Dried Fruit'],\n",
       "             'fruit': ['Canned Fruit', 'Fresh Fruit', 'Dried Fruit'],\n",
       "             'Canned': ['Canned Fruit', 'Canned Vegetables'],\n",
       "             'spices': ['Spices'],\n",
       "             'Spices': ['Spices'],\n",
       "             'Pasta': ['Pasta'],\n",
       "             'pasta': ['Pasta'],\n",
       "             'yogurt': ['Yogurt'],\n",
       "             'Yogurt': ['Yogurt'],\n",
       "             'Coffee': ['Coffee'],\n",
       "             'coffee': ['Coffee'],\n",
       "             'Deli': ['Deli Meats', 'Deli Salads'],\n",
       "             'deli': ['Deli Meats', 'Deli Salads'],\n",
       "             'Meats': ['Deli Meats'],\n",
       "             'meats': ['Deli Meats'],\n",
       "             'deli meats': ['Deli Meats'],\n",
       "             'Cream': ['Ice Cream', 'Sour Cream'],\n",
       "             'cream': ['Ice Cream', 'Sour Cream'],\n",
       "             'ice cream': ['Ice Cream'],\n",
       "             'dinner': ['TV Dinner'],\n",
       "             'tv dinner': ['TV Dinner'],\n",
       "             'Dinner': ['TV Dinner'],\n",
       "             'cheese': ['Cheese', 'Cottage Cheese'],\n",
       "             'Cheese': ['Cheese', 'Cottage Cheese'],\n",
       "             'Chips': ['Chips'],\n",
       "             'chips': ['Chips'],\n",
       "             'vegetables': ['Fresh Vegetables',\n",
       "              'Frozen Vegetables',\n",
       "              'Canned Vegetables'],\n",
       "             'fresh': ['Fresh Vegetables',\n",
       "              'Fresh Fish',\n",
       "              'Fresh Chicken',\n",
       "              'Fresh Fruit'],\n",
       "             'fresh vegetables': ['Fresh Vegetables'],\n",
       "             'Vegetables': ['Fresh Vegetables',\n",
       "              'Frozen Vegetables',\n",
       "              'Canned Vegetables'],\n",
       "             'Fresh': ['Fresh Vegetables',\n",
       "              'Fresh Fish',\n",
       "              'Fresh Chicken',\n",
       "              'Fresh Fruit'],\n",
       "             'sour': ['Sour Cream'],\n",
       "             'sour cream': ['Sour Cream'],\n",
       "             'Sour': ['Sour Cream'],\n",
       "             'cottage': ['Cottage Cheese'],\n",
       "             'Cottage': ['Cottage Cheese'],\n",
       "             'cottage cheese': ['Cottage Cheese'],\n",
       "             'Salads': ['Deli Salads'],\n",
       "             'salads': ['Deli Salads'],\n",
       "             'deli salads': ['Deli Salads'],\n",
       "             'dried': ['Dried Meat', 'Dried Fruit'],\n",
       "             'meat': ['Dried Meat'],\n",
       "             'Meat': ['Dried Meat'],\n",
       "             'dried meat': ['Dried Meat'],\n",
       "             'Dried': ['Dried Meat', 'Dried Fruit'],\n",
       "             'Wipes': ['Paper Wipes'],\n",
       "             'Paper': ['Paper Wipes', 'Paper Dishes'],\n",
       "             'paper wipes': ['Paper Wipes'],\n",
       "             'wipes': ['Paper Wipes'],\n",
       "             'paper': ['Paper Wipes', 'Paper Dishes'],\n",
       "             'Soda': ['Soda'],\n",
       "             'soda': ['Soda'],\n",
       "             'Deodorizers': ['Deodorizers'],\n",
       "             'deodorizers': ['Deodorizers'],\n",
       "             'cleaners': ['Cleaners', 'Pot Cleaners'],\n",
       "             'Cleaners': ['Cleaners', 'Pot Cleaners'],\n",
       "             'Shower': ['Shower Soap'],\n",
       "             'soap': ['Shower Soap', 'Dish Soap', 'Dishwasher Soap'],\n",
       "             'shower': ['Shower Soap'],\n",
       "             'shower soap': ['Shower Soap'],\n",
       "             'Soap': ['Shower Soap', 'Dish Soap', 'Dishwasher Soap'],\n",
       "             'Fish': ['Fresh Fish'],\n",
       "             'fish': ['Fresh Fish'],\n",
       "             'fresh fish': ['Fresh Fish'],\n",
       "             'Bagels': ['Bagels'],\n",
       "             'bagels': ['Bagels'],\n",
       "             'muffins': ['Muffins'],\n",
       "             'Muffins': ['Muffins'],\n",
       "             'bread': ['Sliced Bread'],\n",
       "             'Sliced': ['Sliced Bread'],\n",
       "             'Bread': ['Sliced Bread'],\n",
       "             'sliced bread': ['Sliced Bread'],\n",
       "             'sliced': ['Sliced Bread'],\n",
       "             'Pancake': ['Pancake Mix'],\n",
       "             'pancake': ['Pancake Mix'],\n",
       "             'pancake mix': ['Pancake Mix'],\n",
       "             'pancakes': ['Pancakes'],\n",
       "             'Pancakes': ['Pancakes'],\n",
       "             'juice': ['Juice'],\n",
       "             'Juice': ['Juice'],\n",
       "             'jelly': ['Jelly'],\n",
       "             'Jelly': ['Jelly'],\n",
       "             'preserves': ['Preserves'],\n",
       "             'Preserves': ['Preserves'],\n",
       "             'waffles': ['Waffles'],\n",
       "             'Waffles': ['Waffles'],\n",
       "             'cereal': ['Cereal'],\n",
       "             'Cereal': ['Cereal'],\n",
       "             'Candy': ['Chocolate Candy', 'Hard Candy'],\n",
       "             'Chocolate': ['Chocolate Candy', 'Chocolate'],\n",
       "             'candy': ['Chocolate Candy', 'Hard Candy'],\n",
       "             'chocolate candy': ['Chocolate Candy'],\n",
       "             'chocolate': ['Chocolate Candy', 'Chocolate'],\n",
       "             'Hard': ['Hard Candy'],\n",
       "             'hard': ['Hard Candy'],\n",
       "             'hard candy': ['Hard Candy'],\n",
       "             'personal': ['Personal Hygiene'],\n",
       "             'Hygiene': ['Personal Hygiene'],\n",
       "             'Personal': ['Personal Hygiene'],\n",
       "             'personal hygiene': ['Personal Hygiene'],\n",
       "             'hygiene': ['Personal Hygiene'],\n",
       "             'pans': ['Pots and Pans'],\n",
       "             'Pots': ['Pots and Pans'],\n",
       "             'Pans': ['Pots and Pans'],\n",
       "             'pots': ['Pots and Pans'],\n",
       "             'pots and pans': ['Pots and Pans'],\n",
       "             'Tools': ['Tools'],\n",
       "             'tools': ['Tools'],\n",
       "             'sponges': ['Sponges'],\n",
       "             'Sponges': ['Sponges'],\n",
       "             'Beer': ['Beer'],\n",
       "             'beer': ['Beer'],\n",
       "             'wine': ['Wine', 'Non-Alcoholic Wine'],\n",
       "             'Wine': ['Wine', 'Non-Alcoholic Wine'],\n",
       "             'Cookies': ['Cookies'],\n",
       "             'cookies': ['Cookies'],\n",
       "             'Pretzels': ['Pretzels'],\n",
       "             'pretzels': ['Pretzels'],\n",
       "             'Candles': ['Candles'],\n",
       "             'candles': ['Candles'],\n",
       "             'Sauces': ['Sauces'],\n",
       "             'sauces': ['Sauces'],\n",
       "             'cooking': ['Cooking Oil'],\n",
       "             'Cooking': ['Cooking Oil'],\n",
       "             'cooking oil': ['Cooking Oil'],\n",
       "             'sugar': ['Sugar'],\n",
       "             'Sugar': ['Sugar'],\n",
       "             'flavored': ['Flavored Drinks'],\n",
       "             'Flavored': ['Flavored Drinks'],\n",
       "             'Drinks': ['Flavored Drinks'],\n",
       "             'flavored drinks': ['Flavored Drinks'],\n",
       "             'drinks': ['Flavored Drinks'],\n",
       "             'peanut': ['Peanut Butter'],\n",
       "             'Peanut': ['Peanut Butter'],\n",
       "             'Butter': ['Peanut Butter'],\n",
       "             'peanut butter': ['Peanut Butter'],\n",
       "             'butter': ['Peanut Butter'],\n",
       "             'Popcorn': ['Popcorn'],\n",
       "             'popcorn': ['Popcorn'],\n",
       "             'paper dishes': ['Paper Dishes'],\n",
       "             'dishes': ['Paper Dishes'],\n",
       "             'Dishes': ['Paper Dishes'],\n",
       "             'Utensils': ['Plastic Utensils'],\n",
       "             'plastic': ['Plastic Utensils'],\n",
       "             'plastic utensils': ['Plastic Utensils'],\n",
       "             'utensils': ['Plastic Utensils'],\n",
       "             'Plastic': ['Plastic Utensils'],\n",
       "             'Rice': ['Rice'],\n",
       "             'rice': ['Rice'],\n",
       "             'soup': ['Soup', 'Dehydrated Soup'],\n",
       "             'Soup': ['Soup', 'Dehydrated Soup'],\n",
       "             'dehydrated': ['Dehydrated Soup'],\n",
       "             'dehydrated soup': ['Dehydrated Soup'],\n",
       "             'Dehydrated': ['Dehydrated Soup'],\n",
       "             'frozen': ['Frozen Vegetables', 'Frozen Chicken'],\n",
       "             'frozen vegetables': ['Frozen Vegetables'],\n",
       "             'Frozen': ['Frozen Vegetables', 'Frozen Chicken'],\n",
       "             'canned vegetables': ['Canned Vegetables'],\n",
       "             'french': ['French Fries'],\n",
       "             'french fries': ['French Fries'],\n",
       "             'Fries': ['French Fries'],\n",
       "             'French': ['French Fries'],\n",
       "             'fries': ['French Fries'],\n",
       "             'pizza': ['Pizza'],\n",
       "             'Pizza': ['Pizza'],\n",
       "             'hamburger': ['Hamburger'],\n",
       "             'Hamburger': ['Hamburger'],\n",
       "             'eggs': ['Eggs'],\n",
       "             'Eggs': ['Eggs'],\n",
       "             'tofu': ['Tofu'],\n",
       "             'Tofu': ['Tofu'],\n",
       "             'Dish': ['Dish Soap'],\n",
       "             'dish soap': ['Dish Soap'],\n",
       "             'dish': ['Dish Soap'],\n",
       "             'dishwasher soap': ['Dishwasher Soap'],\n",
       "             'dishwasher': ['Dishwasher Soap'],\n",
       "             'Dishwasher': ['Dishwasher Soap'],\n",
       "             'Aspirin': ['Aspirin'],\n",
       "             'aspirin': ['Aspirin'],\n",
       "             'ibuprofen': ['Ibuprofen'],\n",
       "             'Ibuprofen': ['Ibuprofen'],\n",
       "             'acetominifen': ['Acetominifen'],\n",
       "             'Acetominifen': ['Acetominifen'],\n",
       "             'nasal': ['Nasal Sprays'],\n",
       "             'nasal sprays': ['Nasal Sprays'],\n",
       "             'sprays': ['Nasal Sprays'],\n",
       "             'Nasal': ['Nasal Sprays'],\n",
       "             'Sprays': ['Nasal Sprays'],\n",
       "             'Mouthwash': ['Mouthwash'],\n",
       "             'mouthwash': ['Mouthwash'],\n",
       "             'cold remedies': ['Cold Remedies'],\n",
       "             'Remedies': ['Cold Remedies'],\n",
       "             'remedies': ['Cold Remedies'],\n",
       "             'cold': ['Cold Remedies'],\n",
       "             'Cold': ['Cold Remedies'],\n",
       "             'Milk': ['Milk'],\n",
       "             'milk': ['Milk'],\n",
       "             'chicken': ['Fresh Chicken', 'Frozen Chicken'],\n",
       "             'Chicken': ['Fresh Chicken', 'Frozen Chicken'],\n",
       "             'fresh chicken': ['Fresh Chicken'],\n",
       "             'Conditioner': ['Conditioner'],\n",
       "             'conditioner': ['Conditioner'],\n",
       "             'Shampoo': ['Shampoo'],\n",
       "             'shampoo': ['Shampoo'],\n",
       "             'lightbulbs': ['Lightbulbs'],\n",
       "             'Lightbulbs': ['Lightbulbs'],\n",
       "             'dogs': ['Hot Dogs'],\n",
       "             'hot dogs': ['Hot Dogs'],\n",
       "             'Dogs': ['Hot Dogs'],\n",
       "             'Crackers': ['Crackers'],\n",
       "             'crackers': ['Crackers'],\n",
       "             'Dips': ['Dips'],\n",
       "             'dips': ['Dips'],\n",
       "             'Donuts': ['Donuts'],\n",
       "             'donuts': ['Donuts'],\n",
       "             'toilet': ['Toilet Brushes'],\n",
       "             'toilet brushes': ['Toilet Brushes'],\n",
       "             'brushes': ['Toilet Brushes'],\n",
       "             'Toilet': ['Toilet Brushes'],\n",
       "             'Brushes': ['Toilet Brushes'],\n",
       "             'Scrubbers': ['Pot Scrubbers'],\n",
       "             'pot scrubbers': ['Pot Scrubbers'],\n",
       "             'scrubbers': ['Pot Scrubbers'],\n",
       "             'pot cleaners': ['Pot Cleaners'],\n",
       "             'Toothbrushes': ['Toothbrushes'],\n",
       "             'toothbrushes': ['Toothbrushes'],\n",
       "             'sunglasses': ['Sunglasses'],\n",
       "             'Sunglasses': ['Sunglasses'],\n",
       "             'bologna': ['Bologna'],\n",
       "             'Bologna': ['Bologna'],\n",
       "             'Non-': ['Non-Alcoholic Wine'],\n",
       "             'non-alcoholic': ['Non-Alcoholic Wine'],\n",
       "             'Alcoholic': ['Non-Alcoholic Wine'],\n",
       "             'non-alcoholic wine': ['Non-Alcoholic Wine'],\n",
       "             'Tuna': ['Tuna'],\n",
       "             'tuna': ['Tuna'],\n",
       "             'shrimp': ['Shrimp'],\n",
       "             'Shrimp': ['Shrimp'],\n",
       "             'Anchovies': ['Anchovies'],\n",
       "             'anchovies': ['Anchovies'],\n",
       "             'Clams': ['Clams'],\n",
       "             'clams': ['Clams'],\n",
       "             'Oysters': ['Oysters'],\n",
       "             'oysters': ['Oysters'],\n",
       "             'sardines': ['Sardines'],\n",
       "             'Sardines': ['Sardines'],\n",
       "             'fresh fruit': ['Fresh Fruit'],\n",
       "             'frozen chicken': ['Frozen Chicken'],\n",
       "             'batteries': ['Batteries'],\n",
       "             'Batteries': ['Batteries'],\n",
       "             'Maps': ['Maps'],\n",
       "             'maps': ['Maps'],\n",
       "             'screwdrivers': ['Screwdrivers'],\n",
       "             'Screwdrivers': ['Screwdrivers'],\n",
       "             'Sports': ['Sports Magazines'],\n",
       "             'sports magazines': ['Sports Magazines'],\n",
       "             'magazines': ['Sports Magazines',\n",
       "              'Home Magazines',\n",
       "              'Fashion Magazines',\n",
       "              'Computer Magazines',\n",
       "              'Auto Magazines'],\n",
       "             'sports': ['Sports Magazines'],\n",
       "             'Magazines': ['Sports Magazines',\n",
       "              'Home Magazines',\n",
       "              'Fashion Magazines',\n",
       "              'Computer Magazines',\n",
       "              'Auto Magazines'],\n",
       "             'Home': ['Home Magazines'],\n",
       "             'home': ['Home Magazines'],\n",
       "             'home magazines': ['Home Magazines'],\n",
       "             'fashion magazines': ['Fashion Magazines'],\n",
       "             'Fashion': ['Fashion Magazines'],\n",
       "             'fashion': ['Fashion Magazines'],\n",
       "             'computer': ['Computer Magazines'],\n",
       "             'computer magazines': ['Computer Magazines'],\n",
       "             'Computer': ['Computer Magazines'],\n",
       "             'Auto': ['Auto Magazines'],\n",
       "             'auto': ['Auto Magazines'],\n",
       "             'auto magazines': ['Auto Magazines'],\n",
       "             'dried fruit': ['Dried Fruit'],\n",
       "             'Popsicles': ['Popsicles'],\n",
       "             'popsicles': ['Popsicles'],\n",
       "             'baby food': ['Baby Food'],\n",
       "             'Baby': ['Baby Food'],\n",
       "             'baby': ['Baby Food'],\n",
       "             'food': ['Baby Food', 'Pet Food'],\n",
       "             'Food': ['Baby Food', 'Pet Food'],\n",
       "             'Bananas': ['Bananas'],\n",
       "             'bananas': ['Bananas'],\n",
       "             'diapers': ['Diapers'],\n",
       "             'Diapers': ['Diapers'],\n",
       "             'pet food': ['Pet Food']})"
      ]
     },
     "execution_count": 12,
     "metadata": {},
     "output_type": "execute_result"
    }
   ],
   "source": [
    "keyword_map = defaultdict(list)\n",
    "\n",
    "for subcat in subcategory_list:\n",
    "    keywords = re.sub(r'([A-Z])', r' \\1', subcat).split()\n",
    "    keywords.extend(subcat.lower().split('_'))\n",
    "    keywords.extend(subcat.lower().split())\n",
    "\n",
    "    for kw in set(keywords):\n",
    "        if len(kw) > 3:  # ignores short keywords\n",
    "            keyword_map[kw].append(subcat)\n",
    "\n",
    "\n",
    "keyword_map"
   ]
  },
  {
   "cell_type": "code",
   "execution_count": 13,
   "metadata": {},
   "outputs": [],
   "source": [
    "def keyword_analyzer(product_name):\n",
    "    if pd.isna(product_name):\n",
    "        return None\n",
    "    \n",
    "    product_name = str(product_name).lower()\n",
    "    matches = []\n",
    "\n",
    "    # Brand mappings\n",
    "    brand_keywords = {\n",
    "        'frito': 'Chips',\n",
    "        'lays': 'Chips',\n",
    "        'dannon': 'Yogurt',\n",
    "        'yoplait': 'Yogurt',\n",
    "        'kraft': 'Cheese',\n",
    "        'tropicana': 'Juice'\n",
    "    }\n",
    "\n",
    "    for brand, subcat in brand_keywords.items():\n",
    "        if brand in product_name:\n",
    "            return subcat\n",
    "        \n",
    "    \n",
    "    # product keyword matching\n",
    "    for kw in keyword_map:\n",
    "        if kw in product_name:\n",
    "            matches.extend(keyword_map[kw])\n",
    "    \n",
    "    return max(set(matches), key=matches.count) if matches else None"
   ]
  },
  {
   "cell_type": "markdown",
   "metadata": {},
   "source": [
    "##### Applying keyword analysis to remaining nulls"
   ]
  },
  {
   "cell_type": "code",
   "execution_count": 14,
   "metadata": {},
   "outputs": [
    {
     "name": "stdout",
     "output_type": "stream",
     "text": [
      "399\n"
     ]
    }
   ],
   "source": [
    "still_null = products['clean_itemType'].isna()\n",
    "print(still_null.sum())"
   ]
  },
  {
   "cell_type": "code",
   "execution_count": 15,
   "metadata": {},
   "outputs": [],
   "source": [
    "products.loc[still_null, 'clean_itemType'] = (products.loc[still_null, 'Product Name'].apply(keyword_analyzer).values)"
   ]
  },
  {
   "cell_type": "code",
   "execution_count": 16,
   "metadata": {},
   "outputs": [
    {
     "data": {
      "text/html": [
       "<div>\n",
       "<style scoped>\n",
       "    .dataframe tbody tr th:only-of-type {\n",
       "        vertical-align: middle;\n",
       "    }\n",
       "\n",
       "    .dataframe tbody tr th {\n",
       "        vertical-align: top;\n",
       "    }\n",
       "\n",
       "    .dataframe thead th {\n",
       "        text-align: right;\n",
       "    }\n",
       "</style>\n",
       "<table border=\"1\" class=\"dataframe\">\n",
       "  <thead>\n",
       "    <tr style=\"text-align: right;\">\n",
       "      <th></th>\n",
       "      <th>Manufacturer</th>\n",
       "      <th>Product Name</th>\n",
       "      <th>Size</th>\n",
       "      <th>itemType</th>\n",
       "      <th>SKU</th>\n",
       "      <th>BasePrice</th>\n",
       "      <th>clean_itemType</th>\n",
       "    </tr>\n",
       "  </thead>\n",
       "  <tbody>\n",
       "    <tr>\n",
       "      <th>1642</th>\n",
       "      <td>Cutting Edge</td>\n",
       "      <td>Cutting Edge Pimento Loaf</td>\n",
       "      <td>9.5</td>\n",
       "      <td>Bologna</td>\n",
       "      <td>43728001</td>\n",
       "      <td>$1.82</td>\n",
       "      <td>Bologna</td>\n",
       "    </tr>\n",
       "    <tr>\n",
       "      <th>1823</th>\n",
       "      <td>Booker</td>\n",
       "      <td>Booker String Cheese</td>\n",
       "      <td>18.6</td>\n",
       "      <td>Cheese</td>\n",
       "      <td>43909001</td>\n",
       "      <td>$1.66</td>\n",
       "      <td>Cheese</td>\n",
       "    </tr>\n",
       "    <tr>\n",
       "      <th>705</th>\n",
       "      <td>Luvs</td>\n",
       "      <td>With Ultra Leakguards Size 4</td>\n",
       "      <td>88 ct</td>\n",
       "      <td>Diapers</td>\n",
       "      <td>42788001</td>\n",
       "      <td>$18.99</td>\n",
       "      <td>Diapers</td>\n",
       "    </tr>\n",
       "    <tr>\n",
       "      <th>1846</th>\n",
       "      <td>Bird Call</td>\n",
       "      <td>Bird Call Childrens Aspirin</td>\n",
       "      <td>17.8</td>\n",
       "      <td>Aspirin</td>\n",
       "      <td>43932001</td>\n",
       "      <td>$2.87</td>\n",
       "      <td>Aspirin</td>\n",
       "    </tr>\n",
       "    <tr>\n",
       "      <th>629</th>\n",
       "      <td>Nabisco</td>\n",
       "      <td>Wheat Thins Hint Of Salt</td>\n",
       "      <td>9.1 oz</td>\n",
       "      <td>NaN</td>\n",
       "      <td>42710001</td>\n",
       "      <td>$2.39</td>\n",
       "      <td>None</td>\n",
       "    </tr>\n",
       "  </tbody>\n",
       "</table>\n",
       "</div>"
      ],
      "text/plain": [
       "      Manufacturer                  Product Name    Size itemType       SKU  \\\n",
       "1642  Cutting Edge    Cutting Edge Pimento Loaf      9.5  Bologna  43728001   \n",
       "1823        Booker         Booker String Cheese     18.6   Cheese  43909001   \n",
       "705           Luvs  With Ultra Leakguards Size 4   88 ct  Diapers  42788001   \n",
       "1846     Bird Call  Bird Call Childrens Aspirin     17.8  Aspirin  43932001   \n",
       "629        Nabisco      Wheat Thins Hint Of Salt  9.1 oz      NaN  42710001   \n",
       "\n",
       "     BasePrice clean_itemType  \n",
       "1642     $1.82        Bologna  \n",
       "1823     $1.66         Cheese  \n",
       "705     $18.99        Diapers  \n",
       "1846     $2.87        Aspirin  \n",
       "629      $2.39           None  "
      ]
     },
     "execution_count": 16,
     "metadata": {},
     "output_type": "execute_result"
    }
   ],
   "source": [
    "products.sample(5)"
   ]
  },
  {
   "cell_type": "code",
   "execution_count": 17,
   "metadata": {},
   "outputs": [
    {
     "data": {
      "text/plain": [
       "Manufacturer        0\n",
       "Product Name        0\n",
       "Size                0\n",
       "itemType          294\n",
       "SKU                 0\n",
       "BasePrice           0\n",
       "clean_itemType    144\n",
       "dtype: int64"
      ]
     },
     "execution_count": 17,
     "metadata": {},
     "output_type": "execute_result"
    }
   ],
   "source": [
    "products.isna().sum()"
   ]
  },
  {
   "cell_type": "code",
   "execution_count": 18,
   "metadata": {},
   "outputs": [
    {
     "name": "stdout",
     "output_type": "stream",
     "text": [
      "Assigned 0 remaining products to 'Baby Food'\n"
     ]
    },
    {
     "name": "stderr",
     "output_type": "stream",
     "text": [
      "C:\\Users\\pavan\\AppData\\Local\\Temp\\ipykernel_16872\\667822496.py:3: FutureWarning: A value is trying to be set on a copy of a DataFrame or Series through chained assignment using an inplace method.\n",
      "The behavior will change in pandas 3.0. This inplace method will never work because the intermediate object on which we are setting values always behaves as a copy.\n",
      "\n",
      "For example, when doing 'df[col].method(value, inplace=True)', try using 'df.method({col: value}, inplace=True)' or df[col] = df[col].method(value) instead, to perform the operation inplace on the original object.\n",
      "\n",
      "\n",
      "  products['clean_itemType'].fillna(most_common, inplace=True)\n"
     ]
    }
   ],
   "source": [
    "if products['clean_itemType'].isna().any():\n",
    "    most_common = products['clean_itemType'].mode()[0]\n",
    "    products['clean_itemType'].fillna(most_common, inplace=True)\n",
    "    print(\n",
    "        f\"Assigned {products['clean_itemType'].isna().sum()} remaining products to '{most_common}'\")\n"
   ]
  },
  {
   "cell_type": "markdown",
   "metadata": {},
   "source": [
    "##### Creating Product Dimension table\n",
    "+ Merging Products with product class using **clean_itemType** and **product_subcategory** "
   ]
  },
  {
   "cell_type": "code",
   "execution_count": 19,
   "metadata": {},
   "outputs": [
    {
     "data": {
      "text/html": [
       "<div>\n",
       "<style scoped>\n",
       "    .dataframe tbody tr th:only-of-type {\n",
       "        vertical-align: middle;\n",
       "    }\n",
       "\n",
       "    .dataframe tbody tr th {\n",
       "        vertical-align: top;\n",
       "    }\n",
       "\n",
       "    .dataframe thead th {\n",
       "        text-align: right;\n",
       "    }\n",
       "</style>\n",
       "<table border=\"1\" class=\"dataframe\">\n",
       "  <thead>\n",
       "    <tr style=\"text-align: right;\">\n",
       "      <th></th>\n",
       "      <th>Manufacturer</th>\n",
       "      <th>Product Name</th>\n",
       "      <th>Size</th>\n",
       "      <th>itemType</th>\n",
       "      <th>SKU</th>\n",
       "      <th>BasePrice</th>\n",
       "      <th>clean_itemType</th>\n",
       "      <th>product_class_id</th>\n",
       "      <th>product_subcategory</th>\n",
       "      <th>product_category</th>\n",
       "      <th>product_department</th>\n",
       "      <th>product_family</th>\n",
       "    </tr>\n",
       "  </thead>\n",
       "  <tbody>\n",
       "    <tr>\n",
       "      <th>638</th>\n",
       "      <td>Pampers</td>\n",
       "      <td>Swaddlers Size 1</td>\n",
       "      <td>35 ct</td>\n",
       "      <td>Diapers</td>\n",
       "      <td>42618001</td>\n",
       "      <td>$10.49</td>\n",
       "      <td>Diapers</td>\n",
       "      <td>213</td>\n",
       "      <td>Diapers</td>\n",
       "      <td>Paper Products</td>\n",
       "      <td>Household</td>\n",
       "      <td>Non-Consumable</td>\n",
       "    </tr>\n",
       "    <tr>\n",
       "      <th>648</th>\n",
       "      <td>Oscar Mayer</td>\n",
       "      <td>Hot Dogs Turkey Smoked</td>\n",
       "      <td>16 oz</td>\n",
       "      <td>NaN</td>\n",
       "      <td>42628001</td>\n",
       "      <td>$2.49</td>\n",
       "      <td>Hot Dogs</td>\n",
       "      <td>81</td>\n",
       "      <td>Hot Dogs</td>\n",
       "      <td>Meat</td>\n",
       "      <td>Deli</td>\n",
       "      <td>Food</td>\n",
       "    </tr>\n",
       "    <tr>\n",
       "      <th>1451</th>\n",
       "      <td>Gerber</td>\n",
       "      <td>Stage 2 Pears</td>\n",
       "      <td>4 oz</td>\n",
       "      <td>Baby Food</td>\n",
       "      <td>43344001</td>\n",
       "      <td>$0.69</td>\n",
       "      <td>Baby Food</td>\n",
       "      <td>209</td>\n",
       "      <td>Baby Food</td>\n",
       "      <td>Baby Food</td>\n",
       "      <td>Baby Food</td>\n",
       "      <td>Food</td>\n",
       "    </tr>\n",
       "    <tr>\n",
       "      <th>1183</th>\n",
       "      <td>High Top</td>\n",
       "      <td>High Top Shitake Mushrooms</td>\n",
       "      <td>11.3</td>\n",
       "      <td>Fresh Vegetables</td>\n",
       "      <td>43112001</td>\n",
       "      <td>$0.69</td>\n",
       "      <td>Fresh Vegetables</td>\n",
       "      <td>61</td>\n",
       "      <td>Fresh Vegetables</td>\n",
       "      <td>Vegetables</td>\n",
       "      <td>Produce</td>\n",
       "      <td>Food</td>\n",
       "    </tr>\n",
       "    <tr>\n",
       "      <th>1403</th>\n",
       "      <td>Gerber</td>\n",
       "      <td>Cereal Multigrain</td>\n",
       "      <td>8 oz</td>\n",
       "      <td>Baby Food</td>\n",
       "      <td>43296001</td>\n",
       "      <td>$2.49</td>\n",
       "      <td>Baby Food</td>\n",
       "      <td>209</td>\n",
       "      <td>Baby Food</td>\n",
       "      <td>Baby Food</td>\n",
       "      <td>Baby Food</td>\n",
       "      <td>Food</td>\n",
       "    </tr>\n",
       "  </tbody>\n",
       "</table>\n",
       "</div>"
      ],
      "text/plain": [
       "     Manufacturer                 Product Name   Size          itemType  \\\n",
       "638       Pampers             Swaddlers Size 1  35 ct           Diapers   \n",
       "648   Oscar Mayer       Hot Dogs Turkey Smoked  16 oz               NaN   \n",
       "1451       Gerber                Stage 2 Pears   4 oz         Baby Food   \n",
       "1183     High Top  High Top Shitake Mushrooms    11.3  Fresh Vegetables   \n",
       "1403       Gerber            Cereal Multigrain   8 oz         Baby Food   \n",
       "\n",
       "           SKU BasePrice    clean_itemType  product_class_id  \\\n",
       "638   42618001    $10.49           Diapers               213   \n",
       "648   42628001     $2.49          Hot Dogs                81   \n",
       "1451  43344001     $0.69         Baby Food               209   \n",
       "1183  43112001     $0.69  Fresh Vegetables                61   \n",
       "1403  43296001     $2.49         Baby Food               209   \n",
       "\n",
       "     product_subcategory product_category product_department  product_family  \n",
       "638              Diapers   Paper Products          Household  Non-Consumable  \n",
       "648             Hot Dogs             Meat               Deli            Food  \n",
       "1451           Baby Food        Baby Food          Baby Food            Food  \n",
       "1183    Fresh Vegetables       Vegetables            Produce            Food  \n",
       "1403           Baby Food        Baby Food          Baby Food            Food  "
      ]
     },
     "execution_count": 19,
     "metadata": {},
     "output_type": "execute_result"
    }
   ],
   "source": [
    "product_dim = products.merge(product_class, left_on='clean_itemType', right_on=\"product_subcategory\", how=\"left\")\n",
    "product_dim.sample(5)"
   ]
  },
  {
   "cell_type": "code",
   "execution_count": 20,
   "metadata": {},
   "outputs": [
    {
     "data": {
      "text/plain": [
       "(2344, 12)"
      ]
     },
     "execution_count": 20,
     "metadata": {},
     "output_type": "execute_result"
    }
   ],
   "source": [
    "product_dim.shape"
   ]
  },
  {
   "cell_type": "code",
   "execution_count": 21,
   "metadata": {},
   "outputs": [
    {
     "data": {
      "text/plain": [
       "clean_itemType\n",
       "Baby Food           313\n",
       "Sauces              166\n",
       "Coffee              134\n",
       "Fresh Vegetables    120\n",
       "Cereal               93\n",
       "                   ... \n",
       "Shower Soap           1\n",
       "Sponges               1\n",
       "Crackers              1\n",
       "Bananas               1\n",
       "Sardines              1\n",
       "Name: count, Length: 66, dtype: int64"
      ]
     },
     "execution_count": 21,
     "metadata": {},
     "output_type": "execute_result"
    }
   ],
   "source": [
    "products['clean_itemType'].value_counts()"
   ]
  },
  {
   "cell_type": "markdown",
   "metadata": {},
   "source": [
    "##### Handling merge nulls"
   ]
  },
  {
   "cell_type": "code",
   "execution_count": 22,
   "metadata": {},
   "outputs": [
    {
     "data": {
      "text/html": [
       "<div>\n",
       "<style scoped>\n",
       "    .dataframe tbody tr th:only-of-type {\n",
       "        vertical-align: middle;\n",
       "    }\n",
       "\n",
       "    .dataframe tbody tr th {\n",
       "        vertical-align: top;\n",
       "    }\n",
       "\n",
       "    .dataframe thead th {\n",
       "        text-align: right;\n",
       "    }\n",
       "</style>\n",
       "<table border=\"1\" class=\"dataframe\">\n",
       "  <thead>\n",
       "    <tr style=\"text-align: right;\">\n",
       "      <th></th>\n",
       "      <th>Manufacturer</th>\n",
       "      <th>Product Name</th>\n",
       "      <th>Size</th>\n",
       "      <th>itemType</th>\n",
       "      <th>SKU</th>\n",
       "      <th>BasePrice</th>\n",
       "      <th>clean_itemType</th>\n",
       "      <th>product_class_id</th>\n",
       "      <th>product_subcategory</th>\n",
       "      <th>product_category</th>\n",
       "      <th>product_department</th>\n",
       "      <th>product_family</th>\n",
       "    </tr>\n",
       "  </thead>\n",
       "  <tbody>\n",
       "    <tr>\n",
       "      <th>140</th>\n",
       "      <td>Tell Tale</td>\n",
       "      <td>Tell Tale Cauliflower</td>\n",
       "      <td>13.6</td>\n",
       "      <td>Fresh Vegetables</td>\n",
       "      <td>42192001</td>\n",
       "      <td>$1.87</td>\n",
       "      <td>Fresh Vegetables</td>\n",
       "      <td>13</td>\n",
       "      <td>Fresh Vegetables</td>\n",
       "      <td>Vegetables</td>\n",
       "      <td>Produce</td>\n",
       "      <td>Food</td>\n",
       "    </tr>\n",
       "    <tr>\n",
       "      <th>387</th>\n",
       "      <td>Red Spade</td>\n",
       "      <td>Red Spade Roasted Chicken</td>\n",
       "      <td>20.7</td>\n",
       "      <td>Fresh Chicken</td>\n",
       "      <td>42378001</td>\n",
       "      <td>$2.76</td>\n",
       "      <td>Fresh Chicken</td>\n",
       "      <td>77</td>\n",
       "      <td>Fresh Chicken</td>\n",
       "      <td>Meat</td>\n",
       "      <td>Deli</td>\n",
       "      <td>Food</td>\n",
       "    </tr>\n",
       "    <tr>\n",
       "      <th>2043</th>\n",
       "      <td>Bushs</td>\n",
       "      <td>Brown Sugar Hickory Baked Beans</td>\n",
       "      <td>28 oz</td>\n",
       "      <td>Canned Goods</td>\n",
       "      <td>43860001</td>\n",
       "      <td>$1.79</td>\n",
       "      <td>Canned Fruit</td>\n",
       "      <td>3</td>\n",
       "      <td>Canned Fruit</td>\n",
       "      <td>Fruit</td>\n",
       "      <td>Canned Products</td>\n",
       "      <td>Food</td>\n",
       "    </tr>\n",
       "    <tr>\n",
       "      <th>1139</th>\n",
       "      <td>High Top</td>\n",
       "      <td>High Top Cauliflower</td>\n",
       "      <td>17.7</td>\n",
       "      <td>Fresh Vegetables</td>\n",
       "      <td>43083001</td>\n",
       "      <td>$2.23</td>\n",
       "      <td>Fresh Vegetables</td>\n",
       "      <td>13</td>\n",
       "      <td>Fresh Vegetables</td>\n",
       "      <td>Vegetables</td>\n",
       "      <td>Produce</td>\n",
       "      <td>Food</td>\n",
       "    </tr>\n",
       "    <tr>\n",
       "      <th>67</th>\n",
       "      <td>Tri-State</td>\n",
       "      <td>Tri-State Party Nuts</td>\n",
       "      <td>12.6</td>\n",
       "      <td>Nuts</td>\n",
       "      <td>42132001</td>\n",
       "      <td>$2.63</td>\n",
       "      <td>Nuts</td>\n",
       "      <td>1</td>\n",
       "      <td>Nuts</td>\n",
       "      <td>Specialty</td>\n",
       "      <td>Produce</td>\n",
       "      <td>Food</td>\n",
       "    </tr>\n",
       "  </tbody>\n",
       "</table>\n",
       "</div>"
      ],
      "text/plain": [
       "     Manufacturer                     Product Name   Size          itemType  \\\n",
       "140     Tell Tale           Tell Tale Cauliflower    13.6  Fresh Vegetables   \n",
       "387     Red Spade       Red Spade Roasted Chicken    20.7     Fresh Chicken   \n",
       "2043        Bushs  Brown Sugar Hickory Baked Beans  28 oz      Canned Goods   \n",
       "1139     High Top            High Top Cauliflower    17.7  Fresh Vegetables   \n",
       "67      Tri-State            Tri-State Party Nuts    12.6              Nuts   \n",
       "\n",
       "           SKU BasePrice    clean_itemType  product_class_id  \\\n",
       "140   42192001     $1.87  Fresh Vegetables                13   \n",
       "387   42378001     $2.76     Fresh Chicken                77   \n",
       "2043  43860001     $1.79      Canned Fruit                 3   \n",
       "1139  43083001     $2.23  Fresh Vegetables                13   \n",
       "67    42132001     $2.63              Nuts                 1   \n",
       "\n",
       "     product_subcategory product_category product_department product_family  \n",
       "140     Fresh Vegetables       Vegetables            Produce           Food  \n",
       "387        Fresh Chicken             Meat               Deli           Food  \n",
       "2043        Canned Fruit            Fruit    Canned Products           Food  \n",
       "1139    Fresh Vegetables       Vegetables            Produce           Food  \n",
       "67                  Nuts        Specialty            Produce           Food  "
      ]
     },
     "execution_count": 22,
     "metadata": {},
     "output_type": "execute_result"
    }
   ],
   "source": [
    "product_dim['product_class_id'] = product_dim['product_class_id'].fillna(-1)\n",
    "product_dim.sample(5)"
   ]
  },
  {
   "cell_type": "code",
   "execution_count": 23,
   "metadata": {},
   "outputs": [],
   "source": [
    "for col in ['product_category', 'product_department', 'product_family']:\n",
    "    product_dim[col] = product_dim[col].fillna(\"Uncategorized\")"
   ]
  },
  {
   "cell_type": "code",
   "execution_count": 24,
   "metadata": {},
   "outputs": [],
   "source": [
    "product_dim.reset_index(drop=True, inplace=True)"
   ]
  },
  {
   "cell_type": "code",
   "execution_count": 25,
   "metadata": {},
   "outputs": [],
   "source": [
    "counter = 1\n",
    "def generate_unique_key(sku):\n",
    "    \"\"\"Generate a unique key for the given SKU.\"\"\"\n",
    "    global counter\n",
    "    key = counter\n",
    "    counter += 1\n",
    "    return key"
   ]
  },
  {
   "cell_type": "code",
   "execution_count": 26,
   "metadata": {},
   "outputs": [
    {
     "data": {
      "text/html": [
       "<div>\n",
       "<style scoped>\n",
       "    .dataframe tbody tr th:only-of-type {\n",
       "        vertical-align: middle;\n",
       "    }\n",
       "\n",
       "    .dataframe tbody tr th {\n",
       "        vertical-align: top;\n",
       "    }\n",
       "\n",
       "    .dataframe thead th {\n",
       "        text-align: right;\n",
       "    }\n",
       "</style>\n",
       "<table border=\"1\" class=\"dataframe\">\n",
       "  <thead>\n",
       "    <tr style=\"text-align: right;\">\n",
       "      <th></th>\n",
       "      <th>ProductKey</th>\n",
       "      <th>SKU</th>\n",
       "      <th>ProductName</th>\n",
       "      <th>ProductClass ID</th>\n",
       "      <th>Subcategory</th>\n",
       "      <th>Category</th>\n",
       "      <th>Department</th>\n",
       "      <th>ProductFamily</th>\n",
       "      <th>Size</th>\n",
       "      <th>#PerCase</th>\n",
       "      <th>BrandName</th>\n",
       "      <th>Manufacturer</th>\n",
       "      <th>Supplier</th>\n",
       "    </tr>\n",
       "  </thead>\n",
       "  <tbody>\n",
       "    <tr>\n",
       "      <th>0</th>\n",
       "      <td>1</td>\n",
       "      <td>42081001</td>\n",
       "      <td>Jambalaya Rice Mix</td>\n",
       "      <td>57</td>\n",
       "      <td>Rice</td>\n",
       "      <td>Starchy Foods</td>\n",
       "      <td>Starchy Foods</td>\n",
       "      <td>Food</td>\n",
       "      <td>12 oz</td>\n",
       "      <td>12</td>\n",
       "      <td>Zatarains</td>\n",
       "      <td>Zatarains</td>\n",
       "      <td>Rowan Warehouse</td>\n",
       "    </tr>\n",
       "    <tr>\n",
       "      <th>1</th>\n",
       "      <td>2</td>\n",
       "      <td>42082001</td>\n",
       "      <td>Jambalaya Rice Mix</td>\n",
       "      <td>57</td>\n",
       "      <td>Rice</td>\n",
       "      <td>Starchy Foods</td>\n",
       "      <td>Starchy Foods</td>\n",
       "      <td>Food</td>\n",
       "      <td>8 oz</td>\n",
       "      <td>12</td>\n",
       "      <td>Zatarains</td>\n",
       "      <td>Zatarains</td>\n",
       "      <td>Rowan Warehouse</td>\n",
       "    </tr>\n",
       "    <tr>\n",
       "      <th>2</th>\n",
       "      <td>3</td>\n",
       "      <td>42083001</td>\n",
       "      <td>Guacamole Regular</td>\n",
       "      <td>209</td>\n",
       "      <td>Baby Food</td>\n",
       "      <td>Baby Food</td>\n",
       "      <td>Baby Food</td>\n",
       "      <td>Food</td>\n",
       "      <td>8 oz</td>\n",
       "      <td>12</td>\n",
       "      <td>Yucatan</td>\n",
       "      <td>Yucatan</td>\n",
       "      <td>Rowan Warehouse</td>\n",
       "    </tr>\n",
       "    <tr>\n",
       "      <th>3</th>\n",
       "      <td>4</td>\n",
       "      <td>42084001</td>\n",
       "      <td>Coffee Original Blend</td>\n",
       "      <td>7</td>\n",
       "      <td>Coffee</td>\n",
       "      <td>Dry Goods</td>\n",
       "      <td>Baking Goods</td>\n",
       "      <td>Drink</td>\n",
       "      <td>12 oz</td>\n",
       "      <td>12</td>\n",
       "      <td>Yuban</td>\n",
       "      <td>Yuban</td>\n",
       "      <td>Rowan Warehouse</td>\n",
       "    </tr>\n",
       "    <tr>\n",
       "      <th>4</th>\n",
       "      <td>5</td>\n",
       "      <td>42084001</td>\n",
       "      <td>Coffee Original Blend</td>\n",
       "      <td>90</td>\n",
       "      <td>Coffee</td>\n",
       "      <td>Hot Beverages</td>\n",
       "      <td>Beverages</td>\n",
       "      <td>Drink</td>\n",
       "      <td>12 oz</td>\n",
       "      <td>12</td>\n",
       "      <td>Yuban</td>\n",
       "      <td>Yuban</td>\n",
       "      <td>Rowan Warehouse</td>\n",
       "    </tr>\n",
       "    <tr>\n",
       "      <th>5</th>\n",
       "      <td>6</td>\n",
       "      <td>42085001</td>\n",
       "      <td>GoGurt Variety Pack</td>\n",
       "      <td>6</td>\n",
       "      <td>Yogurt</td>\n",
       "      <td>Dairy</td>\n",
       "      <td>Dairy</td>\n",
       "      <td>Food</td>\n",
       "      <td>8 ct</td>\n",
       "      <td>12</td>\n",
       "      <td>Yoplait</td>\n",
       "      <td>Yoplait</td>\n",
       "      <td>Rowan Warehouse</td>\n",
       "    </tr>\n",
       "    <tr>\n",
       "      <th>6</th>\n",
       "      <td>7</td>\n",
       "      <td>42086001</td>\n",
       "      <td>Italian Dressing</td>\n",
       "      <td>16</td>\n",
       "      <td>Deli Salads</td>\n",
       "      <td>Side Dishes</td>\n",
       "      <td>Deli</td>\n",
       "      <td>Food</td>\n",
       "      <td>16 oz</td>\n",
       "      <td>12</td>\n",
       "      <td>Wishbone</td>\n",
       "      <td>Wishbone</td>\n",
       "      <td>Rowan Warehouse</td>\n",
       "    </tr>\n",
       "    <tr>\n",
       "      <th>7</th>\n",
       "      <td>8</td>\n",
       "      <td>42087001</td>\n",
       "      <td>Cheeseburger Heat &amp; Serve Sliders</td>\n",
       "      <td>15</td>\n",
       "      <td>Cottage Cheese</td>\n",
       "      <td>Dairy</td>\n",
       "      <td>Dairy</td>\n",
       "      <td>Food</td>\n",
       "      <td>29.28 oz</td>\n",
       "      <td>12</td>\n",
       "      <td>White Castle</td>\n",
       "      <td>White Castle</td>\n",
       "      <td>Rowan Warehouse</td>\n",
       "    </tr>\n",
       "    <tr>\n",
       "      <th>8</th>\n",
       "      <td>9</td>\n",
       "      <td>42088001</td>\n",
       "      <td>Choice Cuts Poultry</td>\n",
       "      <td>214</td>\n",
       "      <td>Pet Food</td>\n",
       "      <td>Pet Supplies</td>\n",
       "      <td>Household</td>\n",
       "      <td>Non-Consumable</td>\n",
       "      <td>36 oz</td>\n",
       "      <td>12</td>\n",
       "      <td>Whiskas</td>\n",
       "      <td>Whiskas</td>\n",
       "      <td>Rowan Warehouse</td>\n",
       "    </tr>\n",
       "    <tr>\n",
       "      <th>9</th>\n",
       "      <td>10</td>\n",
       "      <td>42089001</td>\n",
       "      <td>Farmers Pick Concord Grape</td>\n",
       "      <td>209</td>\n",
       "      <td>Baby Food</td>\n",
       "      <td>Baby Food</td>\n",
       "      <td>Baby Food</td>\n",
       "      <td>Food</td>\n",
       "      <td>46 oz</td>\n",
       "      <td>12</td>\n",
       "      <td>Welchs</td>\n",
       "      <td>Welchs</td>\n",
       "      <td>Rowan Warehouse</td>\n",
       "    </tr>\n",
       "  </tbody>\n",
       "</table>\n",
       "</div>"
      ],
      "text/plain": [
       "   ProductKey       SKU                        ProductName  ProductClass ID  \\\n",
       "0           1  42081001                 Jambalaya Rice Mix               57   \n",
       "1           2  42082001                 Jambalaya Rice Mix               57   \n",
       "2           3  42083001                  Guacamole Regular              209   \n",
       "3           4  42084001              Coffee Original Blend                7   \n",
       "4           5  42084001              Coffee Original Blend               90   \n",
       "5           6  42085001                GoGurt Variety Pack                6   \n",
       "6           7  42086001                   Italian Dressing               16   \n",
       "7           8  42087001  Cheeseburger Heat & Serve Sliders               15   \n",
       "8           9  42088001                Choice Cuts Poultry              214   \n",
       "9          10  42089001         Farmers Pick Concord Grape              209   \n",
       "\n",
       "      Subcategory       Category     Department   ProductFamily      Size  \\\n",
       "0            Rice  Starchy Foods  Starchy Foods            Food     12 oz   \n",
       "1            Rice  Starchy Foods  Starchy Foods            Food      8 oz   \n",
       "2       Baby Food      Baby Food      Baby Food            Food      8 oz   \n",
       "3          Coffee      Dry Goods   Baking Goods           Drink     12 oz   \n",
       "4          Coffee  Hot Beverages      Beverages           Drink     12 oz   \n",
       "5          Yogurt          Dairy          Dairy            Food      8 ct   \n",
       "6     Deli Salads    Side Dishes           Deli            Food     16 oz   \n",
       "7  Cottage Cheese          Dairy          Dairy            Food  29.28 oz   \n",
       "8        Pet Food   Pet Supplies      Household  Non-Consumable     36 oz   \n",
       "9       Baby Food      Baby Food      Baby Food            Food     46 oz   \n",
       "\n",
       "   #PerCase     BrandName  Manufacturer         Supplier  \n",
       "0        12     Zatarains     Zatarains  Rowan Warehouse  \n",
       "1        12     Zatarains     Zatarains  Rowan Warehouse  \n",
       "2        12       Yucatan       Yucatan  Rowan Warehouse  \n",
       "3        12         Yuban         Yuban  Rowan Warehouse  \n",
       "4        12         Yuban         Yuban  Rowan Warehouse  \n",
       "5        12       Yoplait       Yoplait  Rowan Warehouse  \n",
       "6        12      Wishbone      Wishbone  Rowan Warehouse  \n",
       "7        12  White Castle  White Castle  Rowan Warehouse  \n",
       "8        12       Whiskas       Whiskas  Rowan Warehouse  \n",
       "9        12        Welchs        Welchs  Rowan Warehouse  "
      ]
     },
     "execution_count": 26,
     "metadata": {},
     "output_type": "execute_result"
    }
   ],
   "source": [
    "product_keys = product_dim['SKU'].apply(generate_unique_key).values\n",
    "\n",
    "\n",
    "\n",
    "new_products = pd.DataFrame({\n",
    "    'ProductKey': product_keys,\n",
    "    'SKU': product_dim['SKU'],\n",
    "    'ProductName': product_dim['Product Name'],\n",
    "    'ProductClass ID': product_dim['product_class_id'],\n",
    "    'Subcategory': product_dim['clean_itemType'],\n",
    "    'Category': product_dim['product_category'],\n",
    "    'Department': product_dim['product_department'],\n",
    "    'ProductFamily': product_dim['product_family'],\n",
    "    'Size': product_dim['Size'],\n",
    "    '#PerCase': np.full(len(product_dim), 12),  # Fixed length array\n",
    "    'BrandName': product_dim['Manufacturer'],\n",
    "    'Manufacturer': product_dim['Manufacturer'],\n",
    "    'Supplier': np.where(\n",
    "        product_dim['Product Name'].str.contains(\n",
    "            'Milk', case=False, na=False),\n",
    "        'Rowan Dairy',\n",
    "        'Rowan Warehouse'\n",
    "    )\n",
    "})\n",
    "\n",
    "new_products.head(10)"
   ]
  },
  {
   "cell_type": "code",
   "execution_count": 27,
   "metadata": {},
   "outputs": [
    {
     "data": {
      "text/plain": [
       "ProductKey         0\n",
       "SKU                0\n",
       "ProductName        0\n",
       "ProductClass ID    0\n",
       "Subcategory        0\n",
       "Category           0\n",
       "Department         0\n",
       "ProductFamily      0\n",
       "Size               0\n",
       "#PerCase           0\n",
       "BrandName          0\n",
       "Manufacturer       0\n",
       "Supplier           0\n",
       "dtype: int64"
      ]
     },
     "execution_count": 27,
     "metadata": {},
     "output_type": "execute_result"
    }
   ],
   "source": [
    "new_products.isna().sum()"
   ]
  },
  {
   "cell_type": "code",
   "execution_count": 28,
   "metadata": {},
   "outputs": [
    {
     "data": {
      "text/plain": [
       "(2344, 13)"
      ]
     },
     "execution_count": 28,
     "metadata": {},
     "output_type": "execute_result"
    }
   ],
   "source": [
    "new_products.shape"
   ]
  },
  {
   "cell_type": "code",
   "execution_count": 29,
   "metadata": {},
   "outputs": [],
   "source": [
    "import sqlite3 as lite"
   ]
  },
  {
   "cell_type": "code",
   "execution_count": 30,
   "metadata": {},
   "outputs": [],
   "source": [
    "conn = lite.connect(\"store1.db\")\n",
    "curr = conn.cursor()"
   ]
  },
  {
   "cell_type": "code",
   "execution_count": 31,
   "metadata": {},
   "outputs": [
    {
     "data": {
      "text/plain": [
       "<sqlite3.Cursor at 0x230c00d4840>"
      ]
     },
     "execution_count": 31,
     "metadata": {},
     "output_type": "execute_result"
    }
   ],
   "source": [
    "curr.execute(\"DROP TABLE IF EXISTS ProductDimension\")\n",
    "\n",
    "curr.execute(\"\"\"\n",
    "    CREATE TABLE ProductDimension (\n",
    "    ProductKey INTEGER PRIMARY KEY AUTOINCREMENT,\n",
    "    SKU VARCHAR(50) NOT NULL,\n",
    "    ProductName VARCHAR(255) NOT NULL,\n",
    "    ProductClassID INT NOT NULL,\n",
    "    Subcategory VARCHAR(100) NOT NULL,\n",
    "    Category VARCHAR(100) NOT NULL,\n",
    "    Department VARCHAR(100) NOT NULL,\n",
    "    ProductFamily VARCHAR(100) NOT NULL,\n",
    "    Size VARCHAR(50),\n",
    "    PerCase INT NOT NULL,\n",
    "    BrandName VARCHAR(100),\n",
    "    Manufacturer VARCHAR(100),\n",
    "    Supplier VARCHAR(100) NOT NULL\n",
    "    );\n",
    "\n",
    "\"\"\")"
   ]
  },
  {
   "cell_type": "code",
   "execution_count": 32,
   "metadata": {},
   "outputs": [
    {
     "data": {
      "text/plain": [
       "2344"
      ]
     },
     "execution_count": 32,
     "metadata": {},
     "output_type": "execute_result"
    }
   ],
   "source": [
    "new_products.to_sql(\"ProductDimension\", conn, if_exists=\"replace\", index=False)"
   ]
  },
  {
   "cell_type": "code",
   "execution_count": 33,
   "metadata": {},
   "outputs": [
    {
     "name": "stdout",
     "output_type": "stream",
     "text": [
      "(1, 42081001, 'Jambalaya Rice Mix', 57, 'Rice', 'Starchy Foods', 'Starchy Foods', 'Food', '12 oz', 12, 'Zatarains', 'Zatarains', 'Rowan Warehouse')\n",
      "(2, 42082001, 'Jambalaya Rice Mix', 57, 'Rice', 'Starchy Foods', 'Starchy Foods', 'Food', '8 oz', 12, 'Zatarains', 'Zatarains', 'Rowan Warehouse')\n",
      "(3, 42083001, 'Guacamole Regular', 209, 'Baby Food', 'Baby Food', 'Baby Food', 'Food', '8 oz', 12, 'Yucatan', 'Yucatan', 'Rowan Warehouse')\n",
      "(4, 42084001, 'Coffee Original Blend', 7, 'Coffee', 'Dry Goods', 'Baking Goods', 'Drink', '12 oz', 12, 'Yuban', 'Yuban', 'Rowan Warehouse')\n",
      "(5, 42084001, 'Coffee Original Blend', 90, 'Coffee', 'Hot Beverages', 'Beverages', 'Drink', '12 oz', 12, 'Yuban', 'Yuban', 'Rowan Warehouse')\n",
      "(6, 42085001, 'GoGurt Variety Pack', 6, 'Yogurt', 'Dairy', 'Dairy', 'Food', '8 ct', 12, 'Yoplait', 'Yoplait', 'Rowan Warehouse')\n",
      "(7, 42086001, 'Italian Dressing', 16, 'Deli Salads', 'Side Dishes', 'Deli', 'Food', '16 oz', 12, 'Wishbone', 'Wishbone', 'Rowan Warehouse')\n",
      "(8, 42087001, 'Cheeseburger Heat & Serve Sliders', 15, 'Cottage Cheese', 'Dairy', 'Dairy', 'Food', '29.28 oz', 12, 'White Castle', 'White Castle', 'Rowan Warehouse')\n",
      "(9, 42088001, 'Choice Cuts Poultry', 214, 'Pet Food', 'Pet Supplies', 'Household', 'Non-Consumable', '36 oz', 12, 'Whiskas', 'Whiskas', 'Rowan Warehouse')\n",
      "(10, 42089001, 'Farmers Pick Concord Grape', 209, 'Baby Food', 'Baby Food', 'Baby Food', 'Food', '46 oz', 12, 'Welchs', 'Welchs', 'Rowan Warehouse')\n"
     ]
    }
   ],
   "source": [
    "curr.execute(\"Select * from ProductDimension limit 10\")\n",
    "\n",
    "for row in curr.fetchall():\n",
    "    print(row)"
   ]
  },
  {
   "cell_type": "code",
   "execution_count": 34,
   "metadata": {},
   "outputs": [],
   "source": [
    "new_products.to_csv(\"ProductDimension-final.csv\", index=False)"
   ]
  },
  {
   "cell_type": "markdown",
   "metadata": {},
   "source": [
    "##### Deliverable 2b Implementation: Metadata Tracking and Date Standardization"
   ]
  },
  {
   "cell_type": "markdown",
   "metadata": {},
   "source": [
    "##### Metadata Tracking System"
   ]
  },
  {
   "cell_type": "code",
   "execution_count": 35,
   "metadata": {},
   "outputs": [],
   "source": [
    "source_definition = pd.DataFrame({\n",
    "    'source_id': [1, 2, 3, 4, 5],\n",
    "    'source_description': [\n",
    "        'Original product table',\n",
    "        'Manually mapped by Pavan Kumar Mistry',\n",
    "        'String match (e.g., Product Name contains \"Frito Lay\" → \"Chips\")',\n",
    "        'Fuzzy matched from itemType',\n",
    "        'Keyword analysis from Product Name'\n",
    "    ],\n",
    "    'responsible_party': [\n",
    "        'ETL System',\n",
    "        'Pavan Kumar Mistry',\n",
    "        'Automated Matcher',\n",
    "        'Fuzzy Matching Algorithm',\n",
    "        'Keyword Analyzer'\n",
    "    ]\n",
    "\n",
    "})"
   ]
  },
  {
   "cell_type": "code",
   "execution_count": 36,
   "metadata": {},
   "outputs": [],
   "source": [
    "valid_mask = product_dim['clean_itemType'].isin(subcategory_map.keys())\n",
    "needed_mapping = ~valid_mask & products['clean_itemType'].notna()\n",
    "still_null = product_dim['clean_itemType'].isna()"
   ]
  },
  {
   "cell_type": "code",
   "execution_count": 37,
   "metadata": {},
   "outputs": [
    {
     "data": {
      "text/plain": [
       "np.True_"
      ]
     },
     "execution_count": 37,
     "metadata": {},
     "output_type": "execute_result"
    }
   ],
   "source": [
    "all_in_map = product_dim['clean_itemType'].apply(\n",
    "    lambda x: x in subcategory_map.keys()).all()\n",
    "\n",
    "all_in_map"
   ]
  },
  {
   "cell_type": "code",
   "execution_count": 38,
   "metadata": {},
   "outputs": [],
   "source": [
    "if all_in_map:\n",
    "    # tracking based on whether itemType was modified\n",
    "    product_sources = pd.DataFrame({\n",
    "        'SKU': product_dim['SKU'],\n",
    "        'source_id': np.where(\n",
    "            product_dim['itemType'] == product_dim['clean_itemType'],\n",
    "            1,  # original matched exactly\n",
    "            np.where(\n",
    "                product_dim['itemType'].isna(),\n",
    "                4,  # came from keyword analysis\n",
    "                3   # was modified through fuzzy/string matching\n",
    "            )\n",
    "        ),\n",
    "        'mapping_date': pd.Timestamp.now().strftime('%Y%m%d')\n",
    "    })\n",
    "else:\n",
    "    # Original logic if not all values are in the map\n",
    "    valid_mask = product_dim['clean_itemType'].isin(subcategory_map.keys())\n",
    "    needed_mapping = ~valid_mask & product_dim['clean_itemType'].notna()\n",
    "    still_null = product_dim['clean_itemType'].isna()\n",
    "\n",
    "    product_sources = pd.DataFrame({\n",
    "        'SKU': product_dim['SKU'],\n",
    "        'source_id': np.where(\n",
    "            valid_mask, 1,\n",
    "            np.where(\n",
    "                needed_mapping, 3,  # modified though fuzzy/string matching\n",
    "                np.where(\n",
    "                    still_null, 4,  # using keyword analysis\n",
    "                    2  # Manually\n",
    "                )\n",
    "            )\n",
    "        ),\n",
    "        'mapping_date': pd.Timestamp.now().strftime('%Y%m%d')\n",
    "    })"
   ]
  },
  {
   "cell_type": "code",
   "execution_count": 39,
   "metadata": {},
   "outputs": [],
   "source": [
    "# Test\n",
    "assert len(product_sources) == len(product_dim), \"Lengths still don't match!\""
   ]
  },
  {
   "cell_type": "code",
   "execution_count": 40,
   "metadata": {},
   "outputs": [
    {
     "data": {
      "text/plain": [
       "<sqlite3.Cursor at 0x230c00d4840>"
      ]
     },
     "execution_count": 40,
     "metadata": {},
     "output_type": "execute_result"
    }
   ],
   "source": [
    "# Create tables\n",
    "curr.execute(\"DROP TABLE IF EXISTS SourceDefinitions\")\n",
    "curr.execute(\"\"\"\n",
    "    CREATE TABLE SourceDefinitions (\n",
    "        source_id INT PRIMARY KEY,\n",
    "        source_description TEXT NOT NULL,\n",
    "        responsible_party TEXT NOT NULL\n",
    "    );\n",
    "\"\"\")"
   ]
  },
  {
   "cell_type": "code",
   "execution_count": 41,
   "metadata": {},
   "outputs": [
    {
     "data": {
      "text/plain": [
       "5"
      ]
     },
     "execution_count": 41,
     "metadata": {},
     "output_type": "execute_result"
    }
   ],
   "source": [
    "source_definition.to_sql(\"SourceDefinitions\", conn, if_exists=\"replace\", index=False)"
   ]
  },
  {
   "cell_type": "code",
   "execution_count": 42,
   "metadata": {},
   "outputs": [
    {
     "name": "stdout",
     "output_type": "stream",
     "text": [
      "(1, 'Original product table', 'ETL System')\n",
      "(2, 'Manually mapped by Pavan Kumar Mistry', 'Pavan Kumar Mistry')\n",
      "(3, 'String match (e.g., Product Name contains \"Frito Lay\" → \"Chips\")', 'Automated Matcher')\n",
      "(4, 'Fuzzy matched from itemType', 'Fuzzy Matching Algorithm')\n",
      "(5, 'Keyword analysis from Product Name', 'Keyword Analyzer')\n"
     ]
    }
   ],
   "source": [
    "res = curr.execute(\"select * from SourceDefinitions\")\n",
    "rows = curr.fetchall()\n",
    "for row in rows:\n",
    "    print(row)"
   ]
  },
  {
   "cell_type": "code",
   "execution_count": 43,
   "metadata": {},
   "outputs": [
    {
     "data": {
      "text/plain": [
       "<sqlite3.Cursor at 0x230c00d4840>"
      ]
     },
     "execution_count": 43,
     "metadata": {},
     "output_type": "execute_result"
    }
   ],
   "source": [
    "curr.execute(\"DROP TABLE IF EXISTS ProductMetaData\")\n",
    "curr.execute(\"\"\"\n",
    "    CREATE TABLE ProductMetaData (\n",
    "        SKU VARCHAR(50) NOT NULL,\n",
    "        source_id INT NOT NULL,\n",
    "        mapping_date CHAR(8) NOT NULL,\n",
    "        PRIMARY KEY (SKU, source_id),\n",
    "        FOREIGN KEY (source_id) REFERENCES SourceDefinitions(source_id),\n",
    "        FOREIGN KEY (SKU) REFERENCES ProductDimension(SKU)\n",
    "    );\n",
    "\"\"\")"
   ]
  },
  {
   "cell_type": "code",
   "execution_count": 44,
   "metadata": {},
   "outputs": [
    {
     "data": {
      "text/plain": [
       "2344"
      ]
     },
     "execution_count": 44,
     "metadata": {},
     "output_type": "execute_result"
    }
   ],
   "source": [
    "product_sources.to_sql(\"ProductMetaData\", conn, if_exists='replace', index=False)"
   ]
  },
  {
   "cell_type": "code",
   "execution_count": 45,
   "metadata": {},
   "outputs": [],
   "source": [
    "product_sources.to_csv(\"ProductMetaData-final.csv\", index=False)"
   ]
  },
  {
   "cell_type": "code",
   "execution_count": 46,
   "metadata": {},
   "outputs": [
    {
     "data": {
      "text/html": [
       "<div>\n",
       "<style scoped>\n",
       "    .dataframe tbody tr th:only-of-type {\n",
       "        vertical-align: middle;\n",
       "    }\n",
       "\n",
       "    .dataframe tbody tr th {\n",
       "        vertical-align: top;\n",
       "    }\n",
       "\n",
       "    .dataframe thead th {\n",
       "        text-align: right;\n",
       "    }\n",
       "</style>\n",
       "<table border=\"1\" class=\"dataframe\">\n",
       "  <thead>\n",
       "    <tr style=\"text-align: right;\">\n",
       "      <th></th>\n",
       "      <th>SKU</th>\n",
       "      <th>source_id</th>\n",
       "      <th>mapping_date</th>\n",
       "    </tr>\n",
       "  </thead>\n",
       "  <tbody>\n",
       "    <tr>\n",
       "      <th>2172</th>\n",
       "      <td>43989001</td>\n",
       "      <td>1</td>\n",
       "      <td>20250328</td>\n",
       "    </tr>\n",
       "    <tr>\n",
       "      <th>681</th>\n",
       "      <td>42655001</td>\n",
       "      <td>4</td>\n",
       "      <td>20250328</td>\n",
       "    </tr>\n",
       "    <tr>\n",
       "      <th>379</th>\n",
       "      <td>42370001</td>\n",
       "      <td>1</td>\n",
       "      <td>20250328</td>\n",
       "    </tr>\n",
       "    <tr>\n",
       "      <th>83</th>\n",
       "      <td>42142001</td>\n",
       "      <td>1</td>\n",
       "      <td>20250328</td>\n",
       "    </tr>\n",
       "    <tr>\n",
       "      <th>819</th>\n",
       "      <td>42775001</td>\n",
       "      <td>3</td>\n",
       "      <td>20250328</td>\n",
       "    </tr>\n",
       "    <tr>\n",
       "      <th>1581</th>\n",
       "      <td>43474001</td>\n",
       "      <td>3</td>\n",
       "      <td>20250328</td>\n",
       "    </tr>\n",
       "    <tr>\n",
       "      <th>978</th>\n",
       "      <td>42928001</td>\n",
       "      <td>3</td>\n",
       "      <td>20250328</td>\n",
       "    </tr>\n",
       "    <tr>\n",
       "      <th>697</th>\n",
       "      <td>42667001</td>\n",
       "      <td>3</td>\n",
       "      <td>20250328</td>\n",
       "    </tr>\n",
       "    <tr>\n",
       "      <th>438</th>\n",
       "      <td>42428001</td>\n",
       "      <td>3</td>\n",
       "      <td>20250328</td>\n",
       "    </tr>\n",
       "    <tr>\n",
       "      <th>1334</th>\n",
       "      <td>43231001</td>\n",
       "      <td>1</td>\n",
       "      <td>20250328</td>\n",
       "    </tr>\n",
       "  </tbody>\n",
       "</table>\n",
       "</div>"
      ],
      "text/plain": [
       "           SKU  source_id mapping_date\n",
       "2172  43989001          1     20250328\n",
       "681   42655001          4     20250328\n",
       "379   42370001          1     20250328\n",
       "83    42142001          1     20250328\n",
       "819   42775001          3     20250328\n",
       "1581  43474001          3     20250328\n",
       "978   42928001          3     20250328\n",
       "697   42667001          3     20250328\n",
       "438   42428001          3     20250328\n",
       "1334  43231001          1     20250328"
      ]
     },
     "execution_count": 46,
     "metadata": {},
     "output_type": "execute_result"
    }
   ],
   "source": [
    "res = curr.execute(\"select * from ProductMetaData\")\n",
    "\n",
    "product_meta_data = pd.DataFrame(res, columns=[\"SKU\", \"source_id\", \"mapping_date\"])\n",
    "product_meta_data.sample(10)"
   ]
  },
  {
   "cell_type": "code",
   "execution_count": 47,
   "metadata": {},
   "outputs": [
    {
     "data": {
      "text/plain": [
       "source_id\n",
       "1    1321\n",
       "3     729\n",
       "4     294\n",
       "Name: count, dtype: int64"
      ]
     },
     "execution_count": 47,
     "metadata": {},
     "output_type": "execute_result"
    }
   ],
   "source": [
    "product_sources['source_id'].value_counts()"
   ]
  },
  {
   "cell_type": "code",
   "execution_count": 48,
   "metadata": {},
   "outputs": [],
   "source": [
    "curr.close()\n",
    "conn.close()"
   ]
  },
  {
   "cell_type": "code",
   "execution_count": null,
   "metadata": {},
   "outputs": [],
   "source": []
  },
  {
   "cell_type": "code",
   "execution_count": null,
   "metadata": {},
   "outputs": [],
   "source": []
  }
 ],
 "metadata": {
  "kernelspec": {
   "display_name": "Python 3",
   "language": "python",
   "name": "python3"
  },
  "language_info": {
   "codemirror_mode": {
    "name": "ipython",
    "version": 3
   },
   "file_extension": ".py",
   "mimetype": "text/x-python",
   "name": "python",
   "nbconvert_exporter": "python",
   "pygments_lexer": "ipython3",
   "version": "3.13.1"
  }
 },
 "nbformat": 4,
 "nbformat_minor": 2
}
