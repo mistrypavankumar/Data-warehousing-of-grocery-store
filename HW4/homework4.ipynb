{
 "cells": [
  {
   "cell_type": "markdown",
   "metadata": {},
   "source": [
    "### Pavan Kumar Mistry - Team-1 \n",
    "#### Homework-4"
   ]
  },
  {
   "cell_type": "code",
   "execution_count": 2,
   "metadata": {},
   "outputs": [],
   "source": [
    "import pandas as pd\n",
    "import sqlite3 as lite"
   ]
  },
  {
   "cell_type": "code",
   "execution_count": 3,
   "metadata": {},
   "outputs": [],
   "source": [
    "NUM_USERS_LOW = 1000\n",
    "NUM_USERS_HIGH = 1040\n",
    "PRICE_MULTIPLIER = 1.05\n",
    "MAX_ITEMS = 80\n",
    "WEEKEND_INCREASE = 75\n",
    "\n",
    "database_name = \"store2\""
   ]
  },
  {
   "cell_type": "code",
   "execution_count": 4,
   "metadata": {},
   "outputs": [],
   "source": [
    "class ProductManager:\n",
    "    def __init__(self, products_file):\n",
    "        self.products_file = products_file\n",
    "        self.products_frame = self._read_products_file() \n",
    "        self.sku_info = self.pull_sku_info(self.products_frame)\n",
    "\n",
    "    def get_products_file(self):\n",
    "        return self.products_file\n",
    "\n",
    "    def get_all_skus(self):\n",
    "        return self.sku_info.keys()\n",
    "\n",
    "    def show_information(self):\n",
    "        '''\n",
    "        Show information about the products frame\n",
    "        '''\n",
    "        print(len(self.products_frame))\n",
    "        print(self.products_frame.columns)\n",
    "        print(self.products_frame.head())\n",
    "        print(self.products_frame[\"itemType\"].unique())\n",
    "    \n",
    "    def get_sku_info(self, sku):\n",
    "        '''Get the record from dataframe using sku value'''\n",
    "        return self.sku_info[sku]\n",
    "\n",
    "    def get_skus_of_item_type(self, item_type):\n",
    "        '''Get the list of sku values for a given item type'''\n",
    "        item_type_frame = self.products_frame[self.products_frame['itemType'] == item_type]\n",
    "        return item_type_frame['SKU'].values\n",
    "\n",
    "    def get_non_special_items(self, item_types):\n",
    "        '''Get all the skus for items outside a set of given item_types'''\n",
    "        item_type_frame = self.products_frame[~self.products_frame['itemType'].isin(item_types)]\n",
    "        return item_type_frame['SKU'].values\n",
    "    \n",
    "    def _read_products_file(self):\n",
    "        df = pd.read_csv(self.products_file, delimiter=\"|\",\n",
    "                         encoding=\"ISO-8859-1\")\n",
    "        df.fillna(\"Unknow\", inplace=True)\n",
    "        return df \n",
    "\n",
    "    def pull_sku_info(self, products_frame):\n",
    "        output = {}\n",
    "\n",
    "        for index, row in products_frame.iterrows():\n",
    "            output[row['SKU']] = {\n",
    "                \"BasePrice\": row['BasePrice'],\n",
    "                \"ProductName\": row['Product Name'],\n",
    "                \"Category\": row['itemType']\n",
    "            }\n",
    "    \n",
    "        return output"
   ]
  },
  {
   "cell_type": "code",
   "execution_count": 5,
   "metadata": {},
   "outputs": [],
   "source": [
    "conn = lite.connect(f'{database_name}.db')\n",
    "cur = conn.cursor()\n",
    "\n",
    "# Drop all existing tables\n",
    "cur.execute(\"Drop table if exists products\")\n",
    "cur.execute(\"Drop table if exists user_transactions\")\n",
    "\n",
    "conn.commit()"
   ]
  },
  {
   "cell_type": "code",
   "execution_count": 6,
   "metadata": {},
   "outputs": [
    {
     "data": {
      "text/plain": [
       "<sqlite3.Cursor at 0x2543af10bc0>"
      ]
     },
     "execution_count": 6,
     "metadata": {},
     "output_type": "execute_result"
    }
   ],
   "source": [
    "# Create the table\n",
    "cur.execute(\"\"\"\n",
    "    create table if not exists products(\n",
    "            Manufacturer varchar(30),\n",
    "            ProductName varchar(200),\n",
    "            Size varchar(20),\n",
    "            SKU varchar(20),\n",
    "            itemType varchar(20),\n",
    "            BasePrice varchar(10)\n",
    "            )\n",
    "\"\"\")\n",
    "\n",
    "# cur.execute(\"\"\"\n",
    "#     CREATE TABLE IF NOT EXISTS inventory (\n",
    "#         Manufacturer varchar(30),\n",
    "#         ProductName varchar(200),\n",
    "#         Size varchar(20),\n",
    "#         SKU varchar(20),\n",
    "#         itemType varchar(20),\n",
    "#         BasePrice varchar(10),\n",
    "#         items_left INT,\n",
    "#         total_cases_ordered INT DEFAULT 0\n",
    "#     )\n",
    "# \"\"\")"
   ]
  },
  {
   "cell_type": "code",
   "execution_count": 7,
   "metadata": {},
   "outputs": [],
   "source": [
    "import datetime"
   ]
  },
  {
   "cell_type": "code",
   "execution_count": 8,
   "metadata": {},
   "outputs": [],
   "source": [
    "class UserTransactionManager:\n",
    "    def __init__(self, database_file):\n",
    "        self.database_file = database_file\n",
    "        self.conn, self.cursor = self._setup_database(self.database_file)\n",
    "\n",
    "    def commit_changes(self):\n",
    "        self.conn.commit()\n",
    "\n",
    "    def close_db_connection(self):\n",
    "        self.conn.close()\n",
    "    \n",
    "    def reopen_db_connection(self):\n",
    "        self.conn, self.cursor = self._setup_database(self.database_file)\n",
    "    \n",
    "    def get_user_transactions(self):\n",
    "        return self.cursor.execute(\"select * from user_transactions\").fetchall()\n",
    "\n",
    "    def fetch_transactions_by_date(self, date):\n",
    "        date_str = \"{:%Y/%m/%d}\".format(date)\n",
    "        return self.cursor.execute('''\n",
    "            select * from user_transactions where date = ?\n",
    "        ''', (date_str, ))\n",
    "\n",
    "    def get_total_transaction_count(self):\n",
    "        return self.cursor.execute('''\n",
    "            select count(*) from user_transactions\n",
    "        ''').fetchall()[0][0]\n",
    "\n",
    "    def get_total_sales(self):\n",
    "        return self.cursor.execute('''\n",
    "            select sum(sale_price) from user_transactions\n",
    "        ''').fetchall()[0][0]\n",
    "\n",
    "    def top_selling_items(self):\n",
    "        return self.cursor.execute(\"\"\"\n",
    "            select count(transaction_id) as cnt1, sku from user_transactions group by sku order by cnt1 desc limit 10\n",
    "        \"\"\").fetchall()\n",
    "\n",
    "    def get_number_of_users(self):\n",
    "        return len(self.cursor.execute(\"select count(transaction_id) as count from user_transactions group by date, customer_number\").fetchall())\n",
    "\n",
    "    def load_transaction(self, _date, user_id, sku, sale_price, item_left, total_cases_ordered):\n",
    "        date_str = \"{:%Y/%m/%d}\".format(datetime.strptime(_date, \"%Y%m%d\"))\n",
    "        self.cursor.execute(\"INSERT INTO user_transactions(date, customer_number, sku, sale_price, items_left, cases_ordered) VALUES(?, ?, ?, ?, ?, ?)\",\n",
    "                            (date_str, user_id, sku, sale_price, item_left, total_cases_ordered))\n",
    "\n",
    "    def get_database_file(self):\n",
    "        return self.database_file\n",
    "    \n",
    "    def _setup_database(self, database_file):\n",
    "        try:\n",
    "            conn = lite.connect(database_file)\n",
    "            cursor = conn.cursor()\n",
    "\n",
    "            cursor.execute(\"CREATE TABLE IF NOT EXISTS \" +\n",
    "                           \"user_transactions(transaction_id INTEGER PRIMARY KEY AUTOINCREMENT, \" +\n",
    "                           \"date TEXT, \" +\n",
    "                           \"customer_number INT, \" +\n",
    "                           \"sku INT, \" +\n",
    "                           \"sale_price DECIMAL, items_left INT, cases_ordered INT)\")\n",
    "            return conn, cursor\n",
    "        except lite.Error as e:\n",
    "            print(\"Unable to connect to database or create user_transactions table\")\n",
    "            print(e)"
   ]
  },
  {
   "cell_type": "code",
   "execution_count": 9,
   "metadata": {},
   "outputs": [
    {
     "data": {
      "text/plain": [
       "2075"
      ]
     },
     "execution_count": 9,
     "metadata": {},
     "output_type": "execute_result"
    }
   ],
   "source": [
    "product_manager = ProductManager(products_file=\"./Products1.txt\")\n",
    "userTransactionManager = UserTransactionManager(database_file=f'{database_name}.db')\n",
    "\n",
    "product_df = product_manager._read_products_file()\n",
    "\n",
    "product_df.to_sql(\"products\", userTransactionManager.conn,\n",
    "                  if_exists=\"replace\", index=False)"
   ]
  },
  {
   "cell_type": "code",
   "execution_count": 10,
   "metadata": {},
   "outputs": [],
   "source": [
    "import random\n",
    "from time import time "
   ]
  },
  {
   "cell_type": "code",
   "execution_count": 11,
   "metadata": {},
   "outputs": [],
   "source": [
    "def inclusive_random(a, b):\n",
    "    \"\"\"\n",
    "    Generate a random integer N such that a <= N <= b.\n",
    "    \"\"\"\n",
    "    return random.randint(a, b + 1)"
   ]
  },
  {
   "cell_type": "code",
   "execution_count": 12,
   "metadata": {},
   "outputs": [
    {
     "data": {
      "text/plain": [
       "1003"
      ]
     },
     "execution_count": 12,
     "metadata": {},
     "output_type": "execute_result"
    }
   ],
   "source": [
    "inclusive_random(980, 1020)"
   ]
  },
  {
   "cell_type": "code",
   "execution_count": 13,
   "metadata": {},
   "outputs": [],
   "source": [
    "def dice_roll(probability):\n",
    "    \"\"\"\n",
    "    Simulate a single dice roll with the given probability of success.\n",
    "    \n",
    "    ex: \n",
    "    >>> dice_roll(0.5) = 50% then it returns True else returns False\n",
    "    \"\"\"\n",
    "\n",
    "    return random.random() <= probability"
   ]
  },
  {
   "cell_type": "code",
   "execution_count": 14,
   "metadata": {},
   "outputs": [
    {
     "data": {
      "text/plain": [
       "True"
      ]
     },
     "execution_count": 14,
     "metadata": {},
     "output_type": "execute_result"
    }
   ],
   "source": [
    "dice_roll(.80)"
   ]
  },
  {
   "cell_type": "code",
   "execution_count": 15,
   "metadata": {},
   "outputs": [],
   "source": [
    "def get_random_element(input_list):\n",
    "    \"\"\"Returns a random element from the input list.\"\"\"\n",
    "\n",
    "    if len(input_list) == 0:\n",
    "        raise Exception(\"Input list is empty!!!\")\n",
    "    \n",
    "    return input_list[inclusive_random(0, len(input_list) - 2)]"
   ]
  },
  {
   "cell_type": "code",
   "execution_count": 16,
   "metadata": {},
   "outputs": [
    {
     "data": {
      "text/plain": [
       "1"
      ]
     },
     "execution_count": 16,
     "metadata": {},
     "output_type": "execute_result"
    }
   ],
   "source": [
    "sample_list = [1,2,3,4,4,5,3,3]\n",
    "get_random_element(sample_list)"
   ]
  },
  {
   "cell_type": "code",
   "execution_count": 17,
   "metadata": {},
   "outputs": [],
   "source": [
    "speical_items = [\"Milk\", \"Cereal\", \"Baby Food\",\n",
    "                     \"Diapers\", \"Bread\", \"Peanut Butter\", \"Jelly/Jam\"]\n",
    "\n",
    "item_skus = {}\n",
    "\n",
    "for item in speical_items:\n",
    "    item_skus[item] = product_manager.get_skus_of_item_type(item)"
   ]
  },
  {
   "cell_type": "code",
   "execution_count": 18,
   "metadata": {},
   "outputs": [
    {
     "name": "stdout",
     "output_type": "stream",
     "text": [
      "[('Milk', array([42355001, 42356001, 42357001, 42358001, 42359001, 42360001])), ('Cereal', array([42091001, 42099001, 42336001, 42346001, 42347001, 42348001,\n",
      "       42390001, 42391001, 42392001, 42439001, 42440001, 42441001,\n",
      "       42442001, 42443001, 42444001, 42445001, 42446001, 42447001,\n",
      "       42448001, 42449001, 42450001, 42651001, 42652001, 42653001,\n",
      "       42654001, 42873001, 42874001, 42896001, 42897001, 42898001,\n",
      "       42899001, 42900001, 42901001, 42902001, 42903001, 42904001,\n",
      "       42905001, 42906001, 42908001, 42909001, 42913001, 42914001,\n",
      "       42915001, 42919001, 42920001, 42921001, 42922001, 42923001,\n",
      "       42924001, 42926001, 42930001, 42932001, 42933001, 42934001,\n",
      "       42938001, 42939001, 42941001, 42942001, 43384001, 43385001,\n",
      "       43386001, 43387001, 43388001, 43389001, 43390001, 43391001,\n",
      "       43392001, 43393001, 43394001, 43395001, 43396001, 43397001,\n",
      "       43398001, 43399001, 43400001, 43401001, 43402001, 43403001,\n",
      "       43404001, 43530001, 43531001, 43606001, 43685001, 43686001,\n",
      "       43687001, 43688001, 43689001, 43690001, 44012001, 44013001,\n",
      "       44129001, 44130001, 44131001]))]\n"
     ]
    }
   ],
   "source": [
    "print(list(item_skus.items())[:2])"
   ]
  },
  {
   "cell_type": "code",
   "execution_count": 19,
   "metadata": {},
   "outputs": [],
   "source": [
    "item_skus['other'] = product_manager.get_non_special_items(speical_items)"
   ]
  },
  {
   "cell_type": "code",
   "execution_count": 20,
   "metadata": {},
   "outputs": [
    {
     "data": {
      "text/plain": [
       "array([42081001, 42082001, 42083001, ..., 44158001, 44159001, 44160001],\n",
       "      shape=(1660,))"
      ]
     },
     "execution_count": 20,
     "metadata": {},
     "output_type": "execute_result"
    }
   ],
   "source": [
    "item_skus['other']"
   ]
  },
  {
   "cell_type": "code",
   "execution_count": 21,
   "metadata": {},
   "outputs": [
    {
     "name": "stdout",
     "output_type": "stream",
     "text": [
      "Milk : 6\n",
      "Cereal : 93\n",
      "Baby Food : 162\n",
      "Diapers : 82\n",
      "Bread : 48\n",
      "Peanut Butter : 20\n",
      "Jelly/Jam : 4\n",
      "other : 1660\n"
     ]
    }
   ],
   "source": [
    "for item_type in item_skus.keys():\n",
    "    print(f\"{item_type} : {len(item_skus[item_type])}\")"
   ]
  },
  {
   "cell_type": "code",
   "execution_count": 22,
   "metadata": {},
   "outputs": [],
   "source": [
    "def get_item_by_category(category):\n",
    "    \"\"\"Return a list of items that belong to the given category.\"\"\"\n",
    "\n",
    "    sku = get_random_element(item_skus[category])\n",
    "    item = product_manager.get_sku_info(sku)\n",
    "    sale_price = round((float(item['BasePrice'][1:]) * PRICE_MULTIPLIER), 2)\n",
    "\n",
    "    return int(sku), sale_price"
   ]
  },
  {
   "cell_type": "code",
   "execution_count": 23,
   "metadata": {},
   "outputs": [
    {
     "data": {
      "text/plain": [
       "(42926001, 4.61)"
      ]
     },
     "execution_count": 23,
     "metadata": {},
     "output_type": "execute_result"
    }
   ],
   "source": [
    "get_item_by_category(\"Cereal\")"
   ]
  },
  {
   "cell_type": "code",
   "execution_count": 24,
   "metadata": {},
   "outputs": [],
   "source": [
    "# Homework-4:::::::::::::::::::::::::::\n",
    "\n",
    "daily_items_per_cat = {\n",
    "    \"Milk\": 737,\n",
    "    \"Cereal\": 384,\n",
    "    \"Baby Food\": 211,\n",
    "    \"Diapers\": 177,\n",
    "    \"Bread\": 527,\n",
    "    \"Peanut Butter\": 105,\n",
    "    \"Jelly/Jam\": 142,\n",
    "    \"other\": 40376\n",
    "}"
   ]
  },
  {
   "cell_type": "code",
   "execution_count": 25,
   "metadata": {},
   "outputs": [],
   "source": [
    "# Set-up inventory\n",
    "static_required = {}\n",
    "item_inventory = {}\n",
    "cases_ordered = {}"
   ]
  },
  {
   "cell_type": "code",
   "execution_count": 26,
   "metadata": {},
   "outputs": [],
   "source": [
    "for category in item_skus.keys():\n",
    "    category_skus = item_skus[category]\n",
    "\n",
    "    # set inventory multiplier\n",
    "    inventory_multiplier = 3\n",
    "\n",
    "    if category == \"Milk\":\n",
    "        inventory_multiplier = 1.5\n",
    "\n",
    "    \n",
    "    for sku in category_skus:\n",
    "        items_per_sku_category = inventory_multiplier * daily_items_per_cat[category]\n",
    "\n",
    "        # Dividing to find the average per item\n",
    "        item_inventory[sku] = int(items_per_sku_category / len(category_skus))\n",
    "\n",
    "        # add to account for cases of size 12\n",
    "        if not item_inventory[sku] % 12 == 0:\n",
    "            item_inventory[sku] += 12 - (item_inventory[sku] % 12)\n",
    "        \n",
    "        static_required[sku] = item_inventory[sku]\n",
    "\n",
    "        # set total number of cases ordered\n",
    "        cases_ordered[sku] = int(item_inventory[sku] / 12)\n"
   ]
  },
  {
   "cell_type": "code",
   "execution_count": 27,
   "metadata": {},
   "outputs": [
    {
     "data": {
      "text/plain": [
       "[(np.int64(42355001), 16),\n",
       " (np.int64(42356001), 16),\n",
       " (np.int64(42357001), 16),\n",
       " (np.int64(42358001), 16),\n",
       " (np.int64(42359001), 16)]"
      ]
     },
     "execution_count": 27,
     "metadata": {},
     "output_type": "execute_result"
    }
   ],
   "source": [
    "list(cases_ordered.items())[:5]"
   ]
  },
  {
   "cell_type": "code",
   "execution_count": 28,
   "metadata": {},
   "outputs": [],
   "source": [
    "def is_items_exist(category):\n",
    "    skus = item_skus[category]\n",
    "\n",
    "    for sku in skus:\n",
    "        if item_inventory[int(sku)] > 0:\n",
    "            return True\n",
    "    \n",
    "    return False"
   ]
  },
  {
   "cell_type": "code",
   "execution_count": 29,
   "metadata": {},
   "outputs": [
    {
     "data": {
      "text/plain": [
       "True"
      ]
     },
     "execution_count": 29,
     "metadata": {},
     "output_type": "execute_result"
    }
   ],
   "source": [
    "is_items_exist(\"Milk\")"
   ]
  },
  {
   "cell_type": "markdown",
   "metadata": {},
   "source": [
    "### Transaction Database"
   ]
  },
  {
   "cell_type": "code",
   "execution_count": 30,
   "metadata": {},
   "outputs": [],
   "source": [
    "import tqdm\n",
    "from datetime import datetime, timedelta\n",
    "\n",
    "# Initialize dates\n",
    "current_date = datetime(2023, 12, 31)\n",
    "end_date = datetime(2024, 12, 31)\n",
    "\n",
    "# Calculate total days between start and end dates\n",
    "total_days = (end_date - current_date).days"
   ]
  },
  {
   "cell_type": "code",
   "execution_count": 31,
   "metadata": {},
   "outputs": [
    {
     "data": {
      "text/plain": [
       "366"
      ]
     },
     "execution_count": 31,
     "metadata": {},
     "output_type": "execute_result"
    }
   ],
   "source": [
    "total_days"
   ]
  },
  {
   "cell_type": "code",
   "execution_count": 32,
   "metadata": {},
   "outputs": [
    {
     "name": "stderr",
     "output_type": "stream",
     "text": [
      "Processing Days: 100%|██████████| 366/366 [13:20<00:00,  2.19s/it]\n"
     ]
    }
   ],
   "source": [
    "\n",
    "# Progress bar\n",
    "pbar = tqdm.tqdm(total=total_days, desc=\"Processing Days\")\n",
    "\n",
    "# Main loop\n",
    "while current_date < end_date:  # Stop before reaching end_date\n",
    "    # Increment date at the beginning of the loop\n",
    "    current_date += timedelta(days=1)\n",
    "    date_str = \"{:%Y/%m/%d}\".format(current_date)\n",
    "\n",
    "    increase = 0\n",
    "\n",
    "    # Adding Weekdays\n",
    "    weekday = current_date.strftime(\"%A\")\n",
    "    if weekday == \"Saturday\" or weekday == \"Sunday\":\n",
    "        increase = WEEKEND_INCREASE\n",
    "    \n",
    "    # Random number of users, [low, high]\n",
    "    num_of_users_today = inclusive_random(NUM_USERS_LOW + increase, NUM_USERS_HIGH + increase)\n",
    "\n",
    "\n",
    "    \"\"\"Simulate Deliveries\"\"\"\n",
    "\n",
    "    # Milk\n",
    "    for milk_sku in item_skus['Milk']:\n",
    "        # Number we need vs number we have\n",
    "        discrep = static_required[milk_sku] - item_inventory[milk_sku]\n",
    "\n",
    "        # Number of cases needed (if we need even one extra, we order a whole new case)\n",
    "        cases_to_order = int(discrep / 12)\n",
    "        if not discrep % 12 == 0:\n",
    "            cases_to_order += 1\n",
    "\n",
    "        # Add items and cases\n",
    "        item_inventory[milk_sku] += cases_to_order * 12\n",
    "        cases_ordered[milk_sku] += cases_to_order\n",
    "\n",
    "    # Simulate the rest of the stuff\n",
    "    if weekday in ['Monday', \"Wednesday\", \"Friday\"]:\n",
    "        for category in item_skus.keys():\n",
    "            if not category == \"Milk\":\n",
    "                for sku in item_skus[category]:\n",
    "                    # Number we need vs number we have\n",
    "                    discrep = static_required[sku] - item_inventory[sku]\n",
    "\n",
    "                    # Number of cases needed (if we need even one extra, we order a whole new case)\n",
    "                    cases_to_order = int(discrep / 12)\n",
    "                    if not discrep % 12 == 0:\n",
    "                        cases_to_order += 1\n",
    "\n",
    "                    # Add items and cases\n",
    "                    item_inventory[sku] += cases_to_order * 12\n",
    "                    cases_ordered[sku] += cases_to_order\n",
    "\n",
    "    # Simulate user transactions\n",
    "    for user_i in range(1, num_of_users_today + 1):\n",
    "        # Number of user items\n",
    "        num_user_items_to_buy = inclusive_random(1, MAX_ITEMS)\n",
    "        num_user_items_currently = 0\n",
    "        user_items = []\n",
    "\n",
    "        # Simulate milk buying\n",
    "        if dice_roll(.7):  # 70% of users will buy milk\n",
    "            user_items.append(\"Milk\")\n",
    "            if dice_roll(.5):  # 50% chance to also buy cereal\n",
    "                user_items.append(\"Cereal\")\n",
    "        else:\n",
    "            if dice_roll(.05):  # 5% chance to buy cereal if not buying milk\n",
    "                user_items.append(\"Cereal\")\n",
    "\n",
    "        # Simulate baby food buying\n",
    "        if dice_roll(.2):  # 20% buy baby food\n",
    "            user_items.append(\"Baby Food\")\n",
    "            if dice_roll(.8):  # 80% chance to also buy diapers\n",
    "                user_items.append(\"Diapers\")\n",
    "        else:\n",
    "            if dice_roll(.01):  # 1% chance to buy diapers if not buying baby food\n",
    "                user_items.append(\"Diapers\")\n",
    "\n",
    "        # Simulate bread buying\n",
    "        if dice_roll(.5):  # 50% buy bread\n",
    "            user_items.append(\"Bread\")\n",
    "\n",
    "        # Simulate peanut butter buying\n",
    "        if dice_roll(.1):  # 10% buy peanut butter\n",
    "            user_items.append(\"Peanut Butter\")\n",
    "            if dice_roll(.9):  # 90% chance to also buy jelly/jam\n",
    "                user_items.append(\"Jelly/Jam\")\n",
    "        else:\n",
    "            if dice_roll(.05):  # 5% chance to buy jelly/jam if not buying peanut butter\n",
    "                user_items.append(\"Jelly/Jam\")\n",
    "\n",
    "        # Simulate the rest of the purchases\n",
    "        for item_i in range(num_user_items_currently, num_user_items_to_buy):\n",
    "            user_items.append(\"other\")\n",
    "\n",
    "        # Add all user transactions to the db\n",
    "        for item in user_items[:num_user_items_to_buy]:\n",
    "            # Manage inventory\n",
    "            if is_items_exist(item):\n",
    "                while True:\n",
    "                    sku, sale_price = get_item_by_category(item)\n",
    "                    if item_inventory[sku] > 0:\n",
    "                        break\n",
    "            else:\n",
    "                if is_items_exist(\"other\"):\n",
    "                    while True:\n",
    "                        sku, sale_price = get_item_by_category(\"other\")\n",
    "                        if item_inventory[sku] > 0:\n",
    "                            break\n",
    "                else:\n",
    "                    break  # Exit if no items are available\n",
    "\n",
    "            # Execute transaction\n",
    "            item_inventory[sku] -= 1\n",
    "            userTransactionManager.load_transaction(\n",
    "                current_date.strftime('%Y%m%d'), user_i, int(\n",
    "                    sku), sale_price, item_inventory[sku], cases_ordered[sku]\n",
    "            )\n",
    "\n",
    "    # Commit changes every 100 records\n",
    "    if user_i % 100 == 0:\n",
    "        userTransactionManager.commit_changes()\n",
    "\n",
    "    # Update progress bar\n",
    "    pbar.update(1)\n",
    "\n",
    "# Close progress bar\n",
    "pbar.close()"
   ]
  },
  {
   "cell_type": "code",
   "execution_count": 33,
   "metadata": {},
   "outputs": [],
   "source": [
    "top_10_sellling = userTransactionManager.top_selling_items()"
   ]
  },
  {
   "cell_type": "code",
   "execution_count": 34,
   "metadata": {},
   "outputs": [
    {
     "data": {
      "text/plain": [
       "[(44627, 42355001),\n",
       " (44592, 42358001),\n",
       " (44568, 42360001),\n",
       " (44554, 42359001),\n",
       " (44409, 42357001),\n",
       " (44341, 42356001),\n",
       " (12703, 42311001),\n",
       " (12498, 42313001),\n",
       " (12469, 42314001),\n",
       " (12461, 42312001)]"
      ]
     },
     "execution_count": 34,
     "metadata": {},
     "output_type": "execute_result"
    }
   ],
   "source": [
    "top_10_sellling"
   ]
  },
  {
   "cell_type": "code",
   "execution_count": 35,
   "metadata": {},
   "outputs": [
    {
     "data": {
      "text/plain": [
       "15651599"
      ]
     },
     "execution_count": 35,
     "metadata": {},
     "output_type": "execute_result"
    }
   ],
   "source": [
    "userTransactionManager.get_total_transaction_count()"
   ]
  },
  {
   "cell_type": "code",
   "execution_count": 36,
   "metadata": {},
   "outputs": [
    {
     "data": {
      "text/plain": [
       "381641"
      ]
     },
     "execution_count": 36,
     "metadata": {},
     "output_type": "execute_result"
    }
   ],
   "source": [
    "userTransactionManager.get_number_of_users()"
   ]
  },
  {
   "cell_type": "code",
   "execution_count": 37,
   "metadata": {},
   "outputs": [
    {
     "data": {
      "text/plain": [
       "50827941.02"
      ]
     },
     "execution_count": 37,
     "metadata": {},
     "output_type": "execute_result"
    }
   ],
   "source": [
    "userTransactionManager.get_total_sales()"
   ]
  },
  {
   "cell_type": "code",
   "execution_count": 38,
   "metadata": {},
   "outputs": [],
   "source": [
    "transactions = userTransactionManager.get_user_transactions()\n",
    "\n",
    "transactions_df = pd.DataFrame(transactions, columns=['Index', \"Date\", \"Customer Number\", \"SKU\",\"Sales Price\", \"Items_left\", \"Total cases Ordered\"])"
   ]
  },
  {
   "cell_type": "code",
   "execution_count": 39,
   "metadata": {},
   "outputs": [
    {
     "data": {
      "text/html": [
       "<div>\n",
       "<style scoped>\n",
       "    .dataframe tbody tr th:only-of-type {\n",
       "        vertical-align: middle;\n",
       "    }\n",
       "\n",
       "    .dataframe tbody tr th {\n",
       "        vertical-align: top;\n",
       "    }\n",
       "\n",
       "    .dataframe thead th {\n",
       "        text-align: right;\n",
       "    }\n",
       "</style>\n",
       "<table border=\"1\" class=\"dataframe\">\n",
       "  <thead>\n",
       "    <tr style=\"text-align: right;\">\n",
       "      <th></th>\n",
       "      <th>Index</th>\n",
       "      <th>Date</th>\n",
       "      <th>Customer Number</th>\n",
       "      <th>SKU</th>\n",
       "      <th>Sales Price</th>\n",
       "      <th>Items_left</th>\n",
       "      <th>Total cases Ordered</th>\n",
       "    </tr>\n",
       "  </thead>\n",
       "  <tbody>\n",
       "    <tr>\n",
       "      <th>0</th>\n",
       "      <td>1</td>\n",
       "      <td>2024/01/01</td>\n",
       "      <td>1</td>\n",
       "      <td>42357001</td>\n",
       "      <td>3.87</td>\n",
       "      <td>191</td>\n",
       "      <td>16</td>\n",
       "    </tr>\n",
       "    <tr>\n",
       "      <th>1</th>\n",
       "      <td>2</td>\n",
       "      <td>2024/01/01</td>\n",
       "      <td>1</td>\n",
       "      <td>42448001</td>\n",
       "      <td>4.61</td>\n",
       "      <td>11</td>\n",
       "      <td>1</td>\n",
       "    </tr>\n",
       "    <tr>\n",
       "      <th>2</th>\n",
       "      <td>3</td>\n",
       "      <td>2024/01/01</td>\n",
       "      <td>1</td>\n",
       "      <td>43287001</td>\n",
       "      <td>5.76</td>\n",
       "      <td>11</td>\n",
       "      <td>1</td>\n",
       "    </tr>\n",
       "    <tr>\n",
       "      <th>3</th>\n",
       "      <td>4</td>\n",
       "      <td>2024/01/01</td>\n",
       "      <td>1</td>\n",
       "      <td>43031001</td>\n",
       "      <td>24.14</td>\n",
       "      <td>11</td>\n",
       "      <td>1</td>\n",
       "    </tr>\n",
       "    <tr>\n",
       "      <th>4</th>\n",
       "      <td>5</td>\n",
       "      <td>2024/01/01</td>\n",
       "      <td>1</td>\n",
       "      <td>43676001</td>\n",
       "      <td>3.02</td>\n",
       "      <td>71</td>\n",
       "      <td>6</td>\n",
       "    </tr>\n",
       "    <tr>\n",
       "      <th>5</th>\n",
       "      <td>6</td>\n",
       "      <td>2024/01/01</td>\n",
       "      <td>1</td>\n",
       "      <td>43077001</td>\n",
       "      <td>1.50</td>\n",
       "      <td>71</td>\n",
       "      <td>6</td>\n",
       "    </tr>\n",
       "    <tr>\n",
       "      <th>6</th>\n",
       "      <td>7</td>\n",
       "      <td>2024/01/01</td>\n",
       "      <td>1</td>\n",
       "      <td>42911001</td>\n",
       "      <td>2.62</td>\n",
       "      <td>71</td>\n",
       "      <td>6</td>\n",
       "    </tr>\n",
       "    <tr>\n",
       "      <th>7</th>\n",
       "      <td>8</td>\n",
       "      <td>2024/01/01</td>\n",
       "      <td>1</td>\n",
       "      <td>42454001</td>\n",
       "      <td>1.68</td>\n",
       "      <td>71</td>\n",
       "      <td>6</td>\n",
       "    </tr>\n",
       "    <tr>\n",
       "      <th>8</th>\n",
       "      <td>9</td>\n",
       "      <td>2024/01/01</td>\n",
       "      <td>1</td>\n",
       "      <td>43791001</td>\n",
       "      <td>1.05</td>\n",
       "      <td>71</td>\n",
       "      <td>6</td>\n",
       "    </tr>\n",
       "    <tr>\n",
       "      <th>9</th>\n",
       "      <td>10</td>\n",
       "      <td>2024/01/01</td>\n",
       "      <td>1</td>\n",
       "      <td>43859001</td>\n",
       "      <td>5.45</td>\n",
       "      <td>71</td>\n",
       "      <td>6</td>\n",
       "    </tr>\n",
       "  </tbody>\n",
       "</table>\n",
       "</div>"
      ],
      "text/plain": [
       "   Index        Date  Customer Number       SKU  Sales Price  Items_left  \\\n",
       "0      1  2024/01/01                1  42357001         3.87         191   \n",
       "1      2  2024/01/01                1  42448001         4.61          11   \n",
       "2      3  2024/01/01                1  43287001         5.76          11   \n",
       "3      4  2024/01/01                1  43031001        24.14          11   \n",
       "4      5  2024/01/01                1  43676001         3.02          71   \n",
       "5      6  2024/01/01                1  43077001         1.50          71   \n",
       "6      7  2024/01/01                1  42911001         2.62          71   \n",
       "7      8  2024/01/01                1  42454001         1.68          71   \n",
       "8      9  2024/01/01                1  43791001         1.05          71   \n",
       "9     10  2024/01/01                1  43859001         5.45          71   \n",
       "\n",
       "   Total cases Ordered  \n",
       "0                   16  \n",
       "1                    1  \n",
       "2                    1  \n",
       "3                    1  \n",
       "4                    6  \n",
       "5                    6  \n",
       "6                    6  \n",
       "7                    6  \n",
       "8                    6  \n",
       "9                    6  "
      ]
     },
     "execution_count": 39,
     "metadata": {},
     "output_type": "execute_result"
    }
   ],
   "source": [
    "transactions_df.head(10)"
   ]
  },
  {
   "cell_type": "code",
   "execution_count": 40,
   "metadata": {},
   "outputs": [
    {
     "data": {
      "text/html": [
       "<div>\n",
       "<style scoped>\n",
       "    .dataframe tbody tr th:only-of-type {\n",
       "        vertical-align: middle;\n",
       "    }\n",
       "\n",
       "    .dataframe tbody tr th {\n",
       "        vertical-align: top;\n",
       "    }\n",
       "\n",
       "    .dataframe thead th {\n",
       "        text-align: right;\n",
       "    }\n",
       "</style>\n",
       "<table border=\"1\" class=\"dataframe\">\n",
       "  <thead>\n",
       "    <tr style=\"text-align: right;\">\n",
       "      <th></th>\n",
       "      <th>Manufacturer</th>\n",
       "      <th>Product Name</th>\n",
       "      <th>Size</th>\n",
       "      <th>itemType</th>\n",
       "      <th>SKU</th>\n",
       "      <th>BasePrice</th>\n",
       "    </tr>\n",
       "  </thead>\n",
       "  <tbody>\n",
       "    <tr>\n",
       "      <th>0</th>\n",
       "      <td>Zatarains</td>\n",
       "      <td>Jambalaya Rice Mix</td>\n",
       "      <td>12 oz</td>\n",
       "      <td>Rice/Rice Mix</td>\n",
       "      <td>42081001</td>\n",
       "      <td>$2.49</td>\n",
       "    </tr>\n",
       "    <tr>\n",
       "      <th>1</th>\n",
       "      <td>Zatarains</td>\n",
       "      <td>Jambalaya Rice Mix</td>\n",
       "      <td>8 oz</td>\n",
       "      <td>Rice/Rice Mix</td>\n",
       "      <td>42082001</td>\n",
       "      <td>$1.79</td>\n",
       "    </tr>\n",
       "    <tr>\n",
       "      <th>2</th>\n",
       "      <td>Yucatan</td>\n",
       "      <td>Guacamole Regular</td>\n",
       "      <td>8 oz</td>\n",
       "      <td>Unknow</td>\n",
       "      <td>42083001</td>\n",
       "      <td>$3.99</td>\n",
       "    </tr>\n",
       "    <tr>\n",
       "      <th>3</th>\n",
       "      <td>Yuban</td>\n",
       "      <td>Coffee Original Blend</td>\n",
       "      <td>12 oz</td>\n",
       "      <td>Coffee/Creamer</td>\n",
       "      <td>42084001</td>\n",
       "      <td>$3.99</td>\n",
       "    </tr>\n",
       "    <tr>\n",
       "      <th>4</th>\n",
       "      <td>Yoplait</td>\n",
       "      <td>GoGurt Variety Pack</td>\n",
       "      <td>8 ct</td>\n",
       "      <td>Yogurt</td>\n",
       "      <td>42085001</td>\n",
       "      <td>$2.99</td>\n",
       "    </tr>\n",
       "    <tr>\n",
       "      <th>5</th>\n",
       "      <td>Wishbone</td>\n",
       "      <td>Italian Dressing</td>\n",
       "      <td>16 oz</td>\n",
       "      <td>Salad Dressing</td>\n",
       "      <td>42086001</td>\n",
       "      <td>$2.00</td>\n",
       "    </tr>\n",
       "    <tr>\n",
       "      <th>6</th>\n",
       "      <td>White Castle</td>\n",
       "      <td>Cheeseburger Heat &amp; Serve Sliders</td>\n",
       "      <td>29.28 oz</td>\n",
       "      <td>Unknow</td>\n",
       "      <td>42087001</td>\n",
       "      <td>$11.59</td>\n",
       "    </tr>\n",
       "    <tr>\n",
       "      <th>7</th>\n",
       "      <td>Whiskas</td>\n",
       "      <td>Choice Cuts Poultry</td>\n",
       "      <td>36 oz</td>\n",
       "      <td>Pet Food</td>\n",
       "      <td>42088001</td>\n",
       "      <td>$4.99</td>\n",
       "    </tr>\n",
       "    <tr>\n",
       "      <th>8</th>\n",
       "      <td>Welchs</td>\n",
       "      <td>Farmers Pick Concord Grape</td>\n",
       "      <td>46 oz</td>\n",
       "      <td>Unknow</td>\n",
       "      <td>42089001</td>\n",
       "      <td>$3.59</td>\n",
       "    </tr>\n",
       "    <tr>\n",
       "      <th>9</th>\n",
       "      <td>Welchs</td>\n",
       "      <td>Juice Red Grape</td>\n",
       "      <td>64 oz</td>\n",
       "      <td>Juice</td>\n",
       "      <td>42090001</td>\n",
       "      <td>$4.79</td>\n",
       "    </tr>\n",
       "  </tbody>\n",
       "</table>\n",
       "</div>"
      ],
      "text/plain": [
       "   Manufacturer                       Product Name      Size        itemType  \\\n",
       "0     Zatarains                 Jambalaya Rice Mix     12 oz   Rice/Rice Mix   \n",
       "1     Zatarains                 Jambalaya Rice Mix      8 oz   Rice/Rice Mix   \n",
       "2       Yucatan                  Guacamole Regular      8 oz          Unknow   \n",
       "3         Yuban              Coffee Original Blend     12 oz  Coffee/Creamer   \n",
       "4       Yoplait                GoGurt Variety Pack      8 ct          Yogurt   \n",
       "5      Wishbone                   Italian Dressing     16 oz  Salad Dressing   \n",
       "6  White Castle  Cheeseburger Heat & Serve Sliders  29.28 oz          Unknow   \n",
       "7       Whiskas                Choice Cuts Poultry     36 oz        Pet Food   \n",
       "8        Welchs         Farmers Pick Concord Grape     46 oz          Unknow   \n",
       "9        Welchs                    Juice Red Grape     64 oz           Juice   \n",
       "\n",
       "        SKU BasePrice  \n",
       "0  42081001     $2.49  \n",
       "1  42082001     $1.79  \n",
       "2  42083001     $3.99  \n",
       "3  42084001     $3.99  \n",
       "4  42085001     $2.99  \n",
       "5  42086001     $2.00  \n",
       "6  42087001    $11.59  \n",
       "7  42088001     $4.99  \n",
       "8  42089001     $3.59  \n",
       "9  42090001     $4.79  "
      ]
     },
     "execution_count": 40,
     "metadata": {},
     "output_type": "execute_result"
    }
   ],
   "source": [
    "product_df = product_manager._read_products_file()\n",
    "product_df.head(10)"
   ]
  },
  {
   "cell_type": "code",
   "execution_count": 41,
   "metadata": {},
   "outputs": [
    {
     "data": {
      "text/plain": [
       "Manufacturer    0\n",
       "Product Name    0\n",
       "Size            0\n",
       "itemType        0\n",
       "SKU             0\n",
       "BasePrice       0\n",
       "dtype: int64"
      ]
     },
     "execution_count": 41,
     "metadata": {},
     "output_type": "execute_result"
    }
   ],
   "source": [
    "product_df.isnull().sum()"
   ]
  },
  {
   "cell_type": "code",
   "execution_count": 42,
   "metadata": {},
   "outputs": [],
   "source": [
    "final_output = []\n",
    "for sku, items_left in item_inventory.items():\n",
    "    product_info = product_df[product_df[\"SKU\"] == sku]\n",
    "\n",
    "    if not product_info.empty:\n",
    "        # Get the first matching row\n",
    "        product_info = product_info.iloc[0]  \n",
    "    else:\n",
    "        # If SKU not found, use default values for \"other\" items\n",
    "        product_info = pd.Series({\n",
    "            \"Manufacturer\": \"GenericCo\",\n",
    "            \"Product Name\": \"Generic Item\",\n",
    "            \"Size\": \"N/A\",\n",
    "            \"itemType\": \"Misc\",\n",
    "            \"BasePrice\": 1.00,\n",
    "        })\n",
    "\n",
    "    final_output.append({\n",
    "        \"Manufacturer\": product_info[\"Manufacturer\"],\n",
    "        \"Product Name\": product_info[\"Product Name\"],\n",
    "        \"Size\": product_info[\"Size\"],\n",
    "        \"itemType\": product_info[\"itemType\"],\n",
    "        \"SKU\": sku,\n",
    "        \"BasePrice\": product_info[\"BasePrice\"],\n",
    "        \"Items_left_count\": items_left,\n",
    "        \"Total_case_ordered\": cases_ordered.get(sku, 0),\n",
    "    })"
   ]
  },
  {
   "cell_type": "code",
   "execution_count": 43,
   "metadata": {},
   "outputs": [
    {
     "data": {
      "text/plain": [
       "2075"
      ]
     },
     "execution_count": 43,
     "metadata": {},
     "output_type": "execute_result"
    }
   ],
   "source": [
    "len(final_output)"
   ]
  },
  {
   "cell_type": "code",
   "execution_count": 44,
   "metadata": {},
   "outputs": [
    {
     "data": {
      "text/html": [
       "<div>\n",
       "<style scoped>\n",
       "    .dataframe tbody tr th:only-of-type {\n",
       "        vertical-align: middle;\n",
       "    }\n",
       "\n",
       "    .dataframe tbody tr th {\n",
       "        vertical-align: top;\n",
       "    }\n",
       "\n",
       "    .dataframe thead th {\n",
       "        text-align: right;\n",
       "    }\n",
       "</style>\n",
       "<table border=\"1\" class=\"dataframe\">\n",
       "  <thead>\n",
       "    <tr style=\"text-align: right;\">\n",
       "      <th></th>\n",
       "      <th>Manufacturer</th>\n",
       "      <th>Product Name</th>\n",
       "      <th>Size</th>\n",
       "      <th>itemType</th>\n",
       "      <th>SKU</th>\n",
       "      <th>BasePrice</th>\n",
       "      <th>Items_left_count</th>\n",
       "      <th>Total_case_ordered</th>\n",
       "    </tr>\n",
       "  </thead>\n",
       "  <tbody>\n",
       "    <tr>\n",
       "      <th>0</th>\n",
       "      <td>Rowan Dairy</td>\n",
       "      <td>1.00% Milk</td>\n",
       "      <td>1 gal</td>\n",
       "      <td>Milk</td>\n",
       "      <td>42355001</td>\n",
       "      <td>$3.69</td>\n",
       "      <td>85</td>\n",
       "      <td>3726</td>\n",
       "    </tr>\n",
       "    <tr>\n",
       "      <th>1</th>\n",
       "      <td>Rowan Dairy</td>\n",
       "      <td>1.00% Milk</td>\n",
       "      <td>1/2 gal</td>\n",
       "      <td>Milk</td>\n",
       "      <td>42356001</td>\n",
       "      <td>$1.89</td>\n",
       "      <td>83</td>\n",
       "      <td>3702</td>\n",
       "    </tr>\n",
       "    <tr>\n",
       "      <th>2</th>\n",
       "      <td>Rowan Dairy</td>\n",
       "      <td>2.00% Milk</td>\n",
       "      <td>1 gal</td>\n",
       "      <td>Milk</td>\n",
       "      <td>42357001</td>\n",
       "      <td>$3.69</td>\n",
       "      <td>75</td>\n",
       "      <td>3707</td>\n",
       "    </tr>\n",
       "    <tr>\n",
       "      <th>3</th>\n",
       "      <td>Rowan Dairy</td>\n",
       "      <td>2.00% Milk</td>\n",
       "      <td>1/2 gal</td>\n",
       "      <td>Milk</td>\n",
       "      <td>42358001</td>\n",
       "      <td>$1.89</td>\n",
       "      <td>84</td>\n",
       "      <td>3723</td>\n",
       "    </tr>\n",
       "    <tr>\n",
       "      <th>4</th>\n",
       "      <td>Rowan Dairy</td>\n",
       "      <td>Whole Milk Milk</td>\n",
       "      <td>1 gal</td>\n",
       "      <td>Milk</td>\n",
       "      <td>42359001</td>\n",
       "      <td>$3.69</td>\n",
       "      <td>62</td>\n",
       "      <td>3718</td>\n",
       "    </tr>\n",
       "    <tr>\n",
       "      <th>...</th>\n",
       "      <td>...</td>\n",
       "      <td>...</td>\n",
       "      <td>...</td>\n",
       "      <td>...</td>\n",
       "      <td>...</td>\n",
       "      <td>...</td>\n",
       "      <td>...</td>\n",
       "      <td>...</td>\n",
       "    </tr>\n",
       "    <tr>\n",
       "      <th>2070</th>\n",
       "      <td>Aidells</td>\n",
       "      <td>Meatballs Pineapple Teriyaki</td>\n",
       "      <td>12 oz</td>\n",
       "      <td>Frozen Food</td>\n",
       "      <td>44156001</td>\n",
       "      <td>$6.59</td>\n",
       "      <td>19</td>\n",
       "      <td>748</td>\n",
       "    </tr>\n",
       "    <tr>\n",
       "      <th>2071</th>\n",
       "      <td>Aidells</td>\n",
       "      <td>Meatballs Sundried Tomato</td>\n",
       "      <td>12 oz</td>\n",
       "      <td>Frozen Food</td>\n",
       "      <td>44157001</td>\n",
       "      <td>$6.59</td>\n",
       "      <td>27</td>\n",
       "      <td>743</td>\n",
       "    </tr>\n",
       "    <tr>\n",
       "      <th>2072</th>\n",
       "      <td>Act II</td>\n",
       "      <td>Popcorn Butter</td>\n",
       "      <td>6 pkg</td>\n",
       "      <td>Frozen Food</td>\n",
       "      <td>44158001</td>\n",
       "      <td>$3.99</td>\n",
       "      <td>28</td>\n",
       "      <td>737</td>\n",
       "    </tr>\n",
       "    <tr>\n",
       "      <th>2073</th>\n",
       "      <td>A Taste Of Thai</td>\n",
       "      <td>Coconut Milk Unsweetened</td>\n",
       "      <td>13.5 oz</td>\n",
       "      <td>Drink</td>\n",
       "      <td>44159001</td>\n",
       "      <td>$3.59</td>\n",
       "      <td>28</td>\n",
       "      <td>738</td>\n",
       "    </tr>\n",
       "    <tr>\n",
       "      <th>2074</th>\n",
       "      <td>4C</td>\n",
       "      <td>Iced Tea Mix Regular</td>\n",
       "      <td>53 oz</td>\n",
       "      <td>Drink</td>\n",
       "      <td>44160001</td>\n",
       "      <td>$6.49</td>\n",
       "      <td>28</td>\n",
       "      <td>754</td>\n",
       "    </tr>\n",
       "  </tbody>\n",
       "</table>\n",
       "<p>2075 rows × 8 columns</p>\n",
       "</div>"
      ],
      "text/plain": [
       "         Manufacturer                  Product Name     Size     itemType  \\\n",
       "0         Rowan Dairy                    1.00% Milk    1 gal         Milk   \n",
       "1         Rowan Dairy                    1.00% Milk  1/2 gal         Milk   \n",
       "2         Rowan Dairy                    2.00% Milk    1 gal         Milk   \n",
       "3         Rowan Dairy                    2.00% Milk  1/2 gal         Milk   \n",
       "4         Rowan Dairy               Whole Milk Milk    1 gal         Milk   \n",
       "...               ...                           ...      ...          ...   \n",
       "2070          Aidells  Meatballs Pineapple Teriyaki    12 oz  Frozen Food   \n",
       "2071          Aidells     Meatballs Sundried Tomato    12 oz  Frozen Food   \n",
       "2072           Act II                Popcorn Butter    6 pkg  Frozen Food   \n",
       "2073  A Taste Of Thai      Coconut Milk Unsweetened  13.5 oz        Drink   \n",
       "2074               4C          Iced Tea Mix Regular    53 oz        Drink   \n",
       "\n",
       "           SKU BasePrice  Items_left_count  Total_case_ordered  \n",
       "0     42355001     $3.69                85                3726  \n",
       "1     42356001     $1.89                83                3702  \n",
       "2     42357001     $3.69                75                3707  \n",
       "3     42358001     $1.89                84                3723  \n",
       "4     42359001     $3.69                62                3718  \n",
       "...        ...       ...               ...                 ...  \n",
       "2070  44156001     $6.59                19                 748  \n",
       "2071  44157001     $6.59                27                 743  \n",
       "2072  44158001     $3.99                28                 737  \n",
       "2073  44159001     $3.59                28                 738  \n",
       "2074  44160001     $6.49                28                 754  \n",
       "\n",
       "[2075 rows x 8 columns]"
      ]
     },
     "execution_count": 44,
     "metadata": {},
     "output_type": "execute_result"
    }
   ],
   "source": [
    "final_df = pd.DataFrame(final_output)\n",
    "final_df"
   ]
  },
  {
   "cell_type": "code",
   "execution_count": 45,
   "metadata": {},
   "outputs": [],
   "source": [
    "userTransactionManager.commit_changes()\n",
    "userTransactionManager.close_db_connection()"
   ]
  },
  {
   "cell_type": "code",
   "execution_count": 48,
   "metadata": {},
   "outputs": [],
   "source": [
    "# conn = lite.connect(database_name + \".db\")\n",
    "# cursor = conn.cursor()"
   ]
  },
  {
   "cell_type": "code",
   "execution_count": 49,
   "metadata": {},
   "outputs": [],
   "source": [
    "# final_df.to_sql(\"inventory\", conn, if_exists=\"replace\", index=False)"
   ]
  },
  {
   "cell_type": "code",
   "execution_count": 50,
   "metadata": {},
   "outputs": [],
   "source": [
    "# cursor.execute(\"select * from inventory\")\n",
    "\n",
    "# inventory_df = pd.DataFrame(cursor.fetchall(), columns=[\n",
    "#     \"Manufacturer\", \"ProductName\", \"Size\", \"itemType\", \"SKU\", \"BasePrice\", \"Items_left_count\", \"Total_cases_ordered\"\n",
    "# ])"
   ]
  },
  {
   "cell_type": "code",
   "execution_count": 51,
   "metadata": {},
   "outputs": [],
   "source": [
    "# inventory_df.head(10)"
   ]
  },
  {
   "cell_type": "code",
   "execution_count": 52,
   "metadata": {},
   "outputs": [],
   "source": [
    "# inventory_df.shape"
   ]
  },
  {
   "cell_type": "code",
   "execution_count": null,
   "metadata": {},
   "outputs": [],
   "source": []
  },
  {
   "cell_type": "code",
   "execution_count": null,
   "metadata": {},
   "outputs": [],
   "source": []
  },
  {
   "cell_type": "code",
   "execution_count": null,
   "metadata": {},
   "outputs": [],
   "source": []
  },
  {
   "cell_type": "code",
   "execution_count": null,
   "metadata": {},
   "outputs": [],
   "source": []
  },
  {
   "cell_type": "code",
   "execution_count": null,
   "metadata": {},
   "outputs": [],
   "source": []
  },
  {
   "cell_type": "code",
   "execution_count": null,
   "metadata": {},
   "outputs": [],
   "source": []
  },
  {
   "cell_type": "code",
   "execution_count": null,
   "metadata": {},
   "outputs": [],
   "source": []
  },
  {
   "cell_type": "code",
   "execution_count": null,
   "metadata": {},
   "outputs": [],
   "source": []
  },
  {
   "cell_type": "code",
   "execution_count": null,
   "metadata": {},
   "outputs": [],
   "source": []
  },
  {
   "cell_type": "code",
   "execution_count": null,
   "metadata": {},
   "outputs": [],
   "source": []
  },
  {
   "cell_type": "code",
   "execution_count": null,
   "metadata": {},
   "outputs": [],
   "source": []
  },
  {
   "cell_type": "code",
   "execution_count": null,
   "metadata": {},
   "outputs": [],
   "source": []
  },
  {
   "cell_type": "code",
   "execution_count": null,
   "metadata": {},
   "outputs": [],
   "source": []
  },
  {
   "cell_type": "code",
   "execution_count": null,
   "metadata": {},
   "outputs": [],
   "source": []
  },
  {
   "cell_type": "code",
   "execution_count": null,
   "metadata": {},
   "outputs": [],
   "source": []
  },
  {
   "cell_type": "code",
   "execution_count": null,
   "metadata": {},
   "outputs": [],
   "source": []
  },
  {
   "cell_type": "code",
   "execution_count": null,
   "metadata": {},
   "outputs": [],
   "source": []
  },
  {
   "cell_type": "code",
   "execution_count": null,
   "metadata": {},
   "outputs": [],
   "source": []
  },
  {
   "cell_type": "code",
   "execution_count": null,
   "metadata": {},
   "outputs": [],
   "source": []
  },
  {
   "cell_type": "code",
   "execution_count": null,
   "metadata": {},
   "outputs": [],
   "source": []
  },
  {
   "cell_type": "code",
   "execution_count": null,
   "metadata": {},
   "outputs": [],
   "source": []
  },
  {
   "cell_type": "code",
   "execution_count": null,
   "metadata": {},
   "outputs": [],
   "source": []
  },
  {
   "cell_type": "code",
   "execution_count": null,
   "metadata": {},
   "outputs": [],
   "source": []
  },
  {
   "cell_type": "code",
   "execution_count": null,
   "metadata": {},
   "outputs": [],
   "source": []
  },
  {
   "cell_type": "code",
   "execution_count": null,
   "metadata": {},
   "outputs": [],
   "source": []
  },
  {
   "cell_type": "code",
   "execution_count": null,
   "metadata": {},
   "outputs": [],
   "source": []
  },
  {
   "cell_type": "code",
   "execution_count": null,
   "metadata": {},
   "outputs": [],
   "source": []
  },
  {
   "cell_type": "code",
   "execution_count": null,
   "metadata": {},
   "outputs": [],
   "source": []
  },
  {
   "cell_type": "code",
   "execution_count": null,
   "metadata": {},
   "outputs": [],
   "source": []
  },
  {
   "cell_type": "code",
   "execution_count": null,
   "metadata": {},
   "outputs": [],
   "source": []
  },
  {
   "cell_type": "code",
   "execution_count": null,
   "metadata": {},
   "outputs": [],
   "source": []
  },
  {
   "cell_type": "code",
   "execution_count": null,
   "metadata": {},
   "outputs": [],
   "source": []
  },
  {
   "cell_type": "code",
   "execution_count": null,
   "metadata": {},
   "outputs": [],
   "source": []
  },
  {
   "cell_type": "code",
   "execution_count": null,
   "metadata": {},
   "outputs": [],
   "source": []
  },
  {
   "cell_type": "code",
   "execution_count": null,
   "metadata": {},
   "outputs": [],
   "source": []
  },
  {
   "cell_type": "code",
   "execution_count": null,
   "metadata": {},
   "outputs": [],
   "source": []
  }
 ],
 "metadata": {
  "kernelspec": {
   "display_name": "Python 3",
   "language": "python",
   "name": "python3"
  },
  "language_info": {
   "codemirror_mode": {
    "name": "ipython",
    "version": 3
   },
   "file_extension": ".py",
   "mimetype": "text/x-python",
   "name": "python",
   "nbconvert_exporter": "python",
   "pygments_lexer": "ipython3",
   "version": "3.13.1"
  }
 },
 "nbformat": 4,
 "nbformat_minor": 4
}
