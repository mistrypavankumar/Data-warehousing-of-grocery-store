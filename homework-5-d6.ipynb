{
 "cells": [
  {
   "cell_type": "markdown",
   "metadata": {},
   "source": [
    "#### Deliverable 6: Sales Fact Table (Daily Level) Implementation"
   ]
  },
  {
   "cell_type": "code",
   "execution_count": 34,
   "metadata": {},
   "outputs": [],
   "source": [
    "import pandas as pd\n",
    "import sqlite3 as lite\n",
    "from datetime import datetime"
   ]
  },
  {
   "cell_type": "code",
   "execution_count": 35,
   "metadata": {},
   "outputs": [],
   "source": [
    "conn = lite.connect(\"store1.db\")"
   ]
  },
  {
   "cell_type": "code",
   "execution_count": 36,
   "metadata": {},
   "outputs": [],
   "source": [
    "# load dimension tables\n",
    "date_dim = pd.read_sql(\"select DateKey, Date from DateDimension\", conn)\n",
    "products = pd.read_sql(\"select ProductKey, SKU from ProductDimension\", conn)\n",
    "stores = pd.read_sql(\"select StoreKey from StoreDimension\", conn)"
   ]
  },
  {
   "cell_type": "code",
   "execution_count": 37,
   "metadata": {},
   "outputs": [],
   "source": [
    "store_databases = {\n",
    "    \"Store 1\": {\n",
    "        \"database_name\": \"store1.db\",\n",
    "        \"transactions_table_name\": \"user_transactions\",\n",
    "    },\n",
    "    \"Store 2\": {\n",
    "        \"database_name\": \"store2.db\",\n",
    "        \"transactions_table_name\": \"user_transactions\",\n",
    "    },\n",
    "    \"Store 3\": {\n",
    "        \"database_name\": \"store3.db\",\n",
    "        \"transactions_table_name\": \"user_transactions\",\n",
    "    },\n",
    "    \"Store 4\": {\n",
    "        \"database_name\": \"store4.db\",\n",
    "        \"transactions_table_name\": \"sales_transactions\"\n",
    "    }\n",
    "}"
   ]
  },
  {
   "cell_type": "code",
   "execution_count": 38,
   "metadata": {},
   "outputs": [],
   "source": [
    "def load_all_transactions(store):\n",
    "    conn = lite.connect(store['database_name'])\n",
    "    table_name = store['transactions_table_name']\n",
    "\n",
    "    transactions_query = f\"select * from {table_name}\"\n",
    "    transaction_df = pd.read_sql(transactions_query, conn)\n",
    "\n",
    "    conn.close()\n",
    "    return transaction_df"
   ]
  },
  {
   "cell_type": "code",
   "execution_count": 39,
   "metadata": {},
   "outputs": [
    {
     "name": "stdout",
     "output_type": "stream",
     "text": [
      "Processing Store 1...\n",
      "Processing Store 2...\n",
      "Processing Store 3...\n",
      "Processing Store 4...\n"
     ]
    }
   ],
   "source": [
    "all_daily_transactions = []\n",
    "\n",
    "for store_name, config in store_databases.items():\n",
    "    print(f\"Processing {store_name}...\")\n",
    "\n",
    "    # Load transactions\n",
    "    transactions = load_all_transactions(config)\n",
    "    transactions['StoreKey'] = store_name.split(\" \")[1]\n",
    "\n",
    "    # Convert date to datetime and merge with date dimension\n",
    "    transactions['temp_date'] = pd.to_datetime(transactions['date'])\n",
    "    transactions = transactions.merge(\n",
    "        date_dim,\n",
    "        left_on=\"temp_date\",\n",
    "        right_on=pd.to_datetime(date_dim['Date']),\n",
    "        how='left'\n",
    "    ).drop(columns=['temp_date', 'Date'])\n",
    "\n",
    "    # Ensure 'sku' is the same type as 'SKU'\n",
    "    transactions['sku'] = pd.to_numeric(\n",
    "        # Handles NaN if needed\n",
    "        transactions['sku'], errors='coerce').astype('Int64')\n",
    "\n",
    "    # Merge with product dimension\n",
    "    transactions = transactions.merge(\n",
    "        products,\n",
    "        left_on='sku',\n",
    "        right_on='SKU',\n",
    "        how=\"left\"\n",
    "    )\n",
    "\n",
    "    # Calculate metrics\n",
    "    transactions['QuantitySold'] = transactions['cases_ordered'] * 12\n",
    "    transactions['TotalDollarSales'] = transactions['sales_price'] * \\\n",
    "        transactions['QuantitySold']\n",
    "\n",
    "    # Assume the store buys the product at 70% of the retail price\n",
    "    transactions['TotalCostToStore'] = transactions['sales_price'] * \\\n",
    "        0.7 * transactions['QuantitySold']\n",
    "\n",
    "    transactions['GrossProfit'] = transactions['TotalDollarSales'] - \\\n",
    "        transactions['TotalCostToStore']\n",
    "\n",
    "    # Group by DateKey, ProductKey, StoreKey to get daily aggregates\n",
    "    daily_agg = transactions.groupby(['DateKey', \"ProductKey\", \"StoreKey\"]).agg({\n",
    "        'QuantitySold': 'sum',\n",
    "        'TotalDollarSales': 'sum',\n",
    "        'TotalCostToStore': 'sum',\n",
    "        'GrossProfit': 'sum',\n",
    "        'customer_number': 'nunique'   # Count unique customers per day\n",
    "    }).reset_index()\n",
    "\n",
    "    # Rename columns to match the required schema\n",
    "    daily_agg = daily_agg.rename(columns={\n",
    "        'QuantitySold': '#SoldToday',\n",
    "        'TotalDollarSales': 'SalesTotal',\n",
    "        'TotalCostToStore': 'CostOfItemsSold',\n",
    "        'customer_number': 'DailyCustomerCount'\n",
    "    })\n",
    "\n",
    "    all_daily_transactions.append(daily_agg)"
   ]
  },
  {
   "cell_type": "code",
   "execution_count": 40,
   "metadata": {},
   "outputs": [],
   "source": [
    "# combine all stores data\n",
    "daily_sales_fact = pd.concat(all_daily_transactions)"
   ]
  },
  {
   "cell_type": "code",
   "execution_count": 41,
   "metadata": {},
   "outputs": [
    {
     "data": {
      "text/html": [
       "<div>\n",
       "<style scoped>\n",
       "    .dataframe tbody tr th:only-of-type {\n",
       "        vertical-align: middle;\n",
       "    }\n",
       "\n",
       "    .dataframe tbody tr th {\n",
       "        vertical-align: top;\n",
       "    }\n",
       "\n",
       "    .dataframe thead th {\n",
       "        text-align: right;\n",
       "    }\n",
       "</style>\n",
       "<table border=\"1\" class=\"dataframe\">\n",
       "  <thead>\n",
       "    <tr style=\"text-align: right;\">\n",
       "      <th></th>\n",
       "      <th>DateKey</th>\n",
       "      <th>ProductKey</th>\n",
       "      <th>StoreKey</th>\n",
       "      <th>#SoldToday</th>\n",
       "      <th>SalesTotal</th>\n",
       "      <th>CostOfItemsSold</th>\n",
       "      <th>GrossProfit</th>\n",
       "      <th>DailyCustomerCount</th>\n",
       "    </tr>\n",
       "  </thead>\n",
       "  <tbody>\n",
       "    <tr>\n",
       "      <th>237452</th>\n",
       "      <td>104.0</td>\n",
       "      <td>1399</td>\n",
       "      <td>4</td>\n",
       "      <td>156</td>\n",
       "      <td>182.52</td>\n",
       "      <td>127.764</td>\n",
       "      <td>54.756</td>\n",
       "      <td>1</td>\n",
       "    </tr>\n",
       "    <tr>\n",
       "      <th>766562</th>\n",
       "      <td>336.0</td>\n",
       "      <td>309</td>\n",
       "      <td>1</td>\n",
       "      <td>57360</td>\n",
       "      <td>125618.40</td>\n",
       "      <td>87932.880</td>\n",
       "      <td>37685.520</td>\n",
       "      <td>10</td>\n",
       "    </tr>\n",
       "    <tr>\n",
       "      <th>140212</th>\n",
       "      <td>62.0</td>\n",
       "      <td>630</td>\n",
       "      <td>1</td>\n",
       "      <td>672</td>\n",
       "      <td>7754.88</td>\n",
       "      <td>5428.416</td>\n",
       "      <td>2326.464</td>\n",
       "      <td>4</td>\n",
       "    </tr>\n",
       "    <tr>\n",
       "      <th>303568</th>\n",
       "      <td>133.0</td>\n",
       "      <td>1497</td>\n",
       "      <td>2</td>\n",
       "      <td>4200</td>\n",
       "      <td>16716.00</td>\n",
       "      <td>11701.200</td>\n",
       "      <td>5014.800</td>\n",
       "      <td>7</td>\n",
       "    </tr>\n",
       "    <tr>\n",
       "      <th>629277</th>\n",
       "      <td>275.0</td>\n",
       "      <td>1221</td>\n",
       "      <td>4</td>\n",
       "      <td>136488</td>\n",
       "      <td>421747.92</td>\n",
       "      <td>295223.544</td>\n",
       "      <td>126524.376</td>\n",
       "      <td>22</td>\n",
       "    </tr>\n",
       "  </tbody>\n",
       "</table>\n",
       "</div>"
      ],
      "text/plain": [
       "        DateKey  ProductKey StoreKey  #SoldToday  SalesTotal  CostOfItemsSold  \\\n",
       "237452    104.0        1399        4         156      182.52          127.764   \n",
       "766562    336.0         309        1       57360   125618.40        87932.880   \n",
       "140212     62.0         630        1         672     7754.88         5428.416   \n",
       "303568    133.0        1497        2        4200    16716.00        11701.200   \n",
       "629277    275.0        1221        4      136488   421747.92       295223.544   \n",
       "\n",
       "        GrossProfit  DailyCustomerCount  \n",
       "237452       54.756                   1  \n",
       "766562    37685.520                  10  \n",
       "140212     2326.464                   4  \n",
       "303568     5014.800                   7  \n",
       "629277   126524.376                  22  "
      ]
     },
     "execution_count": 41,
     "metadata": {},
     "output_type": "execute_result"
    }
   ],
   "source": [
    "daily_sales_fact.sample(5)"
   ]
  },
  {
   "cell_type": "code",
   "execution_count": 42,
   "metadata": {},
   "outputs": [
    {
     "data": {
      "text/plain": [
       "(3348702, 8)"
      ]
     },
     "execution_count": 42,
     "metadata": {},
     "output_type": "execute_result"
    }
   ],
   "source": [
    "daily_sales_fact.shape"
   ]
  },
  {
   "cell_type": "code",
   "execution_count": 43,
   "metadata": {},
   "outputs": [
    {
     "data": {
      "text/plain": [
       "StoreKey\n",
       "4    839003\n",
       "2    837784\n",
       "1    837207\n",
       "3    834708\n",
       "Name: count, dtype: int64"
      ]
     },
     "execution_count": 43,
     "metadata": {},
     "output_type": "execute_result"
    }
   ],
   "source": [
    "daily_sales_fact['StoreKey'].value_counts()"
   ]
  },
  {
   "cell_type": "markdown",
   "metadata": {},
   "source": [
    "##### Filter out any rows with missing keys"
   ]
  },
  {
   "cell_type": "code",
   "execution_count": 44,
   "metadata": {},
   "outputs": [
    {
     "data": {
      "text/html": [
       "<div>\n",
       "<style scoped>\n",
       "    .dataframe tbody tr th:only-of-type {\n",
       "        vertical-align: middle;\n",
       "    }\n",
       "\n",
       "    .dataframe tbody tr th {\n",
       "        vertical-align: top;\n",
       "    }\n",
       "\n",
       "    .dataframe thead th {\n",
       "        text-align: right;\n",
       "    }\n",
       "</style>\n",
       "<table border=\"1\" class=\"dataframe\">\n",
       "  <thead>\n",
       "    <tr style=\"text-align: right;\">\n",
       "      <th></th>\n",
       "      <th>DateKey</th>\n",
       "      <th>ProductKey</th>\n",
       "      <th>StoreKey</th>\n",
       "      <th>#SoldToday</th>\n",
       "      <th>SalesTotal</th>\n",
       "      <th>CostOfItemsSold</th>\n",
       "      <th>GrossProfit</th>\n",
       "      <th>DailyCustomerCount</th>\n",
       "    </tr>\n",
       "  </thead>\n",
       "  <tbody>\n",
       "    <tr>\n",
       "      <th>654992</th>\n",
       "      <td>286.0</td>\n",
       "      <td>1766</td>\n",
       "      <td>4</td>\n",
       "      <td>142968</td>\n",
       "      <td>1160900.16</td>\n",
       "      <td>812630.112</td>\n",
       "      <td>348270.048</td>\n",
       "      <td>23</td>\n",
       "    </tr>\n",
       "    <tr>\n",
       "      <th>428803</th>\n",
       "      <td>189.0</td>\n",
       "      <td>960</td>\n",
       "      <td>3</td>\n",
       "      <td>8844</td>\n",
       "      <td>26532.00</td>\n",
       "      <td>18572.400</td>\n",
       "      <td>7959.600</td>\n",
       "      <td>11</td>\n",
       "    </tr>\n",
       "    <tr>\n",
       "      <th>453669</th>\n",
       "      <td>198.0</td>\n",
       "      <td>2202</td>\n",
       "      <td>4</td>\n",
       "      <td>600</td>\n",
       "      <td>828.00</td>\n",
       "      <td>579.600</td>\n",
       "      <td>248.400</td>\n",
       "      <td>2</td>\n",
       "    </tr>\n",
       "    <tr>\n",
       "      <th>200177</th>\n",
       "      <td>89.0</td>\n",
       "      <td>1145</td>\n",
       "      <td>3</td>\n",
       "      <td>78012</td>\n",
       "      <td>350273.88</td>\n",
       "      <td>245191.716</td>\n",
       "      <td>105082.164</td>\n",
       "      <td>33</td>\n",
       "    </tr>\n",
       "    <tr>\n",
       "      <th>769241</th>\n",
       "      <td>336.0</td>\n",
       "      <td>1307</td>\n",
       "      <td>4</td>\n",
       "      <td>133704</td>\n",
       "      <td>419830.56</td>\n",
       "      <td>293881.392</td>\n",
       "      <td>125949.168</td>\n",
       "      <td>18</td>\n",
       "    </tr>\n",
       "  </tbody>\n",
       "</table>\n",
       "</div>"
      ],
      "text/plain": [
       "        DateKey  ProductKey StoreKey  #SoldToday  SalesTotal  CostOfItemsSold  \\\n",
       "654992    286.0        1766        4      142968  1160900.16       812630.112   \n",
       "428803    189.0         960        3        8844    26532.00        18572.400   \n",
       "453669    198.0        2202        4         600      828.00          579.600   \n",
       "200177     89.0        1145        3       78012   350273.88       245191.716   \n",
       "769241    336.0        1307        4      133704   419830.56       293881.392   \n",
       "\n",
       "        GrossProfit  DailyCustomerCount  \n",
       "654992   348270.048                  23  \n",
       "428803     7959.600                  11  \n",
       "453669      248.400                   2  \n",
       "200177   105082.164                  33  \n",
       "769241   125949.168                  18  "
      ]
     },
     "execution_count": 44,
     "metadata": {},
     "output_type": "execute_result"
    }
   ],
   "source": [
    "daily_sales_fact = daily_sales_fact.dropna(subset=['DateKey', \"ProductKey\", \"StoreKey\"])\n",
    "daily_sales_fact.sample(5)"
   ]
  },
  {
   "cell_type": "code",
   "execution_count": 45,
   "metadata": {},
   "outputs": [
    {
     "data": {
      "text/plain": [
       "(3348702, 8)"
      ]
     },
     "execution_count": 45,
     "metadata": {},
     "output_type": "execute_result"
    }
   ],
   "source": [
    "daily_sales_fact.shape"
   ]
  },
  {
   "cell_type": "markdown",
   "metadata": {},
   "source": [
    "##### convert keys to integers"
   ]
  },
  {
   "cell_type": "code",
   "execution_count": 46,
   "metadata": {},
   "outputs": [
    {
     "name": "stdout",
     "output_type": "stream",
     "text": [
      "<class 'pandas.core.frame.DataFrame'>\n",
      "Index: 3348702 entries, 0 to 839002\n",
      "Data columns (total 8 columns):\n",
      " #   Column              Dtype  \n",
      "---  ------              -----  \n",
      " 0   DateKey             float64\n",
      " 1   ProductKey          int64  \n",
      " 2   StoreKey            object \n",
      " 3   #SoldToday          int64  \n",
      " 4   SalesTotal          float64\n",
      " 5   CostOfItemsSold     float64\n",
      " 6   GrossProfit         float64\n",
      " 7   DailyCustomerCount  int64  \n",
      "dtypes: float64(4), int64(3), object(1)\n",
      "memory usage: 229.9+ MB\n"
     ]
    }
   ],
   "source": [
    "daily_sales_fact.info()"
   ]
  },
  {
   "cell_type": "code",
   "execution_count": 47,
   "metadata": {},
   "outputs": [],
   "source": [
    "daily_sales_fact['DateKey'] = daily_sales_fact['DateKey'].astype(int)\n",
    "daily_sales_fact['ProductKey'] = daily_sales_fact['ProductKey'].astype(int)\n",
    "daily_sales_fact['StoreKey'] = daily_sales_fact['StoreKey'].astype(int)"
   ]
  },
  {
   "cell_type": "code",
   "execution_count": 48,
   "metadata": {},
   "outputs": [
    {
     "data": {
      "text/plain": [
       "<sqlite3.Cursor at 0x1850b1e3540>"
      ]
     },
     "execution_count": 48,
     "metadata": {},
     "output_type": "execute_result"
    }
   ],
   "source": [
    "curr = conn.cursor()\n",
    "\n",
    "curr.execute(\"Drop table if exists SalesFact_DailyLevel\")\n",
    "curr.execute(\"\"\"\n",
    "    CREATE TABLE SalesFact_DailyLevel (\n",
    "        DateKey INT NOT NULL,\n",
    "        ProductKey INT NOT NULL,\n",
    "        StoreKey INT NOT NULL,\n",
    "        \"#SoldToday\" INT NOT NULL,\n",
    "        CostOfItemsSold REAL NOT NULL,\n",
    "        SalesTotal REAL NOT NULL,\n",
    "        GrossProfit REAL NOT NULL,\n",
    "        DailyCustomerCount INT NOT NULL,\n",
    "        PRIMARY KEY (DateKey, ProductKey, StoreKey),\n",
    "        FOREIGN KEY (DateKey) REFERENCES DateDimension(DateKey),\n",
    "        FOREIGN KEY (ProductKey) REFERENCES ProductDimension(ProductKey),\n",
    "        FOREIGN KEY (StoreKey) REFERENCES StoreDimension(StoreKey)\n",
    "    );\n",
    "\"\"\")"
   ]
  },
  {
   "cell_type": "code",
   "execution_count": 49,
   "metadata": {},
   "outputs": [
    {
     "data": {
      "text/plain": [
       "3348702"
      ]
     },
     "execution_count": 49,
     "metadata": {},
     "output_type": "execute_result"
    }
   ],
   "source": [
    "daily_sales_fact.to_sql(\"SalesFact_DailyLevel\", conn, if_exists='replace', index=False)"
   ]
  },
  {
   "cell_type": "markdown",
   "metadata": {},
   "source": [
    "##### Test"
   ]
  },
  {
   "cell_type": "code",
   "execution_count": 50,
   "metadata": {},
   "outputs": [
    {
     "data": {
      "text/html": [
       "<div>\n",
       "<style scoped>\n",
       "    .dataframe tbody tr th:only-of-type {\n",
       "        vertical-align: middle;\n",
       "    }\n",
       "\n",
       "    .dataframe tbody tr th {\n",
       "        vertical-align: top;\n",
       "    }\n",
       "\n",
       "    .dataframe thead th {\n",
       "        text-align: right;\n",
       "    }\n",
       "</style>\n",
       "<table border=\"1\" class=\"dataframe\">\n",
       "  <thead>\n",
       "    <tr style=\"text-align: right;\">\n",
       "      <th></th>\n",
       "      <th>DateKey</th>\n",
       "      <th>ProductKey</th>\n",
       "      <th>StoreKey</th>\n",
       "      <th>#SoldToday</th>\n",
       "      <th>SalesTotal</th>\n",
       "      <th>CostOfItemsSold</th>\n",
       "      <th>GrossProfit</th>\n",
       "      <th>DailyCustomerCount</th>\n",
       "    </tr>\n",
       "  </thead>\n",
       "  <tbody>\n",
       "    <tr>\n",
       "      <th>0</th>\n",
       "      <td>1</td>\n",
       "      <td>1</td>\n",
       "      <td>1</td>\n",
       "      <td>1440</td>\n",
       "      <td>3945.60</td>\n",
       "      <td>2761.920</td>\n",
       "      <td>1183.680</td>\n",
       "      <td>20</td>\n",
       "    </tr>\n",
       "    <tr>\n",
       "      <th>1</th>\n",
       "      <td>1</td>\n",
       "      <td>2</td>\n",
       "      <td>1</td>\n",
       "      <td>1008</td>\n",
       "      <td>1985.76</td>\n",
       "      <td>1390.032</td>\n",
       "      <td>595.728</td>\n",
       "      <td>14</td>\n",
       "    </tr>\n",
       "    <tr>\n",
       "      <th>2</th>\n",
       "      <td>1</td>\n",
       "      <td>3</td>\n",
       "      <td>1</td>\n",
       "      <td>1296</td>\n",
       "      <td>5689.44</td>\n",
       "      <td>3982.608</td>\n",
       "      <td>1706.832</td>\n",
       "      <td>18</td>\n",
       "    </tr>\n",
       "    <tr>\n",
       "      <th>3</th>\n",
       "      <td>1</td>\n",
       "      <td>4</td>\n",
       "      <td>1</td>\n",
       "      <td>1296</td>\n",
       "      <td>5689.44</td>\n",
       "      <td>3982.608</td>\n",
       "      <td>1706.832</td>\n",
       "      <td>18</td>\n",
       "    </tr>\n",
       "    <tr>\n",
       "      <th>4</th>\n",
       "      <td>1</td>\n",
       "      <td>5</td>\n",
       "      <td>1</td>\n",
       "      <td>1296</td>\n",
       "      <td>5689.44</td>\n",
       "      <td>3982.608</td>\n",
       "      <td>1706.832</td>\n",
       "      <td>18</td>\n",
       "    </tr>\n",
       "    <tr>\n",
       "      <th>5</th>\n",
       "      <td>1</td>\n",
       "      <td>6</td>\n",
       "      <td>1</td>\n",
       "      <td>1800</td>\n",
       "      <td>5922.00</td>\n",
       "      <td>4145.400</td>\n",
       "      <td>1776.600</td>\n",
       "      <td>25</td>\n",
       "    </tr>\n",
       "    <tr>\n",
       "      <th>6</th>\n",
       "      <td>1</td>\n",
       "      <td>7</td>\n",
       "      <td>1</td>\n",
       "      <td>936</td>\n",
       "      <td>2059.20</td>\n",
       "      <td>1441.440</td>\n",
       "      <td>617.760</td>\n",
       "      <td>13</td>\n",
       "    </tr>\n",
       "    <tr>\n",
       "      <th>7</th>\n",
       "      <td>1</td>\n",
       "      <td>8</td>\n",
       "      <td>1</td>\n",
       "      <td>936</td>\n",
       "      <td>11934.00</td>\n",
       "      <td>8353.800</td>\n",
       "      <td>3580.200</td>\n",
       "      <td>13</td>\n",
       "    </tr>\n",
       "    <tr>\n",
       "      <th>8</th>\n",
       "      <td>1</td>\n",
       "      <td>9</td>\n",
       "      <td>1</td>\n",
       "      <td>1080</td>\n",
       "      <td>5929.20</td>\n",
       "      <td>4150.440</td>\n",
       "      <td>1778.760</td>\n",
       "      <td>15</td>\n",
       "    </tr>\n",
       "    <tr>\n",
       "      <th>9</th>\n",
       "      <td>1</td>\n",
       "      <td>10</td>\n",
       "      <td>1</td>\n",
       "      <td>1296</td>\n",
       "      <td>5119.20</td>\n",
       "      <td>3583.440</td>\n",
       "      <td>1535.760</td>\n",
       "      <td>18</td>\n",
       "    </tr>\n",
       "  </tbody>\n",
       "</table>\n",
       "</div>"
      ],
      "text/plain": [
       "   DateKey  ProductKey  StoreKey  #SoldToday  SalesTotal  CostOfItemsSold  \\\n",
       "0        1           1         1        1440     3945.60         2761.920   \n",
       "1        1           2         1        1008     1985.76         1390.032   \n",
       "2        1           3         1        1296     5689.44         3982.608   \n",
       "3        1           4         1        1296     5689.44         3982.608   \n",
       "4        1           5         1        1296     5689.44         3982.608   \n",
       "5        1           6         1        1800     5922.00         4145.400   \n",
       "6        1           7         1         936     2059.20         1441.440   \n",
       "7        1           8         1         936    11934.00         8353.800   \n",
       "8        1           9         1        1080     5929.20         4150.440   \n",
       "9        1          10         1        1296     5119.20         3583.440   \n",
       "\n",
       "   GrossProfit  DailyCustomerCount  \n",
       "0     1183.680                  20  \n",
       "1      595.728                  14  \n",
       "2     1706.832                  18  \n",
       "3     1706.832                  18  \n",
       "4     1706.832                  18  \n",
       "5     1776.600                  25  \n",
       "6      617.760                  13  \n",
       "7     3580.200                  13  \n",
       "8     1778.760                  15  \n",
       "9     1535.760                  18  "
      ]
     },
     "execution_count": 50,
     "metadata": {},
     "output_type": "execute_result"
    }
   ],
   "source": [
    "sales_fact = pd.read_sql(\"select * from SalesFact_DailyLevel limit 10\", conn)\n",
    "sales_fact"
   ]
  },
  {
   "cell_type": "code",
   "execution_count": 51,
   "metadata": {},
   "outputs": [],
   "source": [
    "curr.close()\n",
    "conn.close()"
   ]
  },
  {
   "cell_type": "code",
   "execution_count": null,
   "metadata": {},
   "outputs": [],
   "source": []
  },
  {
   "cell_type": "code",
   "execution_count": 52,
   "metadata": {},
   "outputs": [],
   "source": [
    "daily_sales_fact.to_csv(\"SalesFact_DailyLevel.csv\", index=False)"
   ]
  },
  {
   "cell_type": "code",
   "execution_count": null,
   "metadata": {},
   "outputs": [],
   "source": []
  }
 ],
 "metadata": {
  "kernelspec": {
   "display_name": "Python 3",
   "language": "python",
   "name": "python3"
  },
  "language_info": {
   "codemirror_mode": {
    "name": "ipython",
    "version": 3
   },
   "file_extension": ".py",
   "mimetype": "text/x-python",
   "name": "python",
   "nbconvert_exporter": "python",
   "pygments_lexer": "ipython3",
   "version": "3.13.1"
  }
 },
 "nbformat": 4,
 "nbformat_minor": 2
}
