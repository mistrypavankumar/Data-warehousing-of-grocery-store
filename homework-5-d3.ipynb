{
 "cells": [
  {
   "cell_type": "markdown",
   "metadata": {},
   "source": [
    "### Deliverable-3"
   ]
  },
  {
   "cell_type": "code",
   "execution_count": 1,
   "metadata": {},
   "outputs": [],
   "source": [
    "import sqlite3 as lite\n",
    "import pandas as pd"
   ]
  },
  {
   "cell_type": "code",
   "execution_count": 2,
   "metadata": {},
   "outputs": [],
   "source": [
    "conn = lite.connect(\"store1.db\")\n",
    "cur = conn.cursor()"
   ]
  },
  {
   "cell_type": "code",
   "execution_count": 3,
   "metadata": {},
   "outputs": [
    {
     "data": {
      "text/plain": [
       "<sqlite3.Cursor at 0x1c205d8c840>"
      ]
     },
     "execution_count": 3,
     "metadata": {},
     "output_type": "execute_result"
    }
   ],
   "source": [
    "cur.execute(\"DROP TABLE IF EXISTS StoreDimension\")\n",
    "\n",
    "cur.execute(\"\"\"\n",
    "    CREATE TABLE StoreDimension(\n",
    "            StoreKey int primary key,\n",
    "            StoreManager varchar(20),\n",
    "            StoreStreetAddr varchar(50),\n",
    "            StoreTown varchar(20),\n",
    "            StoreZipCode varchar(7),\n",
    "            \"StorePhone#\" varchar(10),\n",
    "            StoreState varchar(15)\n",
    "            )\n",
    "\"\"\")"
   ]
  },
  {
   "cell_type": "code",
   "execution_count": 7,
   "metadata": {},
   "outputs": [],
   "source": [
    "store_df = pd.DataFrame({\n",
    "    'StoreKey': [1],\n",
    "    'StoreManager': ['Pavan Kumar Mistry'],\n",
    "    'StoreStreetAddr':['123 Main St'],\n",
    "    'StoreTown':['Glassboro'],\n",
    "    'StoreZipCode': ['08028'],\n",
    "    'StorePhone#': ['(856) 123-4567'],\n",
    "    'StoreState':['NJ'],\n",
    "})"
   ]
  },
  {
   "cell_type": "code",
   "execution_count": 6,
   "metadata": {},
   "outputs": [
    {
     "data": {
      "text/html": [
       "<div>\n",
       "<style scoped>\n",
       "    .dataframe tbody tr th:only-of-type {\n",
       "        vertical-align: middle;\n",
       "    }\n",
       "\n",
       "    .dataframe tbody tr th {\n",
       "        vertical-align: top;\n",
       "    }\n",
       "\n",
       "    .dataframe thead th {\n",
       "        text-align: right;\n",
       "    }\n",
       "</style>\n",
       "<table border=\"1\" class=\"dataframe\">\n",
       "  <thead>\n",
       "    <tr style=\"text-align: right;\">\n",
       "      <th></th>\n",
       "      <th>StoreKey</th>\n",
       "      <th>StoreManager</th>\n",
       "      <th>StoreStreetAddr</th>\n",
       "      <th>StoreTown</th>\n",
       "      <th>StoreZipCode</th>\n",
       "      <th>StorePhone</th>\n",
       "      <th>StoreState</th>\n",
       "    </tr>\n",
       "  </thead>\n",
       "  <tbody>\n",
       "    <tr>\n",
       "      <th>0</th>\n",
       "      <td>1</td>\n",
       "      <td>Pavan Kumar Mistry</td>\n",
       "      <td>123 Main St</td>\n",
       "      <td>Glassboro</td>\n",
       "      <td>08028</td>\n",
       "      <td>(856) 123-4567</td>\n",
       "      <td>NJ</td>\n",
       "    </tr>\n",
       "  </tbody>\n",
       "</table>\n",
       "</div>"
      ],
      "text/plain": [
       "   StoreKey        StoreManager StoreStreetAddr  StoreTown StoreZipCode  \\\n",
       "0         1  Pavan Kumar Mistry     123 Main St  Glassboro        08028   \n",
       "\n",
       "       StorePhone StoreState  \n",
       "0  (856) 123-4567         NJ  "
      ]
     },
     "execution_count": 6,
     "metadata": {},
     "output_type": "execute_result"
    }
   ],
   "source": [
    "store_df"
   ]
  },
  {
   "cell_type": "code",
   "execution_count": 8,
   "metadata": {},
   "outputs": [
    {
     "data": {
      "text/plain": [
       "1"
      ]
     },
     "execution_count": 8,
     "metadata": {},
     "output_type": "execute_result"
    }
   ],
   "source": [
    "store_df.to_sql('StoreDimension', conn, if_exists='replace', index=False)"
   ]
  },
  {
   "cell_type": "code",
   "execution_count": 9,
   "metadata": {},
   "outputs": [],
   "source": [
    "cur.close()\n",
    "conn.close()"
   ]
  }
 ],
 "metadata": {
  "kernelspec": {
   "display_name": "Python 3",
   "language": "python",
   "name": "python3"
  },
  "language_info": {
   "codemirror_mode": {
    "name": "ipython",
    "version": 3
   },
   "file_extension": ".py",
   "mimetype": "text/x-python",
   "name": "python",
   "nbconvert_exporter": "python",
   "pygments_lexer": "ipython3",
   "version": "3.13.1"
  }
 },
 "nbformat": 4,
 "nbformat_minor": 2
}
